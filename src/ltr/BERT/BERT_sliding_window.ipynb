{
  "cells": [
    {
      "cell_type": "markdown",
      "metadata": {
        "id": "-T6AV3F2Qy2H"
      },
      "source": [
        "## Load necessary libraries"
      ]
    },
    {
      "cell_type": "code",
      "execution_count": 1,
      "metadata": {
        "id": "muJnTQZk8N0x"
      },
      "outputs": [],
      "source": [
        "#!pip install transformers\n",
        "#!pip install tensorflow\n",
        "#!pip install biopython"
      ]
    },
    {
      "cell_type": "code",
      "execution_count": 1,
      "metadata": {},
      "outputs": [],
      "source": [
        "import pickle \n",
        "embeddings, labels, seq_ids = pickle.load(open(\"/var/tmp/xhorvat9/ltr_bert/NewClassifiers/LTR_classifier/BERT/LTRBERT_LTR_classifier_embeddings.b_average\", \"rb\"))"
      ]
    },
    {
      "cell_type": "code",
      "execution_count": 2,
      "metadata": {},
      "outputs": [],
      "source": [
        "import numpy as np\n",
        "neg, pos = np.unique(labels, return_counts=True)[1]"
      ]
    },
    {
      "cell_type": "code",
      "execution_count": 31,
      "metadata": {},
      "outputs": [],
      "source": [
        "from sklearn.model_selection import train_test_split\n",
        "X_train, X_test, y_train, y_test = train_test_split(embeddings, labels, random_state=42, test_size=0.1)"
      ]
    },
    {
      "cell_type": "code",
      "execution_count": 11,
      "metadata": {},
      "outputs": [],
      "source": [
        "weight_for_0 = (1 / neg) * (len(labels) / 2.0)\n",
        "weight_for_1 = (1 / pos) * (len(labels) / 2.0)\n",
        "class_weight = {0: weight_for_0, 1: weight_for_1}"
      ]
    },
    {
      "cell_type": "code",
      "execution_count": 70,
      "metadata": {},
      "outputs": [
        {
          "name": "stdout",
          "output_type": "stream",
          "text": [
            "Epoch 1/10\n",
            "5618/5618 [==============================] - 16s 3ms/step - loss: 0.4700 - binary_accuracy: 0.7852 - weighted_binary_accuracy: 0.7852 - val_loss: 0.4345 - val_binary_accuracy: 0.7988 - val_weighted_binary_accuracy: 0.7988\n",
            "Epoch 2/10\n",
            "5618/5618 [==============================] - 15s 3ms/step - loss: 0.4458 - binary_accuracy: 0.7962 - weighted_binary_accuracy: 0.7962 - val_loss: 0.4191 - val_binary_accuracy: 0.8043 - val_weighted_binary_accuracy: 0.8043\n",
            "Epoch 3/10\n",
            "5618/5618 [==============================] - 15s 3ms/step - loss: 0.4368 - binary_accuracy: 0.8025 - weighted_binary_accuracy: 0.8025 - val_loss: 0.4205 - val_binary_accuracy: 0.8120 - val_weighted_binary_accuracy: 0.8120\n",
            "Epoch 4/10\n",
            "5618/5618 [==============================] - 15s 3ms/step - loss: 0.4324 - binary_accuracy: 0.8048 - weighted_binary_accuracy: 0.8048 - val_loss: 0.4225 - val_binary_accuracy: 0.8084 - val_weighted_binary_accuracy: 0.8084\n",
            "Epoch 5/10\n",
            "5618/5618 [==============================] - 14s 3ms/step - loss: 0.4285 - binary_accuracy: 0.8060 - weighted_binary_accuracy: 0.8060 - val_loss: 0.4077 - val_binary_accuracy: 0.8114 - val_weighted_binary_accuracy: 0.8114\n",
            "Epoch 6/10\n",
            "5618/5618 [==============================] - 15s 3ms/step - loss: 0.4262 - binary_accuracy: 0.8070 - weighted_binary_accuracy: 0.8070 - val_loss: 0.4082 - val_binary_accuracy: 0.8166 - val_weighted_binary_accuracy: 0.8166\n",
            "Epoch 7/10\n",
            "5618/5618 [==============================] - 15s 3ms/step - loss: 0.4244 - binary_accuracy: 0.8085 - weighted_binary_accuracy: 0.8085 - val_loss: 0.4222 - val_binary_accuracy: 0.8096 - val_weighted_binary_accuracy: 0.8096\n",
            "Epoch 8/10\n",
            "5618/5618 [==============================] - 15s 3ms/step - loss: 0.4218 - binary_accuracy: 0.8098 - weighted_binary_accuracy: 0.8098 - val_loss: 0.4041 - val_binary_accuracy: 0.8118 - val_weighted_binary_accuracy: 0.8118\n",
            "Epoch 9/10\n",
            "5618/5618 [==============================] - 15s 3ms/step - loss: 0.4230 - binary_accuracy: 0.8107 - weighted_binary_accuracy: 0.8107 - val_loss: 0.4037 - val_binary_accuracy: 0.8159 - val_weighted_binary_accuracy: 0.8159\n",
            "Epoch 10/10\n",
            "5618/5618 [==============================] - 15s 3ms/step - loss: 0.4212 - binary_accuracy: 0.8085 - weighted_binary_accuracy: 0.8085 - val_loss: 0.3997 - val_binary_accuracy: 0.8187 - val_weighted_binary_accuracy: 0.8187\n"
          ]
        },
        {
          "data": {
            "text/plain": [
              "<keras.src.callbacks.History at 0x7f4b7820fee0>"
            ]
          },
          "execution_count": 70,
          "metadata": {},
          "output_type": "execute_result"
        },
        {
          "ename": "",
          "evalue": "",
          "output_type": "error",
          "traceback": [
            "\u001b[1;31mThe Kernel crashed while executing code in the the current cell or a previous cell. Please review the code in the cell(s) to identify a possible cause of the failure. Click <a href='https://aka.ms/vscodeJupyterKernelCrash'>here</a> for more info. View Jupyter <a href='command:jupyter.viewOutput'>log</a> for further details."
          ]
        }
      ],
      "source": [
        "import tensorflow as tf\n",
        "import keras\n",
        "import numpy as np\n",
        "nn = keras.models.Sequential()\n",
        "nn.add(keras.layers.Conv1D(filters=128, kernel_size=3, activation='relu', input_shape=(768,1)))\n",
        "nn.add(keras.layers.MaxPooling1D(pool_size=2))\n",
        "nn.add(keras.layers.Flatten())\n",
        "nn.add(keras.layers.Dense(units=128, activation='relu'))\n",
        "nn.add(keras.layers.Dropout(0.5)) \n",
        "nn.add(keras.layers.Dense(units=1, activation='sigmoid'))\n",
        "\n",
        "nn.compile(loss='binary_crossentropy', optimizer=keras.optimizers.AdamW(), metrics=['binary_accuracy'], weighted_metrics=['binary_accuracy'])\n",
        "\n",
        "nn.fit(X_train, np.array(y_train), epochs=10, batch_size=16, validation_data=(X_test, y_test), class_weight=class_weight, callbacks=[keras.callbacks.EarlyStopping(patience=3)])"
      ]
    },
    {
      "cell_type": "code",
      "execution_count": 69,
      "metadata": {},
      "outputs": [
        {
          "name": "stdout",
          "output_type": "stream",
          "text": [
            "INFO:tensorflow:Assets written to: CNN_BERT_pool_model/assets\n"
          ]
        },
        {
          "name": "stderr",
          "output_type": "stream",
          "text": [
            "INFO:tensorflow:Assets written to: CNN_BERT_pool_model/assets\n"
          ]
        }
      ],
      "source": [
        "nn.save('CNN_BERT_pool_model')"
      ]
    },
    {
      "cell_type": "markdown",
      "metadata": {},
      "source": [
        "## Run predictions on test set "
      ]
    },
    {
      "cell_type": "code",
      "execution_count": 7,
      "metadata": {},
      "outputs": [],
      "source": [
        "test_embeddings, test_labels, seq_ids = pickle.load(open(\"/var/tmp/xhorvat9/ltr_bert/NewClassifiers/LTR_classifier/BERT/LTRBERT_LTR_classifier_embeddings_TEST.b_average\", \"rb\"))"
      ]
    },
    {
      "cell_type": "code",
      "execution_count": 8,
      "metadata": {},
      "outputs": [
        {
          "name": "stdout",
          "output_type": "stream",
          "text": [
            "1823/1823 [==============================] - 2s 844us/step\n"
          ]
        }
      ],
      "source": [
        "#test_embeddings, test_labels = pickle.load(open(\"/var/tmp/xhorvat9/ltr_bert/NewClassifiers/Superfamily/BERT/LTRBERT_superfamily_classifier_embeddings_TEST.b_average\", \"rb\"))\n",
        "predictions = nn.predict(test_embeddings)\n",
        "pred = np.array([1 if x > 0.5 else 0 for x in predictions])"
      ]
    },
    {
      "cell_type": "code",
      "execution_count": 9,
      "metadata": {},
      "outputs": [
        {
          "name": "stdout",
          "output_type": "stream",
          "text": [
            "1823/1823 [==============================] - 2s 823us/step\n"
          ]
        },
        {
          "data": {
            "text/plain": [
              "array([1, 1, 1, ..., 0, 0, 0])"
            ]
          },
          "execution_count": 9,
          "metadata": {},
          "output_type": "execute_result"
        }
      ],
      "source": [
        "np.array([1 if x > 0.5 else 0 for x in nn.predict(test_embeddings)])"
      ]
    },
    {
      "cell_type": "code",
      "execution_count": 10,
      "metadata": {},
      "outputs": [
        {
          "name": "stdout",
          "output_type": "stream",
          "text": [
            "1823/1823 [==============================] - 1s 802us/step\n"
          ]
        },
        {
          "data": {
            "text/plain": [
              "{'0': {'precision': 0.92022433882899,\n",
              "  'recall': 0.8302652242191589,\n",
              "  'f1-score': 0.8729332446625542,\n",
              "  'support': 22924.0},\n",
              " '1': {'precision': 0.8965847176079734,\n",
              "  'recall': 0.9533687542392042,\n",
              "  'f1-score': 0.9241052472982784,\n",
              "  'support': 35384.0},\n",
              " 'accuracy': 0.9049701584688208,\n",
              " 'macro avg': {'precision': 0.9084045282184817,\n",
              "  'recall': 0.8918169892291816,\n",
              "  'f1-score': 0.8985192459804163,\n",
              "  'support': 58308.0},\n",
              " 'weighted avg': {'precision': 0.905878719749542,\n",
              "  'recall': 0.9049701584688208,\n",
              "  'f1-score': 0.9039867903383185,\n",
              "  'support': 58308.0}}"
            ]
          },
          "execution_count": 10,
          "metadata": {},
          "output_type": "execute_result"
        }
      ],
      "source": [
        "from sklearn.metrics import classification_report\n",
        "\n",
        "classification_report(np.array(test_labels), np.array([1 if x > 0.5 else 0 for x in nn.predict(test_embeddings)]), output_dict=True)"
      ]
    },
    {
      "cell_type": "code",
      "execution_count": 11,
      "metadata": {},
      "outputs": [],
      "source": [
        "import pandas as pd\n",
        "import Bio.SeqIO as SeqIO\n",
        "max_len=512\n",
        "#seq_ids = [rec.id for rec in long_sequences]\n",
        "pd.DataFrame({\"ID\": seq_ids, \"actual\": test_labels, \"pred\": pred}).to_csv(\"test_predictions.csv\", index=False)"
      ]
    },
    {
      "cell_type": "code",
      "execution_count": 3,
      "metadata": {},
      "outputs": [
        {
          "data": {
            "text/plain": [
              "[Text(0, 0, 'F1:\\n0.82'), Text(0, 0, 'F1:\\n0.84'), Text(0, 0, 'F1:\\n0.90')]"
            ]
          },
          "execution_count": 3,
          "metadata": {},
          "output_type": "execute_result"
        },
        {
          "data": {
            "image/png": "[encoded data removed]",
            "text/plain": [
              "<Figure size 800x600 with 1 Axes>"
            ]
          },
          "metadata": {},
          "output_type": "display_data"
        }
      ],
      "source": [
        "import seaborn as sns\n",
        "import pandas as pd\n",
        "import matplotlib.pyplot as plt \n",
        "fig, ax = plt.subplots(figsize=(8, 6),dpi=100)\n",
        "\n",
        "Superfam = pd.DataFrame({\"F1\": [0.82,0.84,0.9], \"Classifier\": [\"TFBS GBC\",\"CNN\",\"DNABERT\"]})\n",
        "g = sns.barplot(x=\"Classifier\", y=\"F1\", data=Superfam, ax=ax)\n",
        "g.set_title(\"Superfamily Classifiers\")\n",
        "ax.bar_label(ax.containers[-1], fmt='F1:\\n%.2f', label_type='center')"
      ]
    },
    {
      "cell_type": "code",
      "execution_count": 33,
      "metadata": {},
      "outputs": [
        {
          "data": {
            "text/plain": [
              "[Text(0, 0, 'F1:\\n0.89'), Text(0, 0, 'F1:\\n0.75'), Text(0, 0, 'F1:\\n0.89')]"
            ]
          },
          "execution_count": 33,
          "metadata": {},
          "output_type": "execute_result"
        },
        {
          "data": {
            "image/png": "[encoded data removed]",
            "text/plain": [
              "<Figure size 800x600 with 1 Axes>"
            ]
          },
          "metadata": {},
          "output_type": "display_data"
        }
      ],
      "source": [
        "fig, ax = plt.subplots(figsize=(8, 6),dpi=100)\n",
        "\n",
        "Superfam = pd.DataFrame({\"F1\": [0.89,0.75,0.89], \"Classifier\": [\"TFBS GBC\",\"CNN\",\"DNABERT\"]})\n",
        "g = sns.barplot(x=\"Classifier\", y=\"F1\", data=Superfam, ax=ax)\n",
        "g.set_title(\"LTR/nonLTR Classifiers\")\n",
        "ax.bar_label(ax.containers[-1], fmt='F1:\\n%.2f', label_type='center')"
      ]
    },
    {
      "cell_type": "markdown",
      "metadata": {
        "id": "1e6oydlNQ2vS"
      },
      "source": [
        "## Load the models and move to GPU if available"
      ]
    },
    {
      "cell_type": "code",
      "execution_count": 3,
      "metadata": {
        "id": "NcJpRF78WHkg"
      },
      "outputs": [
        {
          "ename": "ModuleNotFoundError",
          "evalue": "No module named 'torch'",
          "output_type": "error",
          "traceback": [
            "\u001b[0;31m---------------------------------------------------------------------------\u001b[0m",
            "\u001b[0;31mModuleNotFoundError\u001b[0m                       Traceback (most recent call last)",
            "\u001b[1;32m/var/tmp/xhorvat9/ltr_bert/NewClassifiers/LTR_classifier/BERT/BERT_sliding_window.ipynb Cell 8\u001b[0m line \u001b[0;36m1\n\u001b[0;32m----> <a href='vscode-notebook-cell://ssh-remote%2Baura.fi.muni.cz/var/tmp/xhorvat9/ltr_bert/NewClassifiers/LTR_classifier/BERT/BERT_sliding_window.ipynb#X10sdnNjb2RlLXJlbW90ZQ%3D%3D?line=0'>1</a>\u001b[0m \u001b[39mimport\u001b[39;00m \u001b[39mtorch\u001b[39;00m\n\u001b[1;32m      <a href='vscode-notebook-cell://ssh-remote%2Baura.fi.muni.cz/var/tmp/xhorvat9/ltr_bert/NewClassifiers/LTR_classifier/BERT/BERT_sliding_window.ipynb#X10sdnNjb2RlLXJlbW90ZQ%3D%3D?line=1'>2</a>\u001b[0m \u001b[39mfrom\u001b[39;00m \u001b[39mtransformers\u001b[39;00m \u001b[39mimport\u001b[39;00m BertTokenizer, BertForSequenceClassification, AdamW\n\u001b[1;32m      <a href='vscode-notebook-cell://ssh-remote%2Baura.fi.muni.cz/var/tmp/xhorvat9/ltr_bert/NewClassifiers/LTR_classifier/BERT/BERT_sliding_window.ipynb#X10sdnNjb2RlLXJlbW90ZQ%3D%3D?line=2'>3</a>\u001b[0m \u001b[39mfrom\u001b[39;00m \u001b[39mtorch\u001b[39;00m\u001b[39m.\u001b[39;00m\u001b[39mutils\u001b[39;00m\u001b[39m.\u001b[39;00m\u001b[39mdata\u001b[39;00m \u001b[39mimport\u001b[39;00m TensorDataset, DataLoader, RandomSampler, SequentialSampler\n",
            "\u001b[0;31mModuleNotFoundError\u001b[0m: No module named 'torch'"
          ]
        }
      ],
      "source": [
        "import torch\n",
        "from transformers import BertTokenizer, BertForSequenceClassification, AdamW\n",
        "from torch.utils.data import TensorDataset, DataLoader, RandomSampler, SequentialSampler\n",
        "import pickle\n",
        "# Load the tokenizer and model\n",
        "tokenizer = BertTokenizer.from_pretrained('zhihan1996/DNA_bert_6')\n",
        "model = BertForSequenceClassification.from_pretrained('xhorvat9/LTRBERT_LTR_classifier_512', num_labels=2)\n",
        "\n",
        "if torch.cuda.is_available():    \n",
        "\n",
        "    device = torch.device(\"cuda\")\n",
        "\n",
        "else:\n",
        "    print('No GPU available, using the CPU instead.')\n",
        "    device = torch.device(\"cpu\")\n",
        "\n",
        "model.to(device)\n"
      ]
    },
    {
      "cell_type": "markdown",
      "metadata": {
        "id": "Wpnj41MfQ9Db"
      },
      "source": [
        "## Create necessary helper function with overloaded dataset class"
      ]
    },
    {
      "cell_type": "code",
      "execution_count": 4,
      "metadata": {
        "id": "zhBB5CRhpTjV"
      },
      "outputs": [
        {
          "ename": "ModuleNotFoundError",
          "evalue": "No module named 'torch'",
          "output_type": "error",
          "traceback": [
            "\u001b[0;31m---------------------------------------------------------------------------\u001b[0m",
            "\u001b[0;31mModuleNotFoundError\u001b[0m                       Traceback (most recent call last)",
            "\u001b[1;32m/var/tmp/xhorvat9/ltr_bert/NewClassifiers/LTR_classifier/BERT/BERT_sliding_window.ipynb Cell 10\u001b[0m line \u001b[0;36m1\n\u001b[0;32m----> <a href='vscode-notebook-cell://ssh-remote%2Baura.fi.muni.cz/var/tmp/xhorvat9/ltr_bert/NewClassifiers/LTR_classifier/BERT/BERT_sliding_window.ipynb#X11sdnNjb2RlLXJlbW90ZQ%3D%3D?line=0'>1</a>\u001b[0m \u001b[39mimport\u001b[39;00m \u001b[39mtorch\u001b[39;00m\n\u001b[1;32m      <a href='vscode-notebook-cell://ssh-remote%2Baura.fi.muni.cz/var/tmp/xhorvat9/ltr_bert/NewClassifiers/LTR_classifier/BERT/BERT_sliding_window.ipynb#X11sdnNjb2RlLXJlbW90ZQ%3D%3D?line=1'>2</a>\u001b[0m \u001b[39mimport\u001b[39;00m \u001b[39mnumpy\u001b[39;00m \u001b[39mas\u001b[39;00m \u001b[39mnp\u001b[39;00m\n\u001b[1;32m      <a href='vscode-notebook-cell://ssh-remote%2Baura.fi.muni.cz/var/tmp/xhorvat9/ltr_bert/NewClassifiers/LTR_classifier/BERT/BERT_sliding_window.ipynb#X11sdnNjb2RlLXJlbW90ZQ%3D%3D?line=2'>3</a>\u001b[0m \u001b[39mfrom\u001b[39;00m \u001b[39mtransformers\u001b[39;00m \u001b[39mimport\u001b[39;00m BertTokenizer, BertModel\n",
            "\u001b[0;31mModuleNotFoundError\u001b[0m: No module named 'torch'"
          ]
        }
      ],
      "source": [
        "import torch\n",
        "import numpy as np\n",
        "from transformers import BertTokenizer, BertModel\n",
        "\n",
        "# write helper functions for tokenizing data\n",
        " # the kmer splitting function|\n",
        " \n",
        "def Kmers_funct(seq, size=6):\n",
        "   return [seq[x:x+size].upper() for x in range(len(seq) - size + 1)]\n",
        "def tok_func(x): return \" \".join(Kmers_funct(x.replace(\"N\",\"\")))\n",
        "\n",
        "\n",
        "class Dataset(torch.utils.data.Dataset):\n",
        "    def __init__(self, encodings, labels=None):\n",
        "        self.encodings = encodings\n",
        "        self.labels = labels\n",
        "\n",
        "    def __getitem__(self, idx):\n",
        "        item = {key: torch.tensor(val[idx]) for key, val in self.encodings.items()}\n",
        "        if self.labels:\n",
        "            item[\"labels\"] = torch.tensor(self.labels[idx])\n",
        "        return item\n",
        "\n",
        "    def __len__(self):\n",
        "        return len(self.encodings[\"input_ids\"])"
      ]
    },
    {
      "cell_type": "markdown",
      "metadata": {
        "id": "YSBCsuMVRDDs"
      },
      "source": [
        "## Load the sequences and draw predictions for sliding window using BERT"
      ]
    },
    {
      "cell_type": "code",
      "execution_count": null,
      "metadata": {
        "colab": {
          "base_uri": "https://localhost:8080/"
        },
        "id": "kHr6yVDOMlZ-",
        "outputId": "9769f7c3-2959-4ccf-e8f8-55760d0abf8e"
      },
      "outputs": [
        {
          "name": "stdout",
          "output_type": "stream",
          "text": [
            "Mounted at /content/drive\n"
          ]
        }
      ],
      "source": [
        "#from google.colab import drive\n",
        "#drive.mount('/content/drive')"
      ]
    },
    {
      "cell_type": "code",
      "execution_count": 4,
      "metadata": {
        "id": "_4vzKRrV0Y02"
      },
      "outputs": [],
      "source": [
        "import Bio.SeqIO as SeqIO\n",
        "from sklearn.model_selection import train_test_split\n",
        "import random\n",
        "sequences = [str(rec.seq) for rec in SeqIO.parse(\"/var/tmp/xhorvat9/ltr_bert/FASTA_files/train_LTRs.fasta\",\"fasta\")]\n",
        "\n",
        "max_len = 512\n",
        "n_sequences = len(sequences)\n",
        "\n",
        "generated, genomic, markov = int(n_sequences*0.15), int(n_sequences*0.6), int(n_sequences*0.25)\n",
        "\n",
        "genomic_non_LTRs = [rec for rec in SeqIO.parse(\"/var/tmp/xhorvat9/ltr_bert/FASTA_files/non_LTRs_training_genomic_extracts.fasta\", \"fasta\") if len(rec.seq) >= max_len and len(rec.seq) > 0]\n",
        "if genomic < len(genomic_non_LTRs):\n",
        "    genomic_non_LTRs = random.sample(genomic_non_LTRs, genomic)\n",
        "generated_non_LTRs = [rec for rec in SeqIO.parse(\"/var/tmp/xhorvat9/ltr_bert/FASTA_files/non_LTRs_training_generated.fasta\", \"fasta\") if len(rec.seq) >= max_len and len(rec.seq) > 0]\n",
        "if generated < len(generated_non_LTRs):\n",
        "    generated_non_LTRs = random.sample(generated_non_LTRs, generated)\n",
        "markov_non_LTRs = [rec for rec in SeqIO.parse(\"/var/tmp/xhorvat9/ltr_bert/FASTA_files/non_LTRs_training_markovChain.fasta\", \"fasta\") if len(rec.seq) >= max_len and len(rec.seq) > 0]\n",
        "if markov < len(markov_non_LTRs):\n",
        "    markov_non_LTRs = random.sample(markov_non_LTRs, markov)\n",
        "non_LTRs = genomic_non_LTRs + generated_non_LTRs + markov_non_LTRs\n",
        "\n",
        "non_LTRs = [str(rec.seq) for rec in non_LTRs]\n",
        "\n",
        "long_sequences = sequences + non_LTRs\n",
        "labels = np.array([1] * len(sequences) + [0]* len(non_LTRs))\n",
        "\n",
        "X_train, X_test, y_train, y_test = train_test_split(long_sequences, labels, random_state=42, test_size=0.3)"
      ]
    },
    {
      "cell_type": "code",
      "execution_count": 6,
      "metadata": {
        "colab": {
          "base_uri": "https://localhost:8080/",
          "height": 17
        },
        "id": "5PKrKqUGBhya",
        "outputId": "7336c0ca-0fcc-4022-aa5b-9fbb23c2564d"
      },
      "outputs": [
        {
          "name": "stderr",
          "output_type": "stream",
          "text": [
            "  0%|          | 165/163229 [00:11<3:15:35, 13.90it/s]\n"
          ]
        },
        {
          "ename": "KeyboardInterrupt",
          "evalue": "",
          "output_type": "error",
          "traceback": [
            "\u001b[0;31m---------------------------------------------------------------------------\u001b[0m",
            "\u001b[0;31mKeyboardInterrupt\u001b[0m                         Traceback (most recent call last)",
            "\u001b[1;32m/var/tmp/xhorvat9/ltr_bert/NewClassifiers/LTR_classifier/BERT/BERT_sliding_window.ipynb Cell 13\u001b[0m line \u001b[0;36m3\n\u001b[1;32m     <a href='vscode-notebook-cell://ssh-remote%2Baura.fi.muni.cz/var/tmp/xhorvat9/ltr_bert/NewClassifiers/LTR_classifier/BERT/BERT_sliding_window.ipynb#X15sdnNjb2RlLXJlbW90ZQ%3D%3D?line=31'>32</a>\u001b[0m     hidden_states \u001b[39m=\u001b[39m outputs\u001b[39m.\u001b[39mhidden_states\n\u001b[1;32m     <a href='vscode-notebook-cell://ssh-remote%2Baura.fi.muni.cz/var/tmp/xhorvat9/ltr_bert/NewClassifiers/LTR_classifier/BERT/BERT_sliding_window.ipynb#X15sdnNjb2RlLXJlbW90ZQ%3D%3D?line=32'>33</a>\u001b[0m     embeddings \u001b[39m=\u001b[39m hidden_states[layer_index][:, token_index, :]\n\u001b[0;32m---> <a href='vscode-notebook-cell://ssh-remote%2Baura.fi.muni.cz/var/tmp/xhorvat9/ltr_bert/NewClassifiers/LTR_classifier/BERT/BERT_sliding_window.ipynb#X15sdnNjb2RlLXJlbW90ZQ%3D%3D?line=33'>34</a>\u001b[0m     embeddings \u001b[39m=\u001b[39m embeddings\u001b[39m.\u001b[39;49mto(\u001b[39m'\u001b[39;49m\u001b[39mcpu\u001b[39;49m\u001b[39m'\u001b[39;49m)\n\u001b[1;32m     <a href='vscode-notebook-cell://ssh-remote%2Baura.fi.muni.cz/var/tmp/xhorvat9/ltr_bert/NewClassifiers/LTR_classifier/BERT/BERT_sliding_window.ipynb#X15sdnNjb2RlLXJlbW90ZQ%3D%3D?line=34'>35</a>\u001b[0m     model_embeddings\u001b[39m.\u001b[39mappend(embeddings)\n\u001b[1;32m     <a href='vscode-notebook-cell://ssh-remote%2Baura.fi.muni.cz/var/tmp/xhorvat9/ltr_bert/NewClassifiers/LTR_classifier/BERT/BERT_sliding_window.ipynb#X15sdnNjb2RlLXJlbW90ZQ%3D%3D?line=35'>36</a>\u001b[0m \u001b[39m#test_dataset = Dataset(X_test_tokenized); # Load trained model\u001b[39;00m\n\u001b[1;32m     <a href='vscode-notebook-cell://ssh-remote%2Baura.fi.muni.cz/var/tmp/xhorvat9/ltr_bert/NewClassifiers/LTR_classifier/BERT/BERT_sliding_window.ipynb#X15sdnNjb2RlLXJlbW90ZQ%3D%3D?line=36'>37</a>\u001b[0m \u001b[39m#test_trainer = Trainer(model); # Make prediction\u001b[39;00m\n\u001b[1;32m     <a href='vscode-notebook-cell://ssh-remote%2Baura.fi.muni.cz/var/tmp/xhorvat9/ltr_bert/NewClassifiers/LTR_classifier/BERT/BERT_sliding_window.ipynb#X15sdnNjb2RlLXJlbW90ZQ%3D%3D?line=37'>38</a>\u001b[0m \u001b[39m#output, _,_ = test_trainer.predict(test_dataset); # Preprocess raw predictions\u001b[39;00m\n\u001b[1;32m     <a href='vscode-notebook-cell://ssh-remote%2Baura.fi.muni.cz/var/tmp/xhorvat9/ltr_bert/NewClassifiers/LTR_classifier/BERT/BERT_sliding_window.ipynb#X15sdnNjb2RlLXJlbW90ZQ%3D%3D?line=38'>39</a>\u001b[0m \u001b[39m#outputs.append(output)\u001b[39;00m\n",
            "\u001b[0;31mKeyboardInterrupt\u001b[0m: "
          ]
        }
      ],
      "source": [
        "from transformers import Trainer\n",
        "import random\n",
        "import tqdm\n",
        "window_size = max_len\n",
        "stride = max_len//3 # ~ 1/3 of window size\n",
        "model.to(device)\n",
        "outputs = []\n",
        "sequences = []\n",
        "for seq in X_train:\n",
        "  seq_windows = []\n",
        "  for i in range(0, len(seq), stride):\n",
        "      start = i\n",
        "      end = i + window_size\n",
        "\n",
        "      if end > len(seq):\n",
        "        end = len(seq)\n",
        "      seq_windows.append(seq[start:end])\n",
        "  sequences.append(seq_windows)\n",
        "\n",
        "#sequences = random.sample(sequences, 30)\n",
        "\n",
        "# Get the embeddings for the last layer and a specific token (e.g., the first token)\n",
        "layer_index = -1  # Index of the last layer\n",
        "token_index = 0   # Index of the token you're interested in\n",
        "model_embeddings = []\n",
        "model.eval()\n",
        "for s in tqdm.tqdm(sequences):\n",
        "  tokenized_segment = tokenizer([tok_func(sequence_segment) for sequence_segment in s], padding=True, truncation=True, max_length=max_len, return_tensors=\"pt\")\n",
        "  tokenized_segment.to(device)\n",
        "  with torch.no_grad():\n",
        "      outputs = model(**tokenized_segment, output_hidden_states=True)\n",
        "      hidden_states = outputs.hidden_states\n",
        "      embeddings = hidden_states[layer_index][:, token_index, :]\n",
        "      embeddings = embeddings.to('cpu')\n",
        "      model_embeddings.append(embeddings)\n",
        "  #test_dataset = Dataset(X_test_tokenized); # Load trained model\n",
        "  #test_trainer = Trainer(model); # Make prediction\n",
        "  #output, _,_ = test_trainer.predict(test_dataset); # Preprocess raw predictions\n",
        "  #outputs.append(output)"
      ]
    },
    {
      "cell_type": "code",
      "execution_count": null,
      "metadata": {},
      "outputs": [],
      "source": []
    },
    {
      "cell_type": "code",
      "execution_count": 4,
      "metadata": {},
      "outputs": [],
      "source": [
        "import pickle\n",
        "model_embeddings = pickle.load(open(\"/var/tmp/xhorvat9/ltr_bert/NewClassifiers/LTR_classifier/BERT/LTRBERT_LTR_classifier_embeddings.b\", \"rb\"))"
      ]
    },
    {
      "cell_type": "markdown",
      "metadata": {
        "id": "jxB8NNMaRJZg"
      },
      "source": [
        "## Train the CNN on BERT embeddings"
      ]
    },
    {
      "cell_type": "code",
      "execution_count": 5,
      "metadata": {
        "colab": {
          "base_uri": "https://localhost:8080/"
        },
        "id": "YF3xnwr6DRYQ",
        "outputId": "d2e8be1b-384b-400e-bef2-05ea217e51ac"
      },
      "outputs": [
        {
          "name": "stdout",
          "output_type": "stream",
          "text": [
            "Epoch 1/3\n"
          ]
        },
        {
          "name": "stderr",
          "output_type": "stream",
          "text": [
            "2023-10-15 09:03:43.985312: I tensorflow/compiler/xla/stream_executor/cuda/cuda_dnn.cc:442] Loaded cuDNN version 8700\n",
            "2023-10-15 09:03:44.102402: I tensorflow/tsl/platform/default/subprocess.cc:304] Start cannot spawn child process: No such file or directory\n",
            "2023-10-15 09:03:44.198721: I tensorflow/tsl/platform/default/subprocess.cc:304] Start cannot spawn child process: No such file or directory\n",
            "2023-10-15 09:03:44.754719: I tensorflow/compiler/xla/service/service.cc:168] XLA service 0x7f5c8c9e8c20 initialized for platform CUDA (this does not guarantee that XLA will be used). Devices:\n",
            "2023-10-15 09:03:44.754787: I tensorflow/compiler/xla/service/service.cc:176]   StreamExecutor device (0): NVIDIA A100 80GB PCIe MIG 7g.80gb, Compute Capability 8.0\n",
            "2023-10-15 09:03:44.760169: I tensorflow/compiler/mlir/tensorflow/utils/dump_mlir_util.cc:269] disabling MLIR crash reproducer, set env var `MLIR_CRASH_REPRODUCER_DIRECTORY` to enable.\n",
            "2023-10-15 09:03:44.905978: I ./tensorflow/compiler/jit/device_compiler.h:186] Compiled cluster using XLA!  This line is logged at most once for the lifetime of the process.\n"
          ]
        },
        {
          "name": "stdout",
          "output_type": "stream",
          "text": [
            "4591/4591 [==============================] - 13s 2ms/step - loss: 0.2363 - accuracy: 0.9019 - val_loss: 0.2182 - val_accuracy: 0.9128\n",
            "Epoch 2/3\n",
            "4591/4591 [==============================] - 10s 2ms/step - loss: 0.2197 - accuracy: 0.9103 - val_loss: 0.2122 - val_accuracy: 0.9134\n",
            "Epoch 3/3\n",
            "4591/4591 [==============================] - 10s 2ms/step - loss: 0.2124 - accuracy: 0.9130 - val_loss: 0.2075 - val_accuracy: 0.9150\n"
          ]
        },
        {
          "data": {
            "text/plain": [
              "<keras.src.callbacks.History at 0x7f67bbc26eb0>"
            ]
          },
          "execution_count": 5,
          "metadata": {},
          "output_type": "execute_result"
        }
      ],
      "source": [
        "import tensorflow as tf\n",
        "import keras\n",
        "nn = keras.models.Sequential()\n",
        "nn.add(keras.layers.Conv1D(filters=32, kernel_size=3, activation='relu', input_shape=(768,1)))\n",
        "nn.add(keras.layers.MaxPooling1D(pool_size=2))\n",
        "nn.add(keras.layers.Flatten())\n",
        "nn.add(keras.layers.Dense(units=1, activation='sigmoid'))\n",
        "\n",
        "nn.compile(loss='binary_crossentropy', optimizer='adam', metrics=['accuracy'])\n",
        "\n",
        "nn.fit(X_train, y_train, epochs=3, batch_size=32, validation_split=0.1)"
      ]
    },
    {
      "cell_type": "code",
      "execution_count": 3,
      "metadata": {},
      "outputs": [
        {
          "name": "stdout",
          "output_type": "stream",
          "text": [
            "CustomModel(\n",
            "  (conv1): Conv1d(1, 32, kernel_size=(3,), stride=(1,))\n",
            "  (relu): ReLU()\n",
            "  (pool): MaxPool1d(kernel_size=2, stride=2, padding=0, dilation=1, ceil_mode=False)\n",
            "  (flatten): Flatten(start_dim=1, end_dim=-1)\n",
            "  (fc): Linear(in_features=12256, out_features=1, bias=True)\n",
            ")\n"
          ]
        }
      ],
      "source": [
        "import torch\n",
        "import torch.nn as nn\n",
        "\n",
        "class CustomModel(nn.Module):\n",
        "    def __init__(self):\n",
        "        super(CustomModel, self).__init__()\n",
        "        self.conv1 = nn.Conv1d(1, 32, kernel_size=3)\n",
        "        self.relu = nn.ReLU()\n",
        "        self.pool = nn.MaxPool1d(kernel_size=2)\n",
        "        self.flatten = nn.Flatten()\n",
        "        self.fc = nn.Linear(32 * 383, 1)  # Adjust the input size based on your data shape\n",
        "\n",
        "    def forward(self, x):\n",
        "        x = self.conv1(x)\n",
        "        x = self.relu(x)\n",
        "        x = self.pool(x)\n",
        "        x = self.flatten(x)\n",
        "        x = self.fc(x)\n",
        "        x = torch.sigmoid(x)  # Sigmoid activation for binary classification\n",
        "        return x\n",
        "\n",
        "# Instantiate the model\n",
        "model = CustomModel()\n",
        "\n",
        "# Define the loss and optimizer\n",
        "criterion = nn.BCELoss()  # Binary Cross-Entropy Loss for binary classification\n",
        "optimizer = torch.optim.Adam(model.parameters())\n",
        "\n",
        "# Print the model architecture\n",
        "print(model)\n"
      ]
    },
    {
      "cell_type": "code",
      "execution_count": 9,
      "metadata": {},
      "outputs": [
        {
          "ename": "RuntimeError",
          "evalue": "Expected 3-dimensional input for 3-dimensional weight [32, 1, 3], but got 2-dimensional input of size [32, 768] instead",
          "output_type": "error",
          "traceback": [
            "\u001b[0;31m---------------------------------------------------------------------------\u001b[0m",
            "\u001b[0;31mRuntimeError\u001b[0m                              Traceback (most recent call last)",
            "\u001b[1;32m/var/tmp/xhorvat9/ltr_bert/NewClassifiers/LTR_classifier/BERT/BERT_sliding_window.ipynb Cell 20\u001b[0m line \u001b[0;36m1\n\u001b[1;32m      <a href='vscode-notebook-cell://ssh-remote%2Baura.fi.muni.cz/var/tmp/xhorvat9/ltr_bert/NewClassifiers/LTR_classifier/BERT/BERT_sliding_window.ipynb#X45sdnNjb2RlLXJlbW90ZQ%3D%3D?line=8'>9</a>\u001b[0m \u001b[39mfor\u001b[39;00m data, target \u001b[39min\u001b[39;00m train_loader:\n\u001b[1;32m     <a href='vscode-notebook-cell://ssh-remote%2Baura.fi.muni.cz/var/tmp/xhorvat9/ltr_bert/NewClassifiers/LTR_classifier/BERT/BERT_sliding_window.ipynb#X45sdnNjb2RlLXJlbW90ZQ%3D%3D?line=9'>10</a>\u001b[0m     optimizer\u001b[39m.\u001b[39mzero_grad()\n\u001b[0;32m---> <a href='vscode-notebook-cell://ssh-remote%2Baura.fi.muni.cz/var/tmp/xhorvat9/ltr_bert/NewClassifiers/LTR_classifier/BERT/BERT_sliding_window.ipynb#X45sdnNjb2RlLXJlbW90ZQ%3D%3D?line=10'>11</a>\u001b[0m     output \u001b[39m=\u001b[39m model(data)\n\u001b[1;32m     <a href='vscode-notebook-cell://ssh-remote%2Baura.fi.muni.cz/var/tmp/xhorvat9/ltr_bert/NewClassifiers/LTR_classifier/BERT/BERT_sliding_window.ipynb#X45sdnNjb2RlLXJlbW90ZQ%3D%3D?line=11'>12</a>\u001b[0m     loss \u001b[39m=\u001b[39m criterion(output, target)\n\u001b[1;32m     <a href='vscode-notebook-cell://ssh-remote%2Baura.fi.muni.cz/var/tmp/xhorvat9/ltr_bert/NewClassifiers/LTR_classifier/BERT/BERT_sliding_window.ipynb#X45sdnNjb2RlLXJlbW90ZQ%3D%3D?line=12'>13</a>\u001b[0m     loss\u001b[39m.\u001b[39mbackward()\n",
            "File \u001b[0;32m/var/tmp/xhorvat9/LTRBERT/lib/python3.8/site-packages/torch/nn/modules/module.py:1102\u001b[0m, in \u001b[0;36mModule._call_impl\u001b[0;34m(self, *input, **kwargs)\u001b[0m\n\u001b[1;32m   1098\u001b[0m \u001b[39m# If we don't have any hooks, we want to skip the rest of the logic in\u001b[39;00m\n\u001b[1;32m   1099\u001b[0m \u001b[39m# this function, and just call forward.\u001b[39;00m\n\u001b[1;32m   1100\u001b[0m \u001b[39mif\u001b[39;00m \u001b[39mnot\u001b[39;00m (\u001b[39mself\u001b[39m\u001b[39m.\u001b[39m_backward_hooks \u001b[39mor\u001b[39;00m \u001b[39mself\u001b[39m\u001b[39m.\u001b[39m_forward_hooks \u001b[39mor\u001b[39;00m \u001b[39mself\u001b[39m\u001b[39m.\u001b[39m_forward_pre_hooks \u001b[39mor\u001b[39;00m _global_backward_hooks\n\u001b[1;32m   1101\u001b[0m         \u001b[39mor\u001b[39;00m _global_forward_hooks \u001b[39mor\u001b[39;00m _global_forward_pre_hooks):\n\u001b[0;32m-> 1102\u001b[0m     \u001b[39mreturn\u001b[39;00m forward_call(\u001b[39m*\u001b[39;49m\u001b[39minput\u001b[39;49m, \u001b[39m*\u001b[39;49m\u001b[39m*\u001b[39;49mkwargs)\n\u001b[1;32m   1103\u001b[0m \u001b[39m# Do not call functions when jit is used\u001b[39;00m\n\u001b[1;32m   1104\u001b[0m full_backward_hooks, non_full_backward_hooks \u001b[39m=\u001b[39m [], []\n",
            "\u001b[1;32m/var/tmp/xhorvat9/ltr_bert/NewClassifiers/LTR_classifier/BERT/BERT_sliding_window.ipynb Cell 20\u001b[0m line \u001b[0;36m1\n\u001b[1;32m     <a href='vscode-notebook-cell://ssh-remote%2Baura.fi.muni.cz/var/tmp/xhorvat9/ltr_bert/NewClassifiers/LTR_classifier/BERT/BERT_sliding_window.ipynb#X45sdnNjb2RlLXJlbW90ZQ%3D%3D?line=12'>13</a>\u001b[0m \u001b[39mdef\u001b[39;00m \u001b[39mforward\u001b[39m(\u001b[39mself\u001b[39m, x):\n\u001b[0;32m---> <a href='vscode-notebook-cell://ssh-remote%2Baura.fi.muni.cz/var/tmp/xhorvat9/ltr_bert/NewClassifiers/LTR_classifier/BERT/BERT_sliding_window.ipynb#X45sdnNjb2RlLXJlbW90ZQ%3D%3D?line=13'>14</a>\u001b[0m     x \u001b[39m=\u001b[39m \u001b[39mself\u001b[39;49m\u001b[39m.\u001b[39;49mconv1(x)\n\u001b[1;32m     <a href='vscode-notebook-cell://ssh-remote%2Baura.fi.muni.cz/var/tmp/xhorvat9/ltr_bert/NewClassifiers/LTR_classifier/BERT/BERT_sliding_window.ipynb#X45sdnNjb2RlLXJlbW90ZQ%3D%3D?line=14'>15</a>\u001b[0m     x \u001b[39m=\u001b[39m \u001b[39mself\u001b[39m\u001b[39m.\u001b[39mrelu(x)\n\u001b[1;32m     <a href='vscode-notebook-cell://ssh-remote%2Baura.fi.muni.cz/var/tmp/xhorvat9/ltr_bert/NewClassifiers/LTR_classifier/BERT/BERT_sliding_window.ipynb#X45sdnNjb2RlLXJlbW90ZQ%3D%3D?line=15'>16</a>\u001b[0m     x \u001b[39m=\u001b[39m \u001b[39mself\u001b[39m\u001b[39m.\u001b[39mpool(x)\n",
            "File \u001b[0;32m/var/tmp/xhorvat9/LTRBERT/lib/python3.8/site-packages/torch/nn/modules/module.py:1102\u001b[0m, in \u001b[0;36mModule._call_impl\u001b[0;34m(self, *input, **kwargs)\u001b[0m\n\u001b[1;32m   1098\u001b[0m \u001b[39m# If we don't have any hooks, we want to skip the rest of the logic in\u001b[39;00m\n\u001b[1;32m   1099\u001b[0m \u001b[39m# this function, and just call forward.\u001b[39;00m\n\u001b[1;32m   1100\u001b[0m \u001b[39mif\u001b[39;00m \u001b[39mnot\u001b[39;00m (\u001b[39mself\u001b[39m\u001b[39m.\u001b[39m_backward_hooks \u001b[39mor\u001b[39;00m \u001b[39mself\u001b[39m\u001b[39m.\u001b[39m_forward_hooks \u001b[39mor\u001b[39;00m \u001b[39mself\u001b[39m\u001b[39m.\u001b[39m_forward_pre_hooks \u001b[39mor\u001b[39;00m _global_backward_hooks\n\u001b[1;32m   1101\u001b[0m         \u001b[39mor\u001b[39;00m _global_forward_hooks \u001b[39mor\u001b[39;00m _global_forward_pre_hooks):\n\u001b[0;32m-> 1102\u001b[0m     \u001b[39mreturn\u001b[39;00m forward_call(\u001b[39m*\u001b[39;49m\u001b[39minput\u001b[39;49m, \u001b[39m*\u001b[39;49m\u001b[39m*\u001b[39;49mkwargs)\n\u001b[1;32m   1103\u001b[0m \u001b[39m# Do not call functions when jit is used\u001b[39;00m\n\u001b[1;32m   1104\u001b[0m full_backward_hooks, non_full_backward_hooks \u001b[39m=\u001b[39m [], []\n",
            "File \u001b[0;32m/var/tmp/xhorvat9/LTRBERT/lib/python3.8/site-packages/torch/nn/modules/conv.py:301\u001b[0m, in \u001b[0;36mConv1d.forward\u001b[0;34m(self, input)\u001b[0m\n\u001b[1;32m    300\u001b[0m \u001b[39mdef\u001b[39;00m \u001b[39mforward\u001b[39m(\u001b[39mself\u001b[39m, \u001b[39minput\u001b[39m: Tensor) \u001b[39m-\u001b[39m\u001b[39m>\u001b[39m Tensor:\n\u001b[0;32m--> 301\u001b[0m     \u001b[39mreturn\u001b[39;00m \u001b[39mself\u001b[39;49m\u001b[39m.\u001b[39;49m_conv_forward(\u001b[39minput\u001b[39;49m, \u001b[39mself\u001b[39;49m\u001b[39m.\u001b[39;49mweight, \u001b[39mself\u001b[39;49m\u001b[39m.\u001b[39;49mbias)\n",
            "File \u001b[0;32m/var/tmp/xhorvat9/LTRBERT/lib/python3.8/site-packages/torch/nn/modules/conv.py:297\u001b[0m, in \u001b[0;36mConv1d._conv_forward\u001b[0;34m(self, input, weight, bias)\u001b[0m\n\u001b[1;32m    293\u001b[0m \u001b[39mif\u001b[39;00m \u001b[39mself\u001b[39m\u001b[39m.\u001b[39mpadding_mode \u001b[39m!=\u001b[39m \u001b[39m'\u001b[39m\u001b[39mzeros\u001b[39m\u001b[39m'\u001b[39m:\n\u001b[1;32m    294\u001b[0m     \u001b[39mreturn\u001b[39;00m F\u001b[39m.\u001b[39mconv1d(F\u001b[39m.\u001b[39mpad(\u001b[39minput\u001b[39m, \u001b[39mself\u001b[39m\u001b[39m.\u001b[39m_reversed_padding_repeated_twice, mode\u001b[39m=\u001b[39m\u001b[39mself\u001b[39m\u001b[39m.\u001b[39mpadding_mode),\n\u001b[1;32m    295\u001b[0m                     weight, bias, \u001b[39mself\u001b[39m\u001b[39m.\u001b[39mstride,\n\u001b[1;32m    296\u001b[0m                     _single(\u001b[39m0\u001b[39m), \u001b[39mself\u001b[39m\u001b[39m.\u001b[39mdilation, \u001b[39mself\u001b[39m\u001b[39m.\u001b[39mgroups)\n\u001b[0;32m--> 297\u001b[0m \u001b[39mreturn\u001b[39;00m F\u001b[39m.\u001b[39;49mconv1d(\u001b[39minput\u001b[39;49m, weight, bias, \u001b[39mself\u001b[39;49m\u001b[39m.\u001b[39;49mstride,\n\u001b[1;32m    298\u001b[0m                 \u001b[39mself\u001b[39;49m\u001b[39m.\u001b[39;49mpadding, \u001b[39mself\u001b[39;49m\u001b[39m.\u001b[39;49mdilation, \u001b[39mself\u001b[39;49m\u001b[39m.\u001b[39;49mgroups)\n",
            "\u001b[0;31mRuntimeError\u001b[0m: Expected 3-dimensional input for 3-dimensional weight [32, 1, 3], but got 2-dimensional input of size [32, 768] instead"
          ]
        }
      ],
      "source": [
        "from torch.utils.data import DataLoader, TensorDataset\n",
        "\n",
        "train_data = TensorDataset( torch.tensor(X_train),  torch.tensor(y_train))\n",
        "batch_size = 32\n",
        "train_loader = DataLoader(train_data, batch_size=batch_size, shuffle=True)\n",
        "# Training loop\n",
        "num_epochs = 10\n",
        "for epoch in range(num_epochs):\n",
        "    for data, target in train_loader:\n",
        "        optimizer.zero_grad()\n",
        "        output = model(data)\n",
        "        loss = criterion(output, target)\n",
        "        loss.backward()\n",
        "        optimizer.step()\n",
        "\n",
        "# Make predictions\n",
        "model.eval()\n",
        "test_data = TensorDataset( torch.tensor(X_test),  torch.tensor(y_test))\n",
        "with torch.no_grad():\n",
        "    # Example input for prediction\n",
        "    input_for_prediction = torch.Tensor(test_data) \n",
        "    prediction = model(input_for_prediction)\n",
        "\n",
        "print(\"Prediction:\", prediction.item())"
      ]
    },
    {
      "cell_type": "code",
      "execution_count": null,
      "metadata": {},
      "outputs": [],
      "source": [
        "\n",
        "linear_nn = keras.models.Sequential()\n",
        "linear_nn.add(keras.layers.Dense(512, activation='relu', input_shape=(768, 1)))\n",
        "linear_nn.add(keras.layers.Dropout(0.5))\n",
        "linear_nn.add(keras.layers.Dense(512, activation='relu', input_shape=(768, 1)))\n",
        "linear_nn.add(keras.layers.Dense(units=1, activation='sigmoid', input_shape=(768, 1)))\n",
        "\n",
        "linear_nn.compile(loss='binary_crossentropy', optimizer='adam', metrics=['accuracy'])\n",
        "\n",
        "linear_nn.fit(X_train, y_train, epochs=3, batch_size=32, validation_split=0.1)"
      ]
    },
    {
      "cell_type": "code",
      "execution_count": null,
      "metadata": {},
      "outputs": [],
      "source": []
    },
    {
      "cell_type": "code",
      "execution_count": 22,
      "metadata": {},
      "outputs": [
        {
          "name": "stderr",
          "output_type": "stream",
          "text": [
            "100%|██████████| 3500/3500 [01:46<00:00, 32.96it/s]\n"
          ]
        }
      ],
      "source": [
        "import random\n",
        "window_size = max_len\n",
        "stride = max_len//3 # ~ 1/3 of window size\n",
        "model.to(device)\n",
        "outputs = []\n",
        "sequences = []\n",
        "for seq in X_test:\n",
        "  seq_windows = []\n",
        "  for i in range(0, len(seq), stride):\n",
        "      start = i\n",
        "      end = i + window_size\n",
        "\n",
        "      if end > len(seq):\n",
        "        end = len(seq)\n",
        "      seq_windows.append(seq[start:end])\n",
        "  sequences.append(seq_windows)\n",
        "\n",
        "seq_ids = random.sample(range(len(sequences)), 3500)\n",
        "sequences = [sequences[i] for i in seq_ids]\n",
        "labels = [y_test[i] for i in seq_ids]\n",
        "# Get the embeddings for the last layer and a specific token (e.g., the first token)\n",
        "layer_index = -1  # Index of the last layer\n",
        "token_index = 0   # Index of the token you're interested in\n",
        "validation_embeddings = []\n",
        "model.eval()\n",
        "for s in tqdm.tqdm(sequences):\n",
        "  tokenized_segment = tokenizer([tok_func(sequence_segment) for sequence_segment in s], padding=True, truncation=True, max_length=max_len, return_tensors=\"pt\")\n",
        "  tokenized_segment.to(device)\n",
        "  with torch.no_grad():\n",
        "      outputs = model(**tokenized_segment, output_hidden_states=True)\n",
        "      hidden_states = outputs.hidden_states\n",
        "      embeddings = hidden_states[layer_index][:, token_index, :]\n",
        "      embeddings = embeddings.to('cpu')\n",
        "      validation_embeddings.append(embeddings)"
      ]
    },
    {
      "cell_type": "code",
      "execution_count": 23,
      "metadata": {},
      "outputs": [
        {
          "name": "stderr",
          "output_type": "stream",
          "text": [
            "100%|██████████| 3500/3500 [00:00<00:00, 44513.37it/s]\n"
          ]
        }
      ],
      "source": [
        "inp = []\n",
        "for emb in tqdm.tqdm(validation_embeddings):\n",
        "    inp.append((sum(emb)/len(emb)).numpy())\n",
        "inp = np.array(inp)"
      ]
    },
    {
      "cell_type": "code",
      "execution_count": 8,
      "metadata": {},
      "outputs": [
        {
          "name": "stdout",
          "output_type": "stream",
          "text": [
            "2187/2187 [==============================] - 3s 1ms/step - loss: 0.2096 - accuracy: 0.9146\n"
          ]
        },
        {
          "data": {
            "text/plain": [
              "[0.20959198474884033, 0.9145891666412354]"
            ]
          },
          "execution_count": 8,
          "metadata": {},
          "output_type": "execute_result"
        }
      ],
      "source": [
        "import numpy as np\n",
        "nn.evaluate(X_test, np.array(y_test))"
      ]
    },
    {
      "cell_type": "code",
      "execution_count": 10,
      "metadata": {},
      "outputs": [
        {
          "name": "stdout",
          "output_type": "stream",
          "text": [
            "2187/2187 [==============================] - 2s 911us/step\n"
          ]
        },
        {
          "data": {
            "text/plain": [
              "array([[24215,  3387],\n",
              "       [ 2588, 39766]])"
            ]
          },
          "execution_count": 10,
          "metadata": {},
          "output_type": "execute_result"
        }
      ],
      "source": [
        "from sklearn.metrics import confusion_matrix\n",
        "confusion_matrix(np.array(y_test), (nn.predict(X_test) > 0.5).astype(int).flatten())"
      ]
    },
    {
      "cell_type": "code",
      "execution_count": 11,
      "metadata": {},
      "outputs": [
        {
          "name": "stdout",
          "output_type": "stream",
          "text": [
            "2187/2187 [==============================] - 2s 918us/step\n"
          ]
        },
        {
          "data": {
            "text/plain": [
              "0.9301226800145018"
            ]
          },
          "execution_count": 11,
          "metadata": {},
          "output_type": "execute_result"
        }
      ],
      "source": [
        "from sklearn.metrics import f1_score\n",
        "f1_score(np.array(y_test), (nn.predict(X_test) > 0.5).astype(int).flatten())"
      ]
    },
    {
      "cell_type": "markdown",
      "metadata": {
        "id": "DKU_3GBACFNP"
      },
      "source": [
        "### Run on test set"
      ]
    },
    {
      "cell_type": "code",
      "execution_count": null,
      "metadata": {
        "colab": {
          "base_uri": "https://localhost:8080/",
          "height": 17
        },
        "id": "vbjdLKhIPmSU",
        "outputId": "487e4e5e-03c4-4cd1-f2b8-67ce2c17070e"
      },
      "outputs": [],
      "source": [
        "window_size = 350\n",
        "stride = 116 # ~ 1/3 of window size\n",
        "\n",
        "outputs = []\n",
        "sequences = []\n",
        "for seq in X_test:\n",
        "  seq_windows = []\n",
        "  for i in range(0, len(seq), stride):\n",
        "      start = i\n",
        "      end = i + window_size\n",
        "\n",
        "      if end > len(seq):\n",
        "        end = len(seq)\n",
        "      seq_windows.append(seq[start:end])\n",
        "  sequences.append(seq_windows)\n",
        "\n",
        "counter = 0\n",
        "for s in sequences:\n",
        "  if counter % 500 == 0 and counter != 0:\n",
        "    print(f\"processing sequence {counter}\")\n",
        "  X_test_tokenized = tokenizer([tok_func(x) for x in s], padding=True, truncation=True, max_length=350) # Create torch dataset\n",
        "  test_dataset = Dataset(X_test_tokenized) # Load trained model\n",
        "  test_trainer = Trainer(model) # Make prediction\n",
        "  output, _,_ = test_trainer.predict(test_dataset) # Preprocess raw predictions\n",
        "  outputs.append(output)"
      ]
    },
    {
      "cell_type": "code",
      "execution_count": null,
      "metadata": {
        "colab": {
          "base_uri": "https://localhost:8080/"
        },
        "id": "rh78jeG_P0jm",
        "outputId": "8338a029-1c82-40d6-dbdb-fb0cf45361e2"
      },
      "outputs": [
        {
          "name": "stdout",
          "output_type": "stream",
          "text": [
            "Test loss: 0.4219169020652771\n",
            "Test accuracy: 0.8043588399887085\n"
          ]
        }
      ],
      "source": [
        "i = tf.keras.preprocessing.sequence.pad_sequences(outputs, padding=\"pre\", maxlen=45, dtype='float32')\n",
        "score = nn.evaluate(i, y_test, verbose = 0) \n",
        "\n",
        "print('Test loss:', score[0]) \n",
        "print('Test accuracy:', score[1])"
      ]
    },
    {
      "cell_type": "code",
      "execution_count": null,
      "metadata": {
        "colab": {
          "base_uri": "https://localhost:8080/"
        },
        "id": "KYBHI-6XZm6j",
        "outputId": "b323f3cb-3744-4689-dca4-6edaf27f82bb"
      },
      "outputs": [
        {
          "name": "stderr",
          "output_type": "stream",
          "text": [
            "WARNING:absl:Found untraced functions such as _jit_compiled_convolution_op while saving (showing 1 of 1). These functions will not be directly callable after loading.\n"
          ]
        }
      ],
      "source": [
        "nn.save('/content/drive/MyDrive/sequences/BERT_pooling_CNN/TF_CNN_BERT_pool_model')"
      ]
    },
    {
      "cell_type": "markdown",
      "metadata": {
        "id": "PcRE3LYBCblQ"
      },
      "source": [
        "### Visualize filters to check for influential regions\n"
      ]
    },
    {
      "cell_type": "code",
      "execution_count": null,
      "metadata": {
        "id": "kbQC6djOol1R"
      },
      "outputs": [],
      "source": [
        "import tensorflow as tf\n",
        "new_model = tf.keras.models.load_model('/content/drive/MyDrive/sequences/BERT_pooling_CNN/TF_CNN_BERT_pool_model')\n",
        "\n",
        "filters, biases = new_model.layers[0].get_weights()"
      ]
    },
    {
      "cell_type": "code",
      "execution_count": null,
      "metadata": {
        "id": "GAJCxqpc-JFc"
      },
      "outputs": [],
      "source": [
        "f = abs(filters)\n",
        "import matplotlib.pyplot as plt\n",
        "fig, axs = plt.subplots(1, filters.shape[-1], figsize=(25, 10))\n",
        "for i in range(filters.shape[-1]):\n",
        "    im = axs[i].imshow(f[:, :, i], cmap=\"gray\")\n",
        "    axs[i].axis('off')\n",
        "plt.show()"
      ]
    }
  ],
  "metadata": {
    "accelerator": "GPU",
    "colab": {
      "provenance": []
    },
    "gpuClass": "standard",
    "kernelspec": {
      "display_name": "Python 3",
      "name": "python3"
    },
    "language_info": {
      "codemirror_mode": {
        "name": "ipython",
        "version": 3
      },
      "file_extension": ".py",
      "mimetype": "text/x-python",
      "name": "python",
      "nbconvert_exporter": "python",
      "pygments_lexer": "ipython3",
      "version": "3.9.18"
    }
  },
  "nbformat": 4,
  "nbformat_minor": 0
}
