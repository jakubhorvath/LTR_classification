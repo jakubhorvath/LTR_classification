{
  "cells": [
    {
      "cell_type": "markdown",
      "metadata": {
        "id": "-T6AV3F2Qy2H"
      },
      "source": [
        "## Load necessary libraries"
      ]
    },
    {
      "cell_type": "code",
      "execution_count": 1,
      "metadata": {},
      "outputs": [],
      "source": [
        "import pickle \n",
        "embeddings, labels, seq_ids = pickle.load(open(\"LTRBERT_LTR_classifier_embeddings.b_average\", \"rb\"))"
      ]
    },
    {
      "cell_type": "code",
      "execution_count": 2,
      "metadata": {},
      "outputs": [],
      "source": [
        "import numpy as np\n",
        "neg, pos = np.unique(labels, return_counts=True)[1]"
      ]
    },
    {
      "cell_type": "code",
      "execution_count": 31,
      "metadata": {},
      "outputs": [],
      "source": [
        "from sklearn.model_selection import train_test_split\n",
        "X_train, X_test, y_train, y_test = train_test_split(embeddings, labels, random_state=42, test_size=0.1)"
      ]
    },
    {
      "cell_type": "code",
      "execution_count": 11,
      "metadata": {},
      "outputs": [],
      "source": [
        "weight_for_0 = (1 / neg) * (len(labels) / 2.0)\n",
        "weight_for_1 = (1 / pos) * (len(labels) / 2.0)\n",
        "class_weight = {0: weight_for_0, 1: weight_for_1}"
      ]
    },
    {
      "cell_type": "code",
      "execution_count": 70,
      "metadata": {},
      "outputs": [
        {
          "name": "stdout",
          "output_type": "stream",
          "text": [
            "Epoch 1/10\n",
            "5618/5618 [==============================] - 16s 3ms/step - loss: 0.4700 - binary_accuracy: 0.7852 - weighted_binary_accuracy: 0.7852 - val_loss: 0.4345 - val_binary_accuracy: 0.7988 - val_weighted_binary_accuracy: 0.7988\n",
            "Epoch 2/10\n",
            "5618/5618 [==============================] - 15s 3ms/step - loss: 0.4458 - binary_accuracy: 0.7962 - weighted_binary_accuracy: 0.7962 - val_loss: 0.4191 - val_binary_accuracy: 0.8043 - val_weighted_binary_accuracy: 0.8043\n",
            "Epoch 3/10\n",
            "5618/5618 [==============================] - 15s 3ms/step - loss: 0.4368 - binary_accuracy: 0.8025 - weighted_binary_accuracy: 0.8025 - val_loss: 0.4205 - val_binary_accuracy: 0.8120 - val_weighted_binary_accuracy: 0.8120\n",
            "Epoch 4/10\n",
            "5618/5618 [==============================] - 15s 3ms/step - loss: 0.4324 - binary_accuracy: 0.8048 - weighted_binary_accuracy: 0.8048 - val_loss: 0.4225 - val_binary_accuracy: 0.8084 - val_weighted_binary_accuracy: 0.8084\n",
            "Epoch 5/10\n",
            "5618/5618 [==============================] - 14s 3ms/step - loss: 0.4285 - binary_accuracy: 0.8060 - weighted_binary_accuracy: 0.8060 - val_loss: 0.4077 - val_binary_accuracy: 0.8114 - val_weighted_binary_accuracy: 0.8114\n",
            "Epoch 6/10\n",
            "5618/5618 [==============================] - 15s 3ms/step - loss: 0.4262 - binary_accuracy: 0.8070 - weighted_binary_accuracy: 0.8070 - val_loss: 0.4082 - val_binary_accuracy: 0.8166 - val_weighted_binary_accuracy: 0.8166\n",
            "Epoch 7/10\n",
            "5618/5618 [==============================] - 15s 3ms/step - loss: 0.4244 - binary_accuracy: 0.8085 - weighted_binary_accuracy: 0.8085 - val_loss: 0.4222 - val_binary_accuracy: 0.8096 - val_weighted_binary_accuracy: 0.8096\n",
            "Epoch 8/10\n",
            "5618/5618 [==============================] - 15s 3ms/step - loss: 0.4218 - binary_accuracy: 0.8098 - weighted_binary_accuracy: 0.8098 - val_loss: 0.4041 - val_binary_accuracy: 0.8118 - val_weighted_binary_accuracy: 0.8118\n",
            "Epoch 9/10\n",
            "5618/5618 [==============================] - 15s 3ms/step - loss: 0.4230 - binary_accuracy: 0.8107 - weighted_binary_accuracy: 0.8107 - val_loss: 0.4037 - val_binary_accuracy: 0.8159 - val_weighted_binary_accuracy: 0.8159\n",
            "Epoch 10/10\n",
            "5618/5618 [==============================] - 15s 3ms/step - loss: 0.4212 - binary_accuracy: 0.8085 - weighted_binary_accuracy: 0.8085 - val_loss: 0.3997 - val_binary_accuracy: 0.8187 - val_weighted_binary_accuracy: 0.8187\n"
          ]
        },
        {
          "data": {
            "text/plain": [
              "<keras.src.callbacks.History at 0x7f4b7820fee0>"
            ]
          },
          "execution_count": 70,
          "metadata": {},
          "output_type": "execute_result"
        },
        {
          "ename": "",
          "evalue": "",
          "output_type": "error",
          "traceback": [
            "\u001b[1;31mThe Kernel crashed while executing code in the the current cell or a previous cell. Please review the code in the cell(s) to identify a possible cause of the failure. Click <a href='https://aka.ms/vscodeJupyterKernelCrash'>here</a> for more info. View Jupyter <a href='command:jupyter.viewOutput'>log</a> for further details."
          ]
        }
      ],
      "source": [
        "import tensorflow as tf\n",
        "import keras\n",
        "import numpy as np\n",
        "nn = keras.models.Sequential()\n",
        "nn.add(keras.layers.Conv1D(filters=128, kernel_size=3, activation='relu', input_shape=(768,1)))\n",
        "nn.add(keras.layers.MaxPooling1D(pool_size=2))\n",
        "nn.add(keras.layers.Flatten())\n",
        "nn.add(keras.layers.Dense(units=128, activation='relu'))\n",
        "nn.add(keras.layers.Dropout(0.5)) \n",
        "nn.add(keras.layers.Dense(units=1, activation='sigmoid'))\n",
        "\n",
        "nn.compile(loss='binary_crossentropy', optimizer=keras.optimizers.AdamW(), metrics=['binary_accuracy'], weighted_metrics=['binary_accuracy'])\n",
        "\n",
        "nn.fit(X_train, np.array(y_train), epochs=10, batch_size=16, validation_data=(X_test, y_test), class_weight=class_weight, callbacks=[keras.callbacks.EarlyStopping(patience=3)])"
      ]
    },
    {
      "cell_type": "code",
      "execution_count": 69,
      "metadata": {},
      "outputs": [
        {
          "name": "stdout",
          "output_type": "stream",
          "text": [
            "INFO:tensorflow:Assets written to: CNN_BERT_pool_model/assets\n"
          ]
        },
        {
          "name": "stderr",
          "output_type": "stream",
          "text": [
            "INFO:tensorflow:Assets written to: CNN_BERT_pool_model/assets\n"
          ]
        }
      ],
      "source": [
        "nn.save('CNN_BERT_pool_model')"
      ]
    },
    {
      "cell_type": "markdown",
      "metadata": {},
      "source": [
        "## Run predictions on test set "
      ]
    },
    {
      "cell_type": "code",
      "execution_count": 7,
      "metadata": {},
      "outputs": [],
      "source": [
        "test_embeddings, test_labels, seq_ids = pickle.load(open(\"/var/tmp/xhorvat9/ltr_bert/NewClassifiers/LTR_classifier/BERT/LTRBERT_LTR_classifier_embeddings_TEST.b_average\", \"rb\"))"
      ]
    },
    {
      "cell_type": "code",
      "execution_count": 8,
      "metadata": {},
      "outputs": [
        {
          "name": "stdout",
          "output_type": "stream",
          "text": [
            "1823/1823 [==============================] - 2s 844us/step\n"
          ]
        }
      ],
      "source": [
        "#test_embeddings, test_labels = pickle.load(open(\"/var/tmp/xhorvat9/ltr_bert/NewClassifiers/Superfamily/BERT/LTRBERT_superfamily_classifier_embeddings_TEST.b_average\", \"rb\"))\n",
        "predictions = nn.predict(test_embeddings)\n",
        "pred = np.array([1 if x > 0.5 else 0 for x in predictions])"
      ]
    },
    {
      "cell_type": "code",
      "execution_count": 9,
      "metadata": {},
      "outputs": [
        {
          "name": "stdout",
          "output_type": "stream",
          "text": [
            "1823/1823 [==============================] - 2s 823us/step\n"
          ]
        },
        {
          "data": {
            "text/plain": [
              "array([1, 1, 1, ..., 0, 0, 0])"
            ]
          },
          "execution_count": 9,
          "metadata": {},
          "output_type": "execute_result"
        }
      ],
      "source": [
        "np.array([1 if x > 0.5 else 0 for x in nn.predict(test_embeddings)])"
      ]
    },
    {
      "cell_type": "code",
      "execution_count": 10,
      "metadata": {},
      "outputs": [
        {
          "name": "stdout",
          "output_type": "stream",
          "text": [
            "1823/1823 [==============================] - 1s 802us/step\n"
          ]
        },
        {
          "data": {
            "text/plain": [
              "{'0': {'precision': 0.92022433882899,\n",
              "  'recall': 0.8302652242191589,\n",
              "  'f1-score': 0.8729332446625542,\n",
              "  'support': 22924.0},\n",
              " '1': {'precision': 0.8965847176079734,\n",
              "  'recall': 0.9533687542392042,\n",
              "  'f1-score': 0.9241052472982784,\n",
              "  'support': 35384.0},\n",
              " 'accuracy': 0.9049701584688208,\n",
              " 'macro avg': {'precision': 0.9084045282184817,\n",
              "  'recall': 0.8918169892291816,\n",
              "  'f1-score': 0.8985192459804163,\n",
              "  'support': 58308.0},\n",
              " 'weighted avg': {'precision': 0.905878719749542,\n",
              "  'recall': 0.9049701584688208,\n",
              "  'f1-score': 0.9039867903383185,\n",
              "  'support': 58308.0}}"
            ]
          },
          "execution_count": 10,
          "metadata": {},
          "output_type": "execute_result"
        }
      ],
      "source": [
        "from sklearn.metrics import classification_report\n",
        "\n",
        "classification_report(np.array(test_labels), np.array([1 if x > 0.5 else 0 for x in nn.predict(test_embeddings)]), output_dict=True)"
      ]
    }
  ],
  "metadata": {
    "accelerator": "GPU",
    "colab": {
      "provenance": []
    },
    "gpuClass": "standard",
    "kernelspec": {
      "display_name": "Python 3",
      "name": "python3"
    },
    "language_info": {
      "codemirror_mode": {
        "name": "ipython",
        "version": 3
      },
      "file_extension": ".py",
      "mimetype": "text/x-python",
      "name": "python",
      "nbconvert_exporter": "python",
      "pygments_lexer": "ipython3",
      "version": "3.9.18"
    }
  },
  "nbformat": 4,
  "nbformat_minor": 0
}
