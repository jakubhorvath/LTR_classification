{
 "cells": [
  {
   "cell_type": "code",
   "execution_count": 1,
   "metadata": {},
   "outputs": [],
   "source": [
    "from scipy.stats import ttest_ind, normaltest, shapiro\n",
    "\n",
    "split_n = 0\n",
    "splits = {}\n",
    "with open(\"ALL_classification_results.log\", \"r\") as f:\n",
    "    lines = f.readlines()\n",
    "    for line in lines:\n",
    "        split_line = line.split()\n",
    "        if split_line[0] == \"Split\":\n",
    "            split_n = int(split_line[1])\n",
    "            splits[split_n] = {}\n",
    "        elif split_line[0] == \"BERT\":\n",
    "            if split_line[1] == \"short\":\n",
    "                splits[split_n][\"BERT_short\"] = (float(split_line[5][:-1]))\n",
    "            else:\n",
    "                splits[split_n][\"BERT_long\"] = (float(split_line[5][:-1]))\n",
    "        elif split_line[0] == \"CNN\":\n",
    "            splits[split_n][\"CNN\"] = (float(split_line[3][:-1]))\n",
    "\n",
    "        elif split_line[0] == \"GBC\":\n",
    "            splits[split_n][\"GBC\"] = (float(split_line[3][:-1]))"
   ]
  },
  {
   "cell_type": "code",
   "execution_count": 2,
   "metadata": {},
   "outputs": [
    {
     "name": "stderr",
     "output_type": "stream",
     "text": [
      "/tmp/ipykernel_3366502/227332269.py:1: DeprecationWarning: \n",
      "Pyarrow will become a required dependency of pandas in the next major release of pandas (pandas 3.0),\n",
      "(to allow more performant data types, such as the Arrow string type, and better interoperability with other libraries)\n",
      "but was not found to be installed on your system.\n",
      "If this would cause problems for you,\n",
      "please provide us feedback at https://github.com/pandas-dev/pandas/issues/54466\n",
      "        \n",
      "  import pandas as pd\n"
     ]
    }
   ],
   "source": [
    "import pandas as pd\n",
    "dt = pd.DataFrame(splits)"
   ]
  },
  {
   "cell_type": "markdown",
   "metadata": {},
   "source": [
    "CNN_acc = []\n",
    "with open(\"CNN_out.log\", \"r\") as f:\n",
    "    lines = f.readlines()\n",
    "    for line in lines:\n",
    "        split_line = line.split()\n",
    "        CNN_acc.append(float(split_line[1][:-1]))\n",
    "dt.loc[\"CNN\"] = CNN_acc"
   ]
  },
  {
   "cell_type": "code",
   "execution_count": 15,
   "metadata": {},
   "outputs": [
    {
     "data": {
      "text/html": [
       "<div>\n",
       "<style scoped>\n",
       "    .dataframe tbody tr th:only-of-type {\n",
       "        vertical-align: middle;\n",
       "    }\n",
       "\n",
       "    .dataframe tbody tr th {\n",
       "        vertical-align: top;\n",
       "    }\n",
       "\n",
       "    .dataframe thead th {\n",
       "        text-align: right;\n",
       "    }\n",
       "</style>\n",
       "<table border=\"1\" class=\"dataframe\">\n",
       "  <thead>\n",
       "    <tr style=\"text-align: right;\">\n",
       "      <th></th>\n",
       "      <th>0</th>\n",
       "      <th>1</th>\n",
       "      <th>2</th>\n",
       "      <th>3</th>\n",
       "      <th>4</th>\n",
       "    </tr>\n",
       "  </thead>\n",
       "  <tbody>\n",
       "    <tr>\n",
       "      <th>BERT_short</th>\n",
       "      <td>0.828217</td>\n",
       "      <td>0.825440</td>\n",
       "      <td>0.831879</td>\n",
       "      <td>0.830659</td>\n",
       "      <td>0.832404</td>\n",
       "    </tr>\n",
       "    <tr>\n",
       "      <th>BERT_long</th>\n",
       "      <td>0.856964</td>\n",
       "      <td>0.863636</td>\n",
       "      <td>0.857920</td>\n",
       "      <td>0.877490</td>\n",
       "      <td>0.865866</td>\n",
       "    </tr>\n",
       "    <tr>\n",
       "      <th>CNN</th>\n",
       "      <td>0.813855</td>\n",
       "      <td>0.819875</td>\n",
       "      <td>0.842651</td>\n",
       "      <td>0.790576</td>\n",
       "      <td>0.806149</td>\n",
       "    </tr>\n",
       "    <tr>\n",
       "      <th>GBC</th>\n",
       "      <td>0.782554</td>\n",
       "      <td>0.814256</td>\n",
       "      <td>0.817467</td>\n",
       "      <td>0.770644</td>\n",
       "      <td>0.792008</td>\n",
       "    </tr>\n",
       "  </tbody>\n",
       "</table>\n",
       "</div>"
      ],
      "text/plain": [
       "                   0         1         2         3         4\n",
       "BERT_short  0.828217  0.825440  0.831879  0.830659  0.832404\n",
       "BERT_long   0.856964  0.863636  0.857920  0.877490  0.865866\n",
       "CNN         0.813855  0.819875  0.842651  0.790576  0.806149\n",
       "GBC         0.782554  0.814256  0.817467  0.770644  0.792008"
      ]
     },
     "execution_count": 15,
     "metadata": {},
     "output_type": "execute_result"
    }
   ],
   "source": [
    "dt"
   ]
  },
  {
   "cell_type": "code",
   "execution_count": 3,
   "metadata": {},
   "outputs": [
    {
     "name": "stdout",
     "output_type": "stream",
     "text": [
      "Normality not rejected: True True True True\n"
     ]
    }
   ],
   "source": [
    "_, p_bert_short = shapiro(dt.loc[\"BERT_short\"])\n",
    "_, p_bert_long = shapiro(dt.loc[\"BERT_long\"])\n",
    "_, p_cnn = shapiro(dt.loc[\"CNN\"])\n",
    "_, p_gbc = shapiro(dt.loc[\"GBC\"])\n",
    "print(\"Normality not rejected:\", p_bert_short > 0.05, p_bert_long > 0.05, p_cnn > 0.05, p_gbc > 0.05)"
   ]
  },
  {
   "cell_type": "markdown",
   "metadata": {},
   "source": [
    "### In case normality assumption is met"
   ]
  },
  {
   "cell_type": "code",
   "execution_count": 17,
   "metadata": {},
   "outputs": [
    {
     "data": {
      "text/plain": [
       "TtestResult(statistic=3.685461535616591, pvalue=0.006170403156304679, df=8.0)"
      ]
     },
     "execution_count": 17,
     "metadata": {},
     "output_type": "execute_result"
    }
   ],
   "source": [
    "#BERT vs CNN\n",
    "ttest_ind((dt.loc[\"BERT_short\"] + dt.loc[\"BERT_long\"])/2, dt.loc[\"CNN\"])"
   ]
  },
  {
   "cell_type": "code",
   "execution_count": 4,
   "metadata": {},
   "outputs": [
    {
     "data": {
      "text/plain": [
       "TtestResult(statistic=-3.685461535616591, pvalue=0.006170403156304679, df=8.0)"
      ]
     },
     "execution_count": 4,
     "metadata": {},
     "output_type": "execute_result"
    }
   ],
   "source": [
    "#BERT vs CNN\n",
    "ttest_ind( dt.loc[\"CNN\"], (dt.loc[\"BERT_short\"] + dt.loc[\"BERT_long\"])/2)"
   ]
  },
  {
   "cell_type": "code",
   "execution_count": 18,
   "metadata": {},
   "outputs": [
    {
     "data": {
      "text/plain": [
       "TtestResult(statistic=5.576694808646178, pvalue=0.0005243230314471253, df=8.0)"
      ]
     },
     "execution_count": 18,
     "metadata": {},
     "output_type": "execute_result"
    }
   ],
   "source": [
    "#BERT vs GBC\n",
    "ttest_ind((dt.loc[\"BERT_short\"] + dt.loc[\"BERT_long\"])/2, dt.loc[\"GBC\"])"
   ]
  },
  {
   "cell_type": "code",
   "execution_count": 19,
   "metadata": {},
   "outputs": [
    {
     "data": {
      "text/plain": [
       "TtestResult(statistic=1.5460995759603404, pvalue=0.16066477744842128, df=8.0)"
      ]
     },
     "execution_count": 19,
     "metadata": {},
     "output_type": "execute_result"
    }
   ],
   "source": [
    "#CNN vs GBC\n",
    "ttest_ind(dt.loc[\"CNN\"], dt.loc[\"GBC\"])"
   ]
  },
  {
   "cell_type": "code",
   "execution_count": null,
   "metadata": {},
   "outputs": [],
   "source": []
  }
 ],
 "metadata": {
  "kernelspec": {
   "display_name": "Python 3",
   "language": "python",
   "name": "python3"
  },
  "language_info": {
   "codemirror_mode": {
    "name": "ipython",
    "version": 3
   },
   "file_extension": ".py",
   "mimetype": "text/x-python",
   "name": "python",
   "nbconvert_exporter": "python",
   "pygments_lexer": "ipython3",
   "version": "3.9.19"
  }
 },
 "nbformat": 4,
 "nbformat_minor": 2
}
