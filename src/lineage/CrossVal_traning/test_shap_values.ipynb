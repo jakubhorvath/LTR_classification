{
 "cells": [
  {
   "cell_type": "code",
   "execution_count": 1,
   "metadata": {},
   "outputs": [
    {
     "name": "stderr",
     "output_type": "stream",
     "text": [
      "/tmp/ipykernel_3594378/666084668.py:3: DeprecationWarning: \n",
      "Pyarrow will become a required dependency of pandas in the next major release of pandas (pandas 3.0),\n",
      "(to allow more performant data types, such as the Arrow string type, and better interoperability with other libraries)\n",
      "but was not found to be installed on your system.\n",
      "If this would cause problems for you,\n",
      "please provide us feedback at https://github.com/pandas-dev/pandas/issues/54466\n",
      "        \n",
      "  import pandas as pd\n"
     ]
    }
   ],
   "source": [
    "import pickle\n",
    "from sklearn.feature_extraction.text import TfidfTransformer\n",
    "import pandas as pd"
   ]
  },
  {
   "cell_type": "code",
   "execution_count": 2,
   "metadata": {},
   "outputs": [],
   "source": [
    "shap_tfbs = [\"AHL20\", \"AT3G46070\", \"TRP5\", \"RAMOSA1\", \"ERF069\", \"REF6\", \"DOF1.5\", \"CDF5\", \"ARF2\", \"CDF2\", \"DOF5.3\", \"DOF5.7\", \"ARR1\", \"DOF3.2\", \"ABI3\", \"ARF16\", \"MNB1A\", \"DREB1D\", \"NID1\", \"MYB24\"]"
   ]
  },
  {
   "cell_type": "markdown",
   "metadata": {},
   "source": [
    "### Load in the motifs "
   ]
  },
  {
   "cell_type": "code",
   "execution_count": 14,
   "metadata": {},
   "outputs": [
    {
     "name": "stdout",
     "output_type": "stream",
     "text": [
      "Indices for LTR sequences and motifs are identical:  True\n"
     ]
    }
   ],
   "source": [
    "import Bio.SeqIO as SeqIO\n",
    "import numpy as np \n",
    "from sklearn.preprocessing import LabelEncoder\n",
    "LTRs = [rec for rec in SeqIO.parse(\"/data/xhorvat9/LTR_classification_data/Sequence_files/train_LTRs.fasta\", \"fasta\") if rec.description.split()[3] != \"NAN\"]\n",
    "LTR_motifs = pd.read_csv(\"/data/xhorvat9/LTR_classification_data/TFBS/LTR_train_motifCounts.csv\", sep=\"\\t\").set_index(\"ID\")\n",
    "\n",
    "\n",
    "# LTR ordering is identical to its motif representation\n",
    "LTR_sequence_df = pd.DataFrame({\"sequence\": [str(rec.seq) for rec in LTRs], \"ID\": [rec.id for rec in LTRs], \"label\": [rec.description.split()[3] for rec in LTRs]})\n",
    "LTR_sequence_df.set_index(\"ID\", inplace=True)\n",
    "LTR_sequence_df = LTR_sequence_df.merge(LTR_motifs, on=\"ID\")[[\"sequence\", \"label\"]]\n",
    "X_motifs = LTR_sequence_df.merge(LTR_motifs, on=\"ID\").drop([\"sequence\", \"label\"], axis= 1)\n",
    "print(\"Indices for LTR sequences and motifs are identical: \", all(X_motifs.index == LTR_sequence_df.index))\n",
    "\n",
    "\n",
    "X = np.array(LTR_sequence_df[\"sequence\"].tolist())\n",
    "\n",
    "le = LabelEncoder()\n",
    "y = le.fit_transform(LTR_sequence_df[\"label\"])\n",
    "\n",
    "#X_motifs = LTR_motifs"
   ]
  },
  {
   "cell_type": "code",
   "execution_count": 4,
   "metadata": {},
   "outputs": [],
   "source": [
    "tfidf = TfidfTransformer()\n",
    "X = tfidf.fit_transform(X_motifs).toarray()\n",
    "\n",
    "# score = clf.score(X, y)"
   ]
  },
  {
   "cell_type": "markdown",
   "metadata": {},
   "source": [
    "### Load the trained GBC classifier "
   ]
  },
  {
   "cell_type": "code",
   "execution_count": 12,
   "metadata": {},
   "outputs": [
    {
     "data": {
      "text/plain": [
       "(141533, 654)"
      ]
     },
     "execution_count": 12,
     "metadata": {},
     "output_type": "execute_result"
    }
   ],
   "source": [
    "X_motifs.shape"
   ]
  },
  {
   "cell_type": "code",
   "execution_count": null,
   "metadata": {},
   "outputs": [
    {
     "name": "stderr",
     "output_type": "stream",
     "text": [
      "  0%|          | 0/20 [00:00<?, ?it/s]"
     ]
    },
    {
     "name": "stderr",
     "output_type": "stream",
     "text": [
      " 25%|██▌       | 5/20 [00:50<02:31, 10.12s/it]"
     ]
    }
   ],
   "source": [
    "import tqdm\n",
    "tfbs_performance = {}\n",
    "GBC = pickle.load(open(\"GBC_model_FULL.pkl\", \"rb\"))\n",
    "for tfbs in tqdm.tqdm(shap_tfbs):\n",
    "\n",
    "    # Turn feature of interest to 0\n",
    "    X_modified = X_motifs.copy()\n",
    "    X_modified[[tfbs]] = 0\n",
    "\n",
    "    # Scale using TF-IDF\n",
    "    tfidf = TfidfTransformer()\n",
    "    X = tfidf.fit_transform(X_modified).toarray()\n",
    "\n",
    "    # Run the classifier\n",
    "    modified_score = GBC.score(X, y)\n",
    "\n",
    "    tfbs_performance[tfbs] = modified_score"
   ]
  },
  {
   "cell_type": "code",
   "execution_count": 6,
   "metadata": {},
   "outputs": [
    {
     "data": {
      "text/plain": [
       "{'AHL20': 0.7645143035328629,\n",
       " 'AT3G46070': 0.781191171884925,\n",
       " 'TRP5': 0.775890145171908,\n",
       " 'RAMOSA1': 0.7802210493492094,\n",
       " 'ERF069': 0.780683012461455,\n",
       " 'REF6': 0.7798283807038008,\n",
       " 'DOF1.5': 0.7795281046808412,\n",
       " 'CDF5': 0.7800824604155359,\n",
       " 'ARF2': 0.7809717394066084,\n",
       " 'CDF2': 0.7824615704436001,\n",
       " 'DOF5.3': 0.7767101296961437,\n",
       " 'DOF5.7': 0.7805790707611997,\n",
       " 'ARR1': 0.7804058345941076,\n",
       " 'DOF3.2': 0.781861018397681,\n",
       " 'ABI3': 0.7790430434129835,\n",
       " 'ARF16': 0.7812489172739556,\n",
       " 'MNB1A': 0.7813066626629863,\n",
       " 'DREB1D': 0.7801286567267604,\n",
       " 'NID1': 0.7818148220864564,\n",
       " 'MYB24': 0.78093709217319}"
      ]
     },
     "execution_count": 6,
     "metadata": {},
     "output_type": "execute_result"
    }
   ],
   "source": [
    "tfbs_performance"
   ]
  },
  {
   "cell_type": "code",
   "execution_count": 20,
   "metadata": {},
   "outputs": [
    {
     "name": "stderr",
     "output_type": "stream",
     "text": [
      "  0%|          | 0/20 [00:00<?, ?it/s]"
     ]
    },
    {
     "name": "stderr",
     "output_type": "stream",
     "text": [
      "100%|██████████| 20/20 [02:05<00:00,  6.27s/it]\n"
     ]
    }
   ],
   "source": [
    "import tqdm\n",
    "import random\n",
    "randomized_performance = {}\n",
    "GBC = pickle.load(open(\"GBC_model_FULL.pkl\", \"rb\"))\n",
    "for tfbs in tqdm.tqdm(shap_tfbs):\n",
    "\n",
    "    # Turn feature of interest to 0\n",
    "    X_modified = X_motifs.copy()\n",
    "    X_modified[[tfbs]] = random.randint(0, max(X_modified[[tfbs]].values)[0])\n",
    "\n",
    "    # Scale using TF-IDF\n",
    "    tfidf = TfidfTransformer()\n",
    "    X = tfidf.fit_transform(X_modified).toarray()\n",
    "\n",
    "    # Run the classifier\n",
    "    modified_score = GBC.score(X, y)\n",
    "\n",
    "    randomized_performance[tfbs] = modified_score"
   ]
  },
  {
   "cell_type": "code",
   "execution_count": 21,
   "metadata": {},
   "outputs": [
    {
     "data": {
      "text/plain": [
       "{'AHL20': 0.604651968540312,\n",
       " 'AT3G46070': 0.7806252670724243,\n",
       " 'TRP5': 0.7389330961922691,\n",
       " 'RAMOSA1': 0.7707854527815954,\n",
       " 'ERF069': 0.7186529155646921,\n",
       " 'REF6': 0.780683012461455,\n",
       " 'DOF1.5': 0.7768602677076235,\n",
       " 'CDF5': 0.7740076454895076,\n",
       " 'ARF2': 0.778835160012473,\n",
       " 'CDF2': 0.6825966946539319,\n",
       " 'DOF5.3': 0.6528693683809348,\n",
       " 'DOF5.7': 0.7128552785060113,\n",
       " 'ARR1': 0.7799900677930868,\n",
       " 'DOF3.2': 0.7804404818275261,\n",
       " 'ABI3': 0.7623661750609214,\n",
       " 'ARF16': 0.6954161710187442,\n",
       " 'MNB1A': 0.7708547472484322,\n",
       " 'DREB1D': 0.7786272766119625,\n",
       " 'NID1': 0.7473523739129431,\n",
       " 'MYB24': 0.7699654682573597}"
      ]
     },
     "execution_count": 21,
     "metadata": {},
     "output_type": "execute_result"
    }
   ],
   "source": [
    "randomized_performance"
   ]
  },
  {
   "cell_type": "markdown",
   "metadata": {},
   "source": [
    "## Do the same for insignificant features"
   ]
  }
 ],
 "metadata": {
  "kernelspec": {
   "display_name": "Python 3",
   "language": "python",
   "name": "python3"
  },
  "language_info": {
   "codemirror_mode": {
    "name": "ipython",
    "version": 3
   },
   "file_extension": ".py",
   "mimetype": "text/x-python",
   "name": "python",
   "nbconvert_exporter": "python",
   "pygments_lexer": "ipython3",
   "version": "3.9.19"
  }
 },
 "nbformat": 4,
 "nbformat_minor": 2
}
