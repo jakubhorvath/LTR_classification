{
 "cells": [
  {
   "cell_type": "code",
   "execution_count": 10,
   "metadata": {},
   "outputs": [],
   "source": [
    "from scipy.stats import ttest_ind, normaltest, shapiro\n",
    "\n",
    "split_n = 0\n",
    "splits = {}\n",
    "with open(\"training_out_10_splits.log\", \"r\") as f:\n",
    "    lines = f.readlines()\n",
    "    for line in lines:\n",
    "        split_line = line.split()\n",
    "        if split_line[0] == \"Split\":\n",
    "            split_n = int(split_line[1])\n",
    "            splits[split_n] = {}\n",
    "        elif split_line[0] == \"BERT\":\n",
    "            splits[split_n][\"BERT\"] = (float(split_line[9][:-1]))\n",
    "        elif split_line[0] == \"CNN\":\n",
    "            splits[split_n][\"CNN\"] = (float(split_line[9][:-1]))\n",
    "        elif split_line[0] == \"GBC\":\n",
    "            splits[split_n][\"GBC\"] = (float(split_line[9][:-1]))"
   ]
  },
  {
   "cell_type": "code",
   "execution_count": null,
   "metadata": {},
   "outputs": [],
   "source": [
    "import pandas as pd\n",
    "dt = pd.DataFrame(splits)"
   ]
  },
  {
   "cell_type": "code",
   "execution_count": 14,
   "metadata": {},
   "outputs": [
    {
     "data": {
      "text/html": [
       "<div>\n",
       "<style scoped>\n",
       "    .dataframe tbody tr th:only-of-type {\n",
       "        vertical-align: middle;\n",
       "    }\n",
       "\n",
       "    .dataframe tbody tr th {\n",
       "        vertical-align: top;\n",
       "    }\n",
       "\n",
       "    .dataframe thead th {\n",
       "        text-align: right;\n",
       "    }\n",
       "</style>\n",
       "<table border=\"1\" class=\"dataframe\">\n",
       "  <thead>\n",
       "    <tr style=\"text-align: right;\">\n",
       "      <th></th>\n",
       "      <th>test</th>\n",
       "      <th>statistic</th>\n",
       "      <th>pvalue</th>\n",
       "    </tr>\n",
       "  </thead>\n",
       "  <tbody>\n",
       "    <tr>\n",
       "      <th>0</th>\n",
       "      <td>Friedman</td>\n",
       "      <td>16.909091</td>\n",
       "      <td>0.000213</td>\n",
       "    </tr>\n",
       "    <tr>\n",
       "      <th>0</th>\n",
       "      <td>wilcoxon CNN vs DNABERT</td>\n",
       "      <td>32.000000</td>\n",
       "      <td>0.965820</td>\n",
       "    </tr>\n",
       "    <tr>\n",
       "      <th>1</th>\n",
       "      <td>wilcoxon CNN vs GBC</td>\n",
       "      <td>0.000000</td>\n",
       "      <td>0.000977</td>\n",
       "    </tr>\n",
       "    <tr>\n",
       "      <th>2</th>\n",
       "      <td>wilcoxon DNABERT vs GBC</td>\n",
       "      <td>0.000000</td>\n",
       "      <td>0.000977</td>\n",
       "    </tr>\n",
       "  </tbody>\n",
       "</table>\n",
       "</div>"
      ],
      "text/plain": [
       "                      test  statistic    pvalue\n",
       "0                 Friedman  16.909091  0.000213\n",
       "0  wilcoxon CNN vs DNABERT  32.000000  0.965820\n",
       "1      wilcoxon CNN vs GBC   0.000000  0.000977\n",
       "2  wilcoxon DNABERT vs GBC   0.000000  0.000977"
      ]
     },
     "execution_count": 14,
     "metadata": {},
     "output_type": "execute_result"
    }
   ],
   "source": [
    "from scipy.stats import friedmanchisquare, wilcoxon\n",
    "from scikit_posthocs import posthoc_nemenyi_friedman\n",
    "import numpy as np\n",
    "import pandas as pd\n",
    "import itertools\n",
    "\n",
    "np.random.seed(0)\n",
    "df = pd.DataFrame(dt.to_numpy().T.reshape(11,3),columns=['CNN','DNABERT','GBC'])\n",
    "\n",
    "f_test = friedmanchisquare(df['CNN'],df['DNABERT'],df['GBC'])\n",
    "f_res = pd.DataFrame({'test':'Friedman','statistic':f_test[0],'pvalue':f_test[1]},index=[0])\n",
    "\n",
    "\n",
    "\n",
    "wilc_test = [wilcoxon(df[i],df[j]) for i,j in itertools.combinations(df.columns,2)]    \n",
    "w_res = pd.DataFrame(wilc_test)\n",
    "w_res['test'] = [\"wilcoxon \" + i+\" vs \"+j for i,j in itertools.combinations(df.columns,2)]  \n",
    "\n",
    "pd.concat([f_res,w_res])"
   ]
  },
  {
   "cell_type": "code",
   "execution_count": 23,
   "metadata": {},
   "outputs": [
    {
     "data": {
      "text/html": [
       "<div>\n",
       "<style scoped>\n",
       "    .dataframe tbody tr th:only-of-type {\n",
       "        vertical-align: middle;\n",
       "    }\n",
       "\n",
       "    .dataframe tbody tr th {\n",
       "        vertical-align: top;\n",
       "    }\n",
       "\n",
       "    .dataframe thead th {\n",
       "        text-align: right;\n",
       "    }\n",
       "</style>\n",
       "<table border=\"1\" class=\"dataframe\">\n",
       "  <thead>\n",
       "    <tr style=\"text-align: right;\">\n",
       "      <th></th>\n",
       "      <th>0</th>\n",
       "      <th>1</th>\n",
       "      <th>2</th>\n",
       "    </tr>\n",
       "  </thead>\n",
       "  <tbody>\n",
       "    <tr>\n",
       "      <th>0</th>\n",
       "      <td>1.000000</td>\n",
       "      <td>0.777626</td>\n",
       "      <td>0.001000</td>\n",
       "    </tr>\n",
       "    <tr>\n",
       "      <th>1</th>\n",
       "      <td>0.777626</td>\n",
       "      <td>1.000000</td>\n",
       "      <td>0.003955</td>\n",
       "    </tr>\n",
       "    <tr>\n",
       "      <th>2</th>\n",
       "      <td>0.001000</td>\n",
       "      <td>0.003955</td>\n",
       "      <td>1.000000</td>\n",
       "    </tr>\n",
       "  </tbody>\n",
       "</table>\n",
       "</div>"
      ],
      "text/plain": [
       "          0         1         2\n",
       "0  1.000000  0.777626  0.001000\n",
       "1  0.777626  1.000000  0.003955\n",
       "2  0.001000  0.003955  1.000000"
      ]
     },
     "execution_count": 23,
     "metadata": {},
     "output_type": "execute_result"
    }
   ],
   "source": [
    "posthoc_nemenyi_friedman(dt.to_numpy().T)"
   ]
  },
  {
   "cell_type": "code",
   "execution_count": null,
   "metadata": {},
   "outputs": [],
   "source": [
    "posthoc_nemenyi_friedman"
   ]
  },
  {
   "cell_type": "code",
   "execution_count": 13,
   "metadata": {},
   "outputs": [
    {
     "data": {
      "text/plain": [
       "<Axes: >"
      ]
     },
     "execution_count": 13,
     "metadata": {},
     "output_type": "execute_result"
    },
    {
     "data": {
      "image/png": "[encoded data removed]",
      "text/plain": [
       "<Figure size 640x480 with 1 Axes>"
      ]
     },
     "metadata": {},
     "output_type": "display_data"
    }
   ],
   "source": [
    "import seaborn as sns\n",
    "\n",
    "sns.boxplot(data=df, orient='v', palette='Set2')"
   ]
  },
  {
   "cell_type": "code",
   "execution_count": null,
   "metadata": {},
   "outputs": [],
   "source": [
    "_, p_bert_short = shapiro(dt.loc[\"BERT_short\"])\n",
    "_, p_bert_long = shapiro(dt.loc[\"BERT_long\"])\n",
    "_, p_cnn = shapiro(dt.loc[\"CNN\"])\n",
    "_, p_gbc = shapiro(dt.loc[\"GBC\"])\n",
    "print(p_bert_short, p_bert_long, p_cnn, p_gbc)"
   ]
  },
  {
   "cell_type": "markdown",
   "metadata": {},
   "source": [
    "### In case normality assumption is met"
   ]
  },
  {
   "cell_type": "code",
   "execution_count": 46,
   "metadata": {},
   "outputs": [
    {
     "data": {
      "text/plain": [
       "TtestResult(statistic=3.5306115082139162, pvalue=0.0023886710148305953, df=18.0)"
      ]
     },
     "execution_count": 46,
     "metadata": {},
     "output_type": "execute_result"
    }
   ],
   "source": [
    "#BERT vs CNN\n",
    "ttest_ind((dt.loc[\"BERT_short\"] + dt.loc[\"BERT_long\"])/2, dt.loc[\"CNN\"])"
   ]
  },
  {
   "cell_type": "code",
   "execution_count": 49,
   "metadata": {},
   "outputs": [
    {
     "data": {
      "text/plain": [
       "TtestResult(statistic=14.432813312829188, pvalue=2.4524475134995544e-11, df=18.0)"
      ]
     },
     "execution_count": 49,
     "metadata": {},
     "output_type": "execute_result"
    }
   ],
   "source": [
    "#BERT vs GBC\n",
    "ttest_ind((dt.loc[\"BERT_short\"] + dt.loc[\"BERT_long\"])/2, dt.loc[\"GBC\"])"
   ]
  },
  {
   "cell_type": "code",
   "execution_count": 50,
   "metadata": {},
   "outputs": [
    {
     "data": {
      "text/plain": [
       "TtestResult(statistic=-2.54119941166395, pvalue=0.02047284172560717, df=18.0)"
      ]
     },
     "execution_count": 50,
     "metadata": {},
     "output_type": "execute_result"
    }
   ],
   "source": [
    "#CNN vs GBC\n",
    "ttest_ind(dt.loc[\"CNN\"], dt.loc[\"GBC\"])"
   ]
  }
 ],
 "metadata": {
  "kernelspec": {
   "display_name": "GeneralEnv",
   "language": "python",
   "name": "python3"
  },
  "language_info": {
   "codemirror_mode": {
    "name": "ipython",
    "version": 3
   },
   "file_extension": ".py",
   "mimetype": "text/x-python",
   "name": "python",
   "nbconvert_exporter": "python",
   "pygments_lexer": "ipython3",
   "version": "3.9.17"
  }
 },
 "nbformat": 4,
 "nbformat_minor": 2
}
