{
 "cells": [
  {
   "cell_type": "code",
   "execution_count": 1,
   "metadata": {},
   "outputs": [
    {
     "name": "stderr",
     "output_type": "stream",
     "text": [
      "2024-02-18 16:07:14.157840: E tensorflow/compiler/xla/stream_executor/cuda/cuda_dnn.cc:9342] Unable to register cuDNN factory: Attempting to register factory for plugin cuDNN when one has already been registered\n",
      "2024-02-18 16:07:14.157914: E tensorflow/compiler/xla/stream_executor/cuda/cuda_fft.cc:609] Unable to register cuFFT factory: Attempting to register factory for plugin cuFFT when one has already been registered\n",
      "2024-02-18 16:07:14.157943: E tensorflow/compiler/xla/stream_executor/cuda/cuda_blas.cc:1518] Unable to register cuBLAS factory: Attempting to register factory for plugin cuBLAS when one has already been registered\n",
      "2024-02-18 16:07:14.163955: I tensorflow/core/platform/cpu_feature_guard.cc:182] This TensorFlow binary is optimized to use available CPU instructions in performance-critical operations.\n",
      "To enable the following instructions: AVX2 FMA, in other operations, rebuild TensorFlow with the appropriate compiler flags.\n",
      "2024-02-18 16:07:16.348987: E tensorflow/compiler/xla/stream_executor/cuda/cuda_driver.cc:268] failed call to cuInit: CUDA_ERROR_NOT_INITIALIZED: initialization error\n",
      "2024-02-18 16:07:16.349054: I tensorflow/compiler/xla/stream_executor/cuda/cuda_diagnostics.cc:168] retrieving CUDA diagnostic information for host: aura.fi.muni.cz\n",
      "2024-02-18 16:07:16.349064: I tensorflow/compiler/xla/stream_executor/cuda/cuda_diagnostics.cc:175] hostname: aura.fi.muni.cz\n",
      "2024-02-18 16:07:16.349151: I tensorflow/compiler/xla/stream_executor/cuda/cuda_diagnostics.cc:199] libcuda reported version is: 535.86.10\n",
      "2024-02-18 16:07:16.349213: I tensorflow/compiler/xla/stream_executor/cuda/cuda_diagnostics.cc:203] kernel reported version is: 535.86.10\n",
      "2024-02-18 16:07:16.349223: I tensorflow/compiler/xla/stream_executor/cuda/cuda_diagnostics.cc:309] kernel version seems to match DSO: 535.86.10\n"
     ]
    }
   ],
   "source": [
    "import tensorflow as tf\n",
    "# Load the model\n",
    "model = tf.keras.models.load_model('all_length_cnn_lstm.h5')\n",
    "conv1d_layer = model.layers[0]\n",
    "# Extract the weights from the Conv1D layer\n",
    "filters = conv1d_layer.get_weights()[0]"
   ]
  },
  {
   "cell_type": "markdown",
   "metadata": {},
   "source": [
    "# write to pfm file"
   ]
  },
  {
   "cell_type": "code",
   "execution_count": 16,
   "metadata": {},
   "outputs": [],
   "source": [
    "import math\n",
    "\n",
    "pos1 = [0.05, 0.1, 0.04, 0.06]\n",
    "H = 2\n",
    "for p in pos1: \n",
    "    H += p*math.log2(p)\n",
    "H"
   ]
  },
  {
   "cell_type": "code",
   "execution_count": 5,
   "metadata": {},
   "outputs": [],
   "source": [
    "from Bio import motifs\n",
    "import numpy as np\n",
    "from utils.CNN_utils import normalize_pwm\n",
    "mots = []\n",
    "for i in range(128):\n",
    "    pfm = {}\n",
    "    probability_matrix = filters[:,:,i]\n",
    "    normalized_matrix = normalize_pwm(probability_matrix)\n",
    "    normalized_matrix = (normalized_matrix * 100).astype(int)\n",
    "    for j, nuc in enumerate([\"A\", \"C\", \"G\", \"T\"]):\n",
    "        pfm[nuc] = np.transpose(normalized_matrix)[j].tolist()\n",
    "\n",
    "    m = motifs.Motif(counts=pfm)\n",
    "    m.name = f\"f{i}\"\n",
    "    m.matrix_id=\"filter_\" + str(i)\n",
    "    mots.append(m)"
   ]
  },
  {
   "cell_type": "code",
   "execution_count": 6,
   "metadata": {},
   "outputs": [],
   "source": [
    "with open(\"CNN_filter_motifs.pfm\", \"w+\") as handle:\n",
    "    for m in mots:\n",
    "        handle.write(m.format(\"jaspar\"))"
   ]
  },
  {
   "cell_type": "code",
   "execution_count": null,
   "metadata": {},
   "outputs": [],
   "source": [
    "# Print the motif\n",
    "print(motif.format(\"jaspar\"))\n",
    "with open(\"test_motif.pfm\", \"w+\") as handle:\n",
    "    motifs.write(motifs, handle, \"jaspar\")"
   ]
  },
  {
   "cell_type": "code",
   "execution_count": null,
   "metadata": {},
   "outputs": [],
   "source": [
    "import pandas as pd\n",
    "import logomaker\n",
    "from sklearn.preprocessing import MinMaxScaler\n",
    "\n",
    "scaler = MinMaxScaler()\n",
    "\n",
    "filt = conv1d_layer.get_weights()[0]\n",
    "# Load the filters\n",
    "first_filter = np.array(viz_filters).reshape(64, 4, 8)[29]\n",
    "# Convert to DataFrame\n",
    "df[[\"A\", \"C\", \"G\", \"T\"]] = scaler.fit_transform(pd.DataFrame(viz_filters).T)\n",
    "df.columns = ['A', 'C', 'G', 'T']\n",
    "logomaker.Logo(df)"
   ]
  },
  {
   "cell_type": "markdown",
   "metadata": {},
   "source": [
    "# Generate a saliency map"
   ]
  },
  {
   "cell_type": "code",
   "execution_count": 22,
   "metadata": {},
   "outputs": [
    {
     "name": "stderr",
     "output_type": "stream",
     "text": [
      "100%|██████████| 20000/20000 [00:03<00:00, 5605.23it/s]\n"
     ]
    }
   ],
   "source": [
    "import Bio.SeqIO as SeqIO \n",
    "import random\n",
    "import tqdm\n",
    "from utils.CNN_utils import onehote, remove_N\n",
    "import numpy as np\n",
    "\n",
    "MAX_LEN=4000\n",
    "MIN_LEN=0\n",
    "random.seed(10)\n",
    "LTRs_file = \"test_LTRs.fasta\"\n",
    "LTRs = [rec for rec in SeqIO.parse(LTRs_file, \"fasta\") if len(rec.seq) < MAX_LEN and len(rec.seq) > MIN_LEN]\n",
    "LTRs = random.sample(LTRs, 20000)\n",
    "\n",
    "\n",
    "sequences = [onehote(remove_N(str(rec.seq))) for rec in tqdm.tqdm(LTRs)]\n",
    "paddedDNA = tf.keras.preprocessing.sequence.pad_sequences(sequences, padding=\"pre\", maxlen=3000)"
   ]
  },
  {
   "cell_type": "code",
   "execution_count": 23,
   "metadata": {},
   "outputs": [
    {
     "data": {
      "text/plain": [
       "(1, 3000, 4)"
      ]
     },
     "execution_count": 23,
     "metadata": {},
     "output_type": "execute_result"
    }
   ],
   "source": [
    "paddedDNA[0:1, :, :].shape"
   ]
  },
  {
   "cell_type": "markdown",
   "metadata": {},
   "source": [
    "## Saliency map computation"
   ]
  },
  {
   "cell_type": "code",
   "execution_count": 45,
   "metadata": {},
   "outputs": [],
   "source": [
    "@tf.function\n",
    "def compute_saliency_map(model, input_sequence):\n",
    "    threshold = 0.5 \n",
    "    with tf.GradientTape() as tape:\n",
    "        tape.watch(input_sequence)\n",
    "        predictions = model(input_sequence)\n",
    "        predicted_class =  tf.cast(predictions > threshold, tf.int32)\n",
    "        loss = predictions.numpy()[:, predicted_class]\n",
    "    gradients = tape.gradient(loss, input_sequence)\n",
    "    saliency = tf.reduce_sum(tf.abs(gradients), axis=-1)\n",
    "    return saliency\n",
    "\n",
    "def compute_saliency_map(model, input_sequence):\n",
    "    input_sequence = tf.convert_to_tensor(input_sequence, dtype=tf.float32)\n",
    "    with tf.GradientTape() as tape:\n",
    "        tape.watch(input_sequence)\n",
    "        predictions = model(input_sequence, training=False)[0] # Assuming binary classification, index 1 is for positive class\n",
    "\n",
    "    gradients = tape.gradient(predictions, input_sequence)\n",
    "    saliency = tf.abs(gradients)\n",
    "\n",
    "    # Normalize gradients\n",
    "    saliency /= tf.reduce_max(saliency)\n",
    "\n",
    "    return saliency.numpy()\n"
   ]
  },
  {
   "cell_type": "code",
   "execution_count": 46,
   "metadata": {},
   "outputs": [],
   "source": [
    "sample_sequence = paddedDNA[0:1, :, :]\n",
    "\n",
    "# Compute the saliency map for the sample sequence\n",
    "saliency_map = compute_saliency_map(model, sample_sequence)"
   ]
  }
 ],
 "metadata": {
  "kernelspec": {
   "display_name": "Python 3",
   "language": "python",
   "name": "python3"
  },
  "language_info": {
   "codemirror_mode": {
    "name": "ipython",
    "version": 3
   },
   "file_extension": ".py",
   "mimetype": "text/x-python",
   "name": "python",
   "nbconvert_exporter": "python",
   "pygments_lexer": "ipython3",
   "version": "3.9.18"
  }
 },
 "nbformat": 4,
 "nbformat_minor": 2
}
