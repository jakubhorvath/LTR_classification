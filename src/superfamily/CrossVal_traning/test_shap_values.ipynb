{
 "cells": [
  {
   "cell_type": "code",
   "execution_count": 34,
   "metadata": {},
   "outputs": [],
   "source": [
    "import pickle\n",
    "from sklearn.feature_extraction.text import TfidfTransformer\n",
    "import pandas as pd"
   ]
  },
  {
   "cell_type": "code",
   "execution_count": 35,
   "metadata": {},
   "outputs": [],
   "source": [
    "shap_tfbs = [\"POPTR_0002s00440g\", \"DOF5.8\", \"TREE1\", \"BEE2\", \"AT5G04390\", \"AHL20\", \"P0510F09.23\", \"DOF5.3\", \"AT5G05790\", \"ARF39\", \"AT3G46070\", \"ARF16\", \"AT1G14600\", \"DOF5.7\", \"GT-2\", \"TSAR2\", \"Zm00001d035604\", \"ERF069\", \"GRF4\", \"SIZF2\"]"
   ]
  },
  {
   "cell_type": "markdown",
   "metadata": {},
   "source": [
    "### Load in the motifs "
   ]
  },
  {
   "cell_type": "code",
   "execution_count": 36,
   "metadata": {},
   "outputs": [
    {
     "name": "stdout",
     "output_type": "stream",
     "text": [
      "Indices for LTR sequences and motifs are identical:  True\n"
     ]
    }
   ],
   "source": [
    "import Bio.SeqIO as SeqIO\n",
    "import numpy as np \n",
    "from sklearn.preprocessing import LabelEncoder\n",
    "LTRs = [rec for rec in SeqIO.parse(\"/data/xhorvat9/LTR_classification_data/Sequence_files/test_LTRs.fasta\", \"fasta\") if rec.description.split()[3] != \"NAN\"]\n",
    "LTR_motifs = pd.read_csv(\"/data/xhorvat9/LTR_classification_data/TFBS/LTR_test_motifCounts.csv\", sep=\"\\t\").set_index(\"ID\")\n",
    "\n",
    "\n",
    "# LTR ordering is identical to its motif representation\n",
    "LTR_sequence_df = pd.DataFrame({\"sequence\": [str(rec.seq) for rec in LTRs], \"ID\": [rec.id for rec in LTRs], \"label\": [rec.description.split()[3] for rec in LTRs]})\n",
    "LTR_sequence_df.set_index(\"ID\", inplace=True)\n",
    "LTR_sequence_df = LTR_sequence_df.merge(LTR_motifs, on=\"ID\")[[\"sequence\", \"label\"]]\n",
    "X_motifs = LTR_sequence_df.merge(LTR_motifs, on=\"ID\").drop([\"sequence\", \"label\"], axis= 1)\n",
    "print(\"Indices for LTR sequences and motifs are identical: \", all(X_motifs.index == LTR_sequence_df.index))\n",
    "\n",
    "\n",
    "X = np.array(LTR_sequence_df[\"sequence\"].tolist())\n",
    "\n",
    "le = LabelEncoder()\n",
    "y = le.fit_transform(LTR_sequence_df[\"label\"])\n",
    "\n",
    "#X_motifs = LTR_motifs"
   ]
  },
  {
   "cell_type": "code",
   "execution_count": 37,
   "metadata": {},
   "outputs": [],
   "source": [
    "tfidf = TfidfTransformer()\n",
    "X = tfidf.fit_transform(X_motifs).toarray()\n",
    "\n",
    "# score = clf.score(X, y)"
   ]
  },
  {
   "cell_type": "markdown",
   "metadata": {},
   "source": [
    "### Load the trained GBC classifier "
   ]
  },
  {
   "cell_type": "code",
   "execution_count": 12,
   "metadata": {},
   "outputs": [
    {
     "data": {
      "text/plain": [
       "(141533, 654)"
      ]
     },
     "execution_count": 12,
     "metadata": {},
     "output_type": "execute_result"
    }
   ],
   "source": [
    "X_motifs.shape"
   ]
  },
  {
   "cell_type": "code",
   "execution_count": 21,
   "metadata": {},
   "outputs": [
    {
     "name": "stderr",
     "output_type": "stream",
     "text": [
      "  0%|          | 0/20 [00:00<?, ?it/s]"
     ]
    },
    {
     "name": "stderr",
     "output_type": "stream",
     "text": [
      "100%|██████████| 20/20 [00:47<00:00,  2.37s/it]\n"
     ]
    }
   ],
   "source": [
    "import tqdm\n",
    "tfbs_performance = {}\n",
    "GBC = pickle.load(open(\"GBC_model_FULL.pkl\", \"rb\"))\n",
    "for tfbs in tqdm.tqdm(shap_tfbs):\n",
    "\n",
    "    # Turn feature of interest to 0\n",
    "    X_modified = X_motifs.copy()\n",
    "    X_modified[[tfbs]] = 0\n",
    "\n",
    "    # Scale using TF-IDF\n",
    "    tfidf = TfidfTransformer()\n",
    "    X = tfidf.fit_transform(X_modified).toarray()\n",
    "\n",
    "    # Run the classifier\n",
    "    modified_score = GBC.score(X, y)\n",
    "\n",
    "    tfbs_performance[tfbs] = modified_score"
   ]
  },
  {
   "cell_type": "code",
   "execution_count": 22,
   "metadata": {},
   "outputs": [
    {
     "data": {
      "text/plain": [
       "{'POPTR_0002s00440g': 0.824608666061706,\n",
       " 'DOF5.8': 0.8236445099818511,\n",
       " 'TREE1': 0.8178595735027223,\n",
       " 'BEE2': 0.8200147459165155,\n",
       " 'AT5G04390': 0.8240982304900182,\n",
       " 'AHL20': 0.8246653811252269,\n",
       " 'P0510F09.23': 0.8210923321234119,\n",
       " 'DOF5.3': 0.8241833030852994,\n",
       " 'AT5G05790': 0.8234743647912885,\n",
       " 'ARF39': 0.8253743194192378,\n",
       " 'AT3G46070': 0.8180580762250453,\n",
       " 'ARF16': 0.8223400635208712,\n",
       " 'AT1G14600': 0.8245803085299456,\n",
       " 'DOF5.7': 0.825260889292196,\n",
       " 'GT-2': 0.8254026769509982,\n",
       " 'TSAR2': 0.825260889292196,\n",
       " 'Zm00001d035604': 0.8250056715063521,\n",
       " 'ERF069': 0.8253176043557169,\n",
       " 'GRF4': 0.823502722323049,\n",
       " 'SIZF2': 0.8254310344827587}"
      ]
     },
     "execution_count": 22,
     "metadata": {},
     "output_type": "execute_result"
    }
   ],
   "source": [
    "tfbs_performance"
   ]
  },
  {
   "cell_type": "code",
   "execution_count": 38,
   "metadata": {},
   "outputs": [
    {
     "name": "stderr",
     "output_type": "stream",
     "text": [
      "  0%|          | 0/20 [00:00<?, ?it/s]"
     ]
    },
    {
     "name": "stderr",
     "output_type": "stream",
     "text": [
      "100%|██████████| 20/20 [00:47<00:00,  2.39s/it]\n",
      "100%|██████████| 20/20 [00:47<00:00,  2.38s/it]\n",
      "100%|██████████| 20/20 [00:47<00:00,  2.38s/it]\n",
      "100%|██████████| 20/20 [00:47<00:00,  2.38s/it]\n",
      "100%|██████████| 20/20 [00:47<00:00,  2.38s/it]\n"
     ]
    }
   ],
   "source": [
    "import tqdm\n",
    "import random\n",
    "from sklearn.metrics import balanced_accuracy_score\n",
    "\n",
    "all_perfos = {}\n",
    "GBC = pickle.load(open(\"GBC_model_FULL.pkl\", \"rb\"))\n",
    "for i in range(5):\n",
    "    randomized_performance = {}\n",
    "    for tfbs in tqdm.tqdm(shap_tfbs):\n",
    "\n",
    "        # Turn feature of interest to 0\n",
    "        X_modified = X_motifs.copy()\n",
    "        mx = max(X_modified[[tfbs]].values)[0]\n",
    "        X_modified[tfbs] = [random.randint(0, mx) for _ in range(len(X_modified[[tfbs]]))]\n",
    "        # Scale using TF-IDF\n",
    "        tfidf = TfidfTransformer()\n",
    "        X = tfidf.fit_transform(X_modified).toarray()\n",
    "\n",
    "        # Run the classifier\n",
    "        predictions = GBC.predict(X)\n",
    "        modified_score = balanced_accuracy_score(predictions, y )\n",
    "        \n",
    "        randomized_performance[tfbs] = modified_score\n",
    "    all_perfos[i] = randomized_performance"
   ]
  },
  {
   "cell_type": "code",
   "execution_count": 45,
   "metadata": {},
   "outputs": [],
   "source": [
    "dt = pd.DataFrame(all_perfos)\n",
    "for i in range(5):\n",
    "    dt[i] -= 0.8236445099818511\n",
    "    dt[i] *= -100"
   ]
  },
  {
   "cell_type": "code",
   "execution_count": 67,
   "metadata": {},
   "outputs": [
    {
     "data": {
      "text/plain": [
       "Text(0.5, 0, 'Accuracy decrease (%)')"
      ]
     },
     "execution_count": 67,
     "metadata": {},
     "output_type": "execute_result"
    },
    {
     "data": {
      "image/png": "[encoded data removed]",
      "text/plain": [
       "<Figure size 1170x827 with 1 Axes>"
      ]
     },
     "metadata": {},
     "output_type": "display_data"
    }
   ],
   "source": [
    "import seaborn as sns\n",
    "import matplotlib.pyplot as plt\n",
    "sns.set_theme(rc={'figure.figsize':(11.7,8.27)})\n",
    "g = sns.boxplot(data=dt.T, orient=\"h\")\n",
    "g.set_xlabel(\"Accuracy decrease (%)\")\n",
    "#for x in shap_tfbs:\n",
    "#    plt.axhline(y=x, lw=0.1) "
   ]
  },
  {
   "cell_type": "code",
   "execution_count": 39,
   "metadata": {},
   "outputs": [
    {
     "ename": "AttributeError",
     "evalue": "'dict' object has no attribute 'deepcopy'",
     "output_type": "error",
     "traceback": [
      "\u001b[0;31m---------------------------------------------------------------------------\u001b[0m",
      "\u001b[0;31mAttributeError\u001b[0m                            Traceback (most recent call last)",
      "Cell \u001b[0;32mIn[39], line 1\u001b[0m\n\u001b[0;32m----> 1\u001b[0m all_perfos_modified \u001b[38;5;241m=\u001b[39m \u001b[43mall_perfos\u001b[49m\u001b[38;5;241;43m.\u001b[39;49m\u001b[43mdeepcopy\u001b[49m()\n\u001b[1;32m      2\u001b[0m \u001b[38;5;28;01mfor\u001b[39;00m i \u001b[38;5;129;01min\u001b[39;00m \u001b[38;5;28mrange\u001b[39m(\u001b[38;5;241m5\u001b[39m):\n\u001b[1;32m      3\u001b[0m     \u001b[38;5;28;01mfor\u001b[39;00m tfbs \u001b[38;5;129;01min\u001b[39;00m all_perfos[i]:\n",
      "\u001b[0;31mAttributeError\u001b[0m: 'dict' object has no attribute 'deepcopy'"
     ]
    }
   ],
   "source": [
    "all_perfos_modified = all_perfos.deepcopy()\n",
    "for i in range(5):\n",
    "    for tfbs in all_perfos[i]:\n",
    "        all_perfos_modified[i][tfbs] = round((0.8236445099818511- all_perfos[i][tfbs])*100, 3)\n",
    "\n"
   ]
  },
  {
   "cell_type": "code",
   "execution_count": 24,
   "metadata": {},
   "outputs": [
    {
     "data": {
      "text/plain": [
       "{'POPTR_0002s00440g': 0.7949750453720508,\n",
       " 'DOF5.8': 0.806119555353902,\n",
       " 'TREE1': 0.7589042649727767,\n",
       " 'BEE2': 0.8202132486388385,\n",
       " 'AT5G04390': 0.8181431488203267,\n",
       " 'AHL20': 0.7253856624319419,\n",
       " 'P0510F09.23': 0.8142298094373865,\n",
       " 'DOF5.3': 0.6813747731397459,\n",
       " 'AT5G05790': 0.8225385662431942,\n",
       " 'ARF39': 0.8136626588021778,\n",
       " 'AT3G46070': 0.8102313974591652,\n",
       " 'ARF16': 0.7410390199637024,\n",
       " 'AT1G14600': 0.728193058076225,\n",
       " 'DOF5.7': 0.6206612976406534,\n",
       " 'GT-2': 0.8244952359346642,\n",
       " 'TSAR2': 0.8160730490018149,\n",
       " 'Zm00001d035604': 0.8234460072595281,\n",
       " 'ERF069': 0.6873298548094374,\n",
       " 'GRF4': 0.8125567150635209,\n",
       " 'SIZF2': 0.8249205989110708}"
      ]
     },
     "execution_count": 24,
     "metadata": {},
     "output_type": "execute_result"
    }
   ],
   "source": [
    "randomized_performance"
   ]
  },
  {
   "cell_type": "code",
   "execution_count": 27,
   "metadata": {},
   "outputs": [
    {
     "data": {
      "text/html": [
       "<div>\n",
       "<style scoped>\n",
       "    .dataframe tbody tr th:only-of-type {\n",
       "        vertical-align: middle;\n",
       "    }\n",
       "\n",
       "    .dataframe tbody tr th {\n",
       "        vertical-align: top;\n",
       "    }\n",
       "\n",
       "    .dataframe thead th {\n",
       "        text-align: right;\n",
       "    }\n",
       "</style>\n",
       "<table border=\"1\" class=\"dataframe\">\n",
       "  <thead>\n",
       "    <tr style=\"text-align: right;\">\n",
       "      <th></th>\n",
       "      <th>0</th>\n",
       "      <th>1</th>\n",
       "      <th>2</th>\n",
       "      <th>3</th>\n",
       "      <th>4</th>\n",
       "    </tr>\n",
       "  </thead>\n",
       "  <tbody>\n",
       "    <tr>\n",
       "      <th>POPTR_0002s00440g</th>\n",
       "      <td>0.815671</td>\n",
       "      <td>0.815671</td>\n",
       "      <td>0.815671</td>\n",
       "      <td>0.815671</td>\n",
       "      <td>0.815671</td>\n",
       "    </tr>\n",
       "    <tr>\n",
       "      <th>DOF5.8</th>\n",
       "      <td>0.789009</td>\n",
       "      <td>0.789009</td>\n",
       "      <td>0.789009</td>\n",
       "      <td>0.789009</td>\n",
       "      <td>0.789009</td>\n",
       "    </tr>\n",
       "    <tr>\n",
       "      <th>TREE1</th>\n",
       "      <td>0.771995</td>\n",
       "      <td>0.771995</td>\n",
       "      <td>0.771995</td>\n",
       "      <td>0.771995</td>\n",
       "      <td>0.771995</td>\n",
       "    </tr>\n",
       "    <tr>\n",
       "      <th>BEE2</th>\n",
       "      <td>0.803776</td>\n",
       "      <td>0.803776</td>\n",
       "      <td>0.803776</td>\n",
       "      <td>0.803776</td>\n",
       "      <td>0.803776</td>\n",
       "    </tr>\n",
       "    <tr>\n",
       "      <th>AT5G04390</th>\n",
       "      <td>0.817226</td>\n",
       "      <td>0.817226</td>\n",
       "      <td>0.817226</td>\n",
       "      <td>0.817226</td>\n",
       "      <td>0.817226</td>\n",
       "    </tr>\n",
       "    <tr>\n",
       "      <th>AHL20</th>\n",
       "      <td>0.762383</td>\n",
       "      <td>0.762383</td>\n",
       "      <td>0.762383</td>\n",
       "      <td>0.762383</td>\n",
       "      <td>0.762383</td>\n",
       "    </tr>\n",
       "    <tr>\n",
       "      <th>P0510F09.23</th>\n",
       "      <td>0.818019</td>\n",
       "      <td>0.818019</td>\n",
       "      <td>0.818019</td>\n",
       "      <td>0.818019</td>\n",
       "      <td>0.818019</td>\n",
       "    </tr>\n",
       "    <tr>\n",
       "      <th>DOF5.3</th>\n",
       "      <td>0.749607</td>\n",
       "      <td>0.749607</td>\n",
       "      <td>0.749607</td>\n",
       "      <td>0.749607</td>\n",
       "      <td>0.749607</td>\n",
       "    </tr>\n",
       "    <tr>\n",
       "      <th>AT5G05790</th>\n",
       "      <td>0.813507</td>\n",
       "      <td>0.813507</td>\n",
       "      <td>0.813507</td>\n",
       "      <td>0.813507</td>\n",
       "      <td>0.813507</td>\n",
       "    </tr>\n",
       "    <tr>\n",
       "      <th>ARF39</th>\n",
       "      <td>0.822755</td>\n",
       "      <td>0.822755</td>\n",
       "      <td>0.822755</td>\n",
       "      <td>0.822755</td>\n",
       "      <td>0.822755</td>\n",
       "    </tr>\n",
       "    <tr>\n",
       "      <th>AT3G46070</th>\n",
       "      <td>0.804208</td>\n",
       "      <td>0.804208</td>\n",
       "      <td>0.804208</td>\n",
       "      <td>0.804208</td>\n",
       "      <td>0.804208</td>\n",
       "    </tr>\n",
       "    <tr>\n",
       "      <th>ARF16</th>\n",
       "      <td>0.796628</td>\n",
       "      <td>0.796628</td>\n",
       "      <td>0.796628</td>\n",
       "      <td>0.796628</td>\n",
       "      <td>0.796628</td>\n",
       "    </tr>\n",
       "    <tr>\n",
       "      <th>AT1G14600</th>\n",
       "      <td>0.793361</td>\n",
       "      <td>0.793361</td>\n",
       "      <td>0.793361</td>\n",
       "      <td>0.793361</td>\n",
       "      <td>0.793361</td>\n",
       "    </tr>\n",
       "    <tr>\n",
       "      <th>DOF5.7</th>\n",
       "      <td>0.766237</td>\n",
       "      <td>0.766237</td>\n",
       "      <td>0.766237</td>\n",
       "      <td>0.766237</td>\n",
       "      <td>0.766237</td>\n",
       "    </tr>\n",
       "    <tr>\n",
       "      <th>GT-2</th>\n",
       "      <td>0.815699</td>\n",
       "      <td>0.815699</td>\n",
       "      <td>0.815699</td>\n",
       "      <td>0.815699</td>\n",
       "      <td>0.815699</td>\n",
       "    </tr>\n",
       "    <tr>\n",
       "      <th>TSAR2</th>\n",
       "      <td>0.809377</td>\n",
       "      <td>0.809377</td>\n",
       "      <td>0.809377</td>\n",
       "      <td>0.809377</td>\n",
       "      <td>0.809377</td>\n",
       "    </tr>\n",
       "    <tr>\n",
       "      <th>Zm00001d035604</th>\n",
       "      <td>0.818087</td>\n",
       "      <td>0.818087</td>\n",
       "      <td>0.818087</td>\n",
       "      <td>0.818087</td>\n",
       "      <td>0.818087</td>\n",
       "    </tr>\n",
       "    <tr>\n",
       "      <th>ERF069</th>\n",
       "      <td>0.783362</td>\n",
       "      <td>0.783362</td>\n",
       "      <td>0.783362</td>\n",
       "      <td>0.783362</td>\n",
       "      <td>0.783362</td>\n",
       "    </tr>\n",
       "    <tr>\n",
       "      <th>GRF4</th>\n",
       "      <td>0.806665</td>\n",
       "      <td>0.806665</td>\n",
       "      <td>0.806665</td>\n",
       "      <td>0.806665</td>\n",
       "      <td>0.806665</td>\n",
       "    </tr>\n",
       "    <tr>\n",
       "      <th>SIZF2</th>\n",
       "      <td>0.818867</td>\n",
       "      <td>0.818867</td>\n",
       "      <td>0.818867</td>\n",
       "      <td>0.818867</td>\n",
       "      <td>0.818867</td>\n",
       "    </tr>\n",
       "  </tbody>\n",
       "</table>\n",
       "</div>"
      ],
      "text/plain": [
       "                          0         1         2         3         4\n",
       "POPTR_0002s00440g  0.815671  0.815671  0.815671  0.815671  0.815671\n",
       "DOF5.8             0.789009  0.789009  0.789009  0.789009  0.789009\n",
       "TREE1              0.771995  0.771995  0.771995  0.771995  0.771995\n",
       "BEE2               0.803776  0.803776  0.803776  0.803776  0.803776\n",
       "AT5G04390          0.817226  0.817226  0.817226  0.817226  0.817226\n",
       "AHL20              0.762383  0.762383  0.762383  0.762383  0.762383\n",
       "P0510F09.23        0.818019  0.818019  0.818019  0.818019  0.818019\n",
       "DOF5.3             0.749607  0.749607  0.749607  0.749607  0.749607\n",
       "AT5G05790          0.813507  0.813507  0.813507  0.813507  0.813507\n",
       "ARF39              0.822755  0.822755  0.822755  0.822755  0.822755\n",
       "AT3G46070          0.804208  0.804208  0.804208  0.804208  0.804208\n",
       "ARF16              0.796628  0.796628  0.796628  0.796628  0.796628\n",
       "AT1G14600          0.793361  0.793361  0.793361  0.793361  0.793361\n",
       "DOF5.7             0.766237  0.766237  0.766237  0.766237  0.766237\n",
       "GT-2               0.815699  0.815699  0.815699  0.815699  0.815699\n",
       "TSAR2              0.809377  0.809377  0.809377  0.809377  0.809377\n",
       "Zm00001d035604     0.818087  0.818087  0.818087  0.818087  0.818087\n",
       "ERF069             0.783362  0.783362  0.783362  0.783362  0.783362\n",
       "GRF4               0.806665  0.806665  0.806665  0.806665  0.806665\n",
       "SIZF2              0.818867  0.818867  0.818867  0.818867  0.818867"
      ]
     },
     "execution_count": 27,
     "metadata": {},
     "output_type": "execute_result"
    }
   ],
   "source": [
    "pd.DataFrame(all_perfos)"
   ]
  },
  {
   "cell_type": "code",
   "execution_count": 27,
   "metadata": {},
   "outputs": [
    {
     "data": {
      "text/plain": [
       "0.8210222153983868"
      ]
     },
     "execution_count": 27,
     "metadata": {},
     "output_type": "execute_result"
    }
   ],
   "source": [
    "from sklearn.metrics import balanced_accuracy_score\n",
    "\n",
    "# Scale using TF-IDF\n",
    "tfidf = TfidfTransformer()\n",
    "X = tfidf.fit_transform(X_motifs).toarray()\n",
    "\n",
    "# Run the classifier\n",
    "predictions = GBC.predict(X)\n",
    "balanced_accuracy_score(predictions, y )"
   ]
  },
  {
   "cell_type": "code",
   "execution_count": null,
   "metadata": {},
   "outputs": [],
   "source": []
  },
  {
   "cell_type": "markdown",
   "metadata": {},
   "source": [
    "## Do the same for insignificant features"
   ]
  }
 ],
 "metadata": {
  "kernelspec": {
   "display_name": "Python 3",
   "language": "python",
   "name": "python3"
  },
  "language_info": {
   "codemirror_mode": {
    "name": "ipython",
    "version": 3
   },
   "file_extension": ".py",
   "mimetype": "text/x-python",
   "name": "python",
   "nbconvert_exporter": "python",
   "pygments_lexer": "ipython3",
   "version": "3.9.19"
  }
 },
 "nbformat": 4,
 "nbformat_minor": 2
}
