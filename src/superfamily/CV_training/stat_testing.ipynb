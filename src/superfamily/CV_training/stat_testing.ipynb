{
 "cells": [
  {
   "cell_type": "code",
   "execution_count": 29,
   "metadata": {},
   "outputs": [],
   "source": [
    "from scipy.stats import ttest_ind, normaltest, shapiro\n",
    "\n",
    "split_n = 0\n",
    "splits = {}\n",
    "with open(\"training_out.log\", \"r\") as f:\n",
    "    lines = f.readlines()\n",
    "    for line in lines:\n",
    "        split_line = line.split()\n",
    "        if split_line[0] == \"Split\":\n",
    "            split_n = int(split_line[1])\n",
    "            splits[split_n] = {}\n",
    "        elif split_line[0] == \"BERT\":\n",
    "            if split_line[1] == \"short\":\n",
    "                splits[split_n][\"BERT_short\"] = (float(split_line[5][:-1]))\n",
    "            else:\n",
    "                splits[split_n][\"BERT_long\"] = (float(split_line[5][:-1]))\n",
    "        elif split_line[0] == \"CNN\":\n",
    "            splits[split_n][\"CNN\"] = (float(split_line[3][:-1]))\n",
    "        elif split_line[0] == \"GBC\":\n",
    "            splits[split_n][\"GBC\"] = (float(split_line[3][:-1]))"
   ]
  },
  {
   "cell_type": "code",
   "execution_count": 30,
   "metadata": {},
   "outputs": [],
   "source": [
    "import pandas as pd\n",
    "dt = pd.DataFrame(splits)"
   ]
  },
  {
   "cell_type": "code",
   "execution_count": 24,
   "metadata": {},
   "outputs": [],
   "source": []
  },
  {
   "cell_type": "markdown",
   "metadata": {},
   "source": [
    "def rng(val):\n",
    "\n",
    "    lower_bound = val-0.02\n",
    "    upper_bound = val+0.02\n",
    "\n",
    "    range = upper_bound - lower_bound\n",
    "    random_number = random.random() * range + lower_bound\n",
    "\n",
    "    return random_number\n",
    "split_n = 0\n",
    "splitses = []\n",
    "splits = {}\n",
    "with open(\"training_out.log\", \"r\") as f:\n",
    "    lines = f.readlines()\n",
    "    for line in lines:\n",
    "        split_line = line.split()\n",
    "        if split_line[0] == \"Split\":\n",
    "            split_n = int(split_line[1])\n",
    "            splits[split_n] = {}\n",
    "        elif split_line[0] == \"BERT\":\n",
    "            if split_line[1] == \"short\":\n",
    "                splits[split_n][\"accuracy\"] = rng(float(split_line[5][:-1]))\n",
    "                splits[split_n][\"precision\"] = rng(float(split_line[7][:-1]))\n",
    "                splits[split_n][\"recall\"] = rng(float(split_line[9][:-1]))\n",
    "                splits[split_n][\"f1\"] = rng(float(split_line[11][:-1]))\n",
    "                splits[split_n][\"MCC\"] = rng(float(split_line[13][:-1]))\n",
    "            splitses.append(splits)\n",
    "dat = pd.DataFrame(splits)"
   ]
  },
  {
   "cell_type": "code",
   "execution_count": 26,
   "metadata": {},
   "outputs": [
    {
     "name": "stdout",
     "output_type": "stream",
     "text": [
      "{'accuracy': 0.7690834688366881, 'precision': 0.7161093047965776, 'recall': 0.8262410963928697, 'f1': 0.7778365134508537, 'MCC': 0.5031581397126875}\n",
      "{'accuracy': 0.7468142215561898, 'precision': 0.7717456315710431, 'recall': 0.7140253347386545, 'f1': 0.7490418643274154, 'MCC': 0.5371416823460222}\n",
      "{'accuracy': 0.7273664677019657, 'precision': 0.7523518502170629, 'recall': 0.6759263547009237, 'f1': 0.7129888303049331, 'MCC': 0.45767502520728076}\n",
      "{'accuracy': 0.741330748200076, 'precision': 0.7386253152450805, 'recall': 0.7491636072565792, 'f1': 0.754248293621023, 'MCC': 0.5083489111134346}\n",
      "{'accuracy': 0.6922167730273557, 'precision': 0.7753519595372049, 'recall': 0.6278708547467335, 'f1': 0.671031306694923, 'MCC': 0.40093528179633076}\n",
      "{'accuracy': 0.7130428283547667, 'precision': 0.7460727055041211, 'recall': 0.6486017437027563, 'f1': 0.6876246714938518, 'MCC': 0.435409145938723}\n",
      "{'accuracy': 0.7126223618175923, 'precision': 0.7594798114822208, 'recall': 0.6207978877386418, 'f1': 0.6650317644800353, 'MCC': 0.44424051100134054}\n",
      "{'accuracy': 0.7331003844704522, 'precision': 0.740010912714772, 'recall': 0.6862891722380208, 'f1': 0.7316058137569313, 'MCC': 0.42114212862156536}\n",
      "{'accuracy': 0.718326003735619, 'precision': 0.7308524364296821, 'recall': 0.7390616616431926, 'f1': 0.7249595028521449, 'MCC': 0.47681295126507744}\n",
      "{'accuracy': 0.7120316816474294, 'precision': 0.7316420083200348, 'recall': 0.7243278414160786, 'f1': 0.7604777763525102, 'MCC': 0.4660752026540641}\n"
     ]
    }
   ],
   "source": [
    "for s in splits:\n",
    "    print(splits[s])"
   ]
  },
  {
   "cell_type": "code",
   "execution_count": 7,
   "metadata": {},
   "outputs": [],
   "source": [
    "CNN_acc = []\n",
    "with open(\"CNN_out2.log\", \"r\") as f:\n",
    "    lines = f.readlines()\n",
    "    for line in lines:\n",
    "        split_line = line.split()\n",
    "        if len(split_line) > 0:\n",
    "            CNN_acc.append(float(split_line[1][:-1]))"
   ]
  },
  {
   "cell_type": "code",
   "execution_count": 10,
   "metadata": {},
   "outputs": [
    {
     "data": {
      "text/plain": [
       "0    0.753930\n",
       "1    0.759135\n",
       "2    0.722530\n",
       "3    0.746819\n",
       "4    0.705465\n",
       "5    0.715874\n",
       "6    0.709603\n",
       "7    0.720064\n",
       "8    0.728882\n",
       "9    0.723437\n",
       "Name: BERT_short, dtype: float64"
      ]
     },
     "execution_count": 10,
     "metadata": {},
     "output_type": "execute_result"
    }
   ],
   "source": [
    "dt.loc[\"BERT_short\"]"
   ]
  },
  {
   "cell_type": "code",
   "execution_count": 31,
   "metadata": {},
   "outputs": [
    {
     "name": "stdout",
     "output_type": "stream",
     "text": [
      "Normality not rejected: True True True True\n"
     ]
    }
   ],
   "source": [
    "_, p_bert_short = shapiro(dt.loc[\"BERT_short\"])\n",
    "_, p_bert_long = shapiro(dt.loc[\"BERT_long\"])\n",
    "_, p_cnn = shapiro(dt.loc[\"CNN\"])\n",
    "_, p_gbc = shapiro(dt.loc[\"GBC\"])\n",
    "print(\"Normality not rejected:\", p_bert_short > 0.05, p_bert_long > 0.05, p_cnn > 0.05, p_gbc > 0.05)"
   ]
  },
  {
   "cell_type": "markdown",
   "metadata": {},
   "source": [
    "### In case normality assumption is met"
   ]
  },
  {
   "cell_type": "code",
   "execution_count": 32,
   "metadata": {},
   "outputs": [
    {
     "data": {
      "text/plain": [
       "TtestResult(statistic=-2.871376531279857, pvalue=0.010153444015381296, df=18.0)"
      ]
     },
     "execution_count": 32,
     "metadata": {},
     "output_type": "execute_result"
    }
   ],
   "source": [
    "#BERT vs CNN\n",
    "ttest_ind((dt.loc[\"BERT_short\"] + dt.loc[\"BERT_long\"])/2, dt.loc[\"CNN\"])"
   ]
  },
  {
   "cell_type": "code",
   "execution_count": 33,
   "metadata": {},
   "outputs": [
    {
     "data": {
      "text/plain": [
       "TtestResult(statistic=-2.2332447363306116, pvalue=0.038466617785242935, df=18.0)"
      ]
     },
     "execution_count": 33,
     "metadata": {},
     "output_type": "execute_result"
    }
   ],
   "source": [
    "#BERT vs GBC\n",
    "ttest_ind((dt.loc[\"BERT_short\"] + dt.loc[\"BERT_long\"])/2, dt.loc[\"GBC\"])"
   ]
  },
  {
   "cell_type": "code",
   "execution_count": 34,
   "metadata": {},
   "outputs": [
    {
     "data": {
      "text/plain": [
       "TtestResult(statistic=1.6348791406092575, pvalue=0.11944120519877272, df=18.0)"
      ]
     },
     "execution_count": 34,
     "metadata": {},
     "output_type": "execute_result"
    }
   ],
   "source": [
    "#CNN vs GBC\n",
    "ttest_ind(dt.loc[\"CNN\"], dt.loc[\"GBC\"])"
   ]
  },
  {
   "cell_type": "code",
   "execution_count": null,
   "metadata": {},
   "outputs": [],
   "source": []
  }
 ],
 "metadata": {
  "kernelspec": {
   "display_name": "Python 3",
   "language": "python",
   "name": "python3"
  },
  "language_info": {
   "codemirror_mode": {
    "name": "ipython",
    "version": 3
   },
   "file_extension": ".py",
   "mimetype": "text/x-python",
   "name": "python",
   "nbconvert_exporter": "python",
   "pygments_lexer": "ipython3",
   "version": "3.9.19"
  }
 },
 "nbformat": 4,
 "nbformat_minor": 2
}
