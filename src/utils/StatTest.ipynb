{
 "cells": [
  {
   "cell_type": "markdown",
   "metadata": {},
   "source": [
    "## LTR"
   ]
  },
  {
   "cell_type": "code",
   "execution_count": 44,
   "metadata": {},
   "outputs": [
    {
     "name": "stdout",
     "output_type": "stream",
     "text": [
      "Normality not rejected: True\n",
      "CNN p-value: 0.15625\n",
      "t-statistic: 3.0\n",
      "Normality not rejected: True\n",
      "GBC p-value: 0.09375\n",
      "t-statistic: 2.0\n",
      "Normality not rejected: True\n",
      "BERT p-value: 0.109375\n",
      "t-statistic: 4.0\n"
     ]
    }
   ],
   "source": [
    "import pandas as pd\n",
    "from scipy.stats import ttest_ind, normaltest, shapiro, ttest_1samp, wilcoxon\n",
    "import json \n",
    "with open(\"LTR_results.json\") as f:\n",
    "    LTR_results = json.load(f)\n",
    "    \n",
    "    LTR_results_CNN = pd.DataFrame(LTR_results[\"CNN\"])\n",
    "    _, p_LTR = shapiro(LTR_results_CNN.loc[\"f1\"])\n",
    "    print(\"Normality not rejected:\", p_LTR > 0.05)\n",
    "    t_statistic, p_value = wilcoxon(LTR_results_CNN.loc[\"f1\"], [0.85] * len(LTR_results_CNN.loc[\"f1\"]))\n",
    "    print(\"CNN p-value:\", p_value)\n",
    "    print(\"t-statistic:\", t_statistic)\n",
    "\n",
    "\n",
    "    LTR_results_GBC =  pd.DataFrame(LTR_results[\"GBC\"])\n",
    "    _, p_LTR = shapiro(LTR_results_GBC.loc[\"f1\"])\n",
    "    print(\"Normality not rejected:\", p_LTR > 0.05)\n",
    "    t_statistic, p_value = wilcoxon(LTR_results_GBC.loc[\"f1\"], [0.73] * len(LTR_results_GBC.loc[\"f1\"]))\n",
    "    print(\"GBC p-value:\", p_value)\n",
    "    print(\"t-statistic:\", t_statistic)\n",
    "\n",
    "\n",
    "    LTR_results_BERT =  pd.DataFrame(LTR_results[\"BERT\"])\n",
    "    _, p_LTR = shapiro(LTR_results_BERT.loc[\"f1_unweighted\"])\n",
    "    print(\"Normality not rejected:\", p_LTR > 0.05)\n",
    "\n",
    "    t_statistic, p_value = wilcoxon(LTR_results_BERT.loc[\"f1_unweighted\"], [0.83] * len(LTR_results_BERT.loc[\"f1_unweighted\"]))\n",
    "\n",
    "    print(\"BERT p-value:\", p_value)\n",
    "    print(\"t-statistic:\", t_statistic)"
   ]
  },
  {
   "cell_type": "markdown",
   "metadata": {},
   "source": [
    "## Superfamily"
   ]
  },
  {
   "cell_type": "code",
   "execution_count": 53,
   "metadata": {},
   "outputs": [
    {
     "name": "stdout",
     "output_type": "stream",
     "text": [
      "Normality not rejected: True\n",
      "p-value: 0.84375\n",
      "t-statistic: 9.0\n",
      "Normality not rejected: True\n",
      "p-value: 0.21875\n",
      "t-statistic: 4.0\n",
      "Normality not rejected: True\n",
      "p-value: 0.6875\n",
      "t-statistic: 8.0\n"
     ]
    }
   ],
   "source": [
    "from scipy.stats import ttest_ind, normaltest, shapiro, ttest_1samp, wilcoxon\n",
    "import pandas as pd\n",
    "\n",
    "with open(\"Superfamily_results2.json\") as f:\n",
    "    Superfamily_results = json.load(f)\n",
    "\n",
    "    Superfamily_results_CNN = pd.DataFrame(Superfamily_results[\"CNN\"])\n",
    "    _, p_LTR = shapiro(Superfamily_results_CNN.loc[\"f1_unweighted\"])\n",
    "    print(\"Normality not rejected:\", p_LTR > 0.05)\n",
    "    t_statistic, p_value = wilcoxon(Superfamily_results_CNN.loc[\"f1_unweighted\"], [0.89] * len(Superfamily_results_CNN.loc[\"f1_unweighted\"]))\n",
    "    print(\"p-value:\", p_value)\n",
    "    print(\"t-statistic:\", t_statistic)\n",
    "\n",
    "    Superfamily_results_BERT =  pd.DataFrame(Superfamily_results[\"BERT\"])\n",
    "    _, p_LTR = shapiro(Superfamily_results_BERT.loc[\"f1\"])\n",
    "    print(\"Normality not rejected:\", p_LTR > 0.05)\n",
    "    t_statistic, p_value = wilcoxon(Superfamily_results_BERT.loc[\"f1\"], [0.85] * len(Superfamily_results_BERT.loc[\"f1\"]))\n",
    "    print(\"p-value:\", p_value)\n",
    "    print(\"t-statistic:\", t_statistic)\n",
    "\n",
    "\n",
    "    Superfamily_results_GBC =  pd.DataFrame(Superfamily_results[\"GBC\"])\n",
    "    _, p_LTR = shapiro(Superfamily_results_GBC.loc[\"f1\"])\n",
    "    print(\"Normality not rejected:\", p_LTR > 0.05)\n",
    "\n",
    "    t_statistic, p_value = wilcoxon(Superfamily_results_GBC.loc[\"f1\"], [0.82] * len(Superfamily_results_GBC.loc[\"f1\"]))\n",
    "\n",
    "    print(\"p-value:\", p_value)\n",
    "    print(\"t-statistic:\", t_statistic)\n"
   ]
  },
  {
   "cell_type": "markdown",
   "metadata": {},
   "source": [
    "## Family\n"
   ]
  },
  {
   "cell_type": "code",
   "execution_count": 46,
   "metadata": {},
   "outputs": [
    {
     "name": "stdout",
     "output_type": "stream",
     "text": [
      "Normality not rejected: True\n",
      "p-value: 0.21875\n",
      "t-statistic: 4.0\n",
      "Normality not rejected: True\n",
      "p-value: 0.4375\n",
      "t-statistic: 6.0\n",
      "Normality not rejected: True\n",
      "p-value: 0.84375\n",
      "t-statistic: 9.0\n"
     ]
    }
   ],
   "source": [
    "with open(\"Lineage_results.json\") as f:\n",
    "    Lineage_results = json.load(f)\n",
    "    \n",
    "    Lineage_results_CNN = pd.DataFrame(Lineage_results[\"CNN\"])\n",
    "    _, p_LTR = shapiro(Lineage_results_CNN.loc[\"f1\"])\n",
    "    print(\"Normality not rejected:\", p_LTR > 0.05)\n",
    "\n",
    "    t_statistic, p_value = wilcoxon(Lineage_results_CNN.loc[\"f1\"], [0.74] * len(Lineage_results_CNN.loc[\"f1\"]))\n",
    "\n",
    "    print(\"p-value:\", p_value)\n",
    "    print(\"t-statistic:\", t_statistic)\n",
    "\n",
    "    \n",
    "    Lineage_results_GBC =  pd.DataFrame(Lineage_results[\"GBC\"])\n",
    "    _, p_LTR = shapiro(Lineage_results_GBC.loc[\"f1\"])\n",
    "    print(\"Normality not rejected:\", p_LTR > 0.05)\n",
    "\n",
    "    t_statistic, p_value = wilcoxon(Lineage_results_GBC.loc[\"f1\"], [0.68] * len(Lineage_results_GBC.loc[\"f1\"]))\n",
    "\n",
    "    print(\"p-value:\", p_value)\n",
    "    print(\"t-statistic:\", t_statistic)\n",
    "\n",
    "\n",
    "    Lineage_results_BERT =  pd.DataFrame(Lineage_results[\"BERT\"])\n",
    "    _, p_LTR = shapiro(Lineage_results_BERT.loc[\"f1\"])\n",
    "    print(\"Normality not rejected:\", p_LTR > 0.05)\n",
    "\n",
    "    t_statistic, p_value = wilcoxon(Lineage_results_BERT.loc[\"f1\"], [0.73] * len(Lineage_results_BERT.loc[\"f1\"]))\n",
    "\n",
    "    print(\"p-value:\", p_value)\n",
    "    print(\"t-statistic:\", t_statistic)\n"
   ]
  }
 ],
 "metadata": {
  "kernelspec": {
   "display_name": "GeneralEnv",
   "language": "python",
   "name": "python3"
  },
  "language_info": {
   "codemirror_mode": {
    "name": "ipython",
    "version": 3
   },
   "file_extension": ".py",
   "mimetype": "text/x-python",
   "name": "python",
   "nbconvert_exporter": "python",
   "pygments_lexer": "ipython3",
   "version": "3.9.17"
  }
 },
 "nbformat": 4,
 "nbformat_minor": 2
}
