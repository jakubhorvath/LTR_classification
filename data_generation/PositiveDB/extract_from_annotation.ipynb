{
 "cells": [
  {
   "attachments": {},
   "cell_type": "markdown",
   "metadata": {},
   "source": [
    "## 1. Load the paths to sequence files and annotation files"
   ]
  },
  {
   "cell_type": "code",
   "execution_count": 1,
   "metadata": {},
   "outputs": [],
   "source": [
    "def transform_name(name, genome_files):\n",
    "     if \"Taraxacum\" in name:\n",
    "          name = \"Taraxacum_kok-saghyz.genome.fasta.gz\"\n",
    "     elif \"Aquilegia_coerulea\" in name:\n",
    "          name =  \"Acoerulea_322_v3.fa.gz\"\n",
    "     elif \"Ginkgo_biloba\" in name:\n",
    "          name =  \"Gingko_biloba.1_0.fa.gz\"\n",
    "     elif \"Cucurbita_maxima\" in name:\n",
    "          name =  \"Cmaxima_genome_v1.1.fa.gz\"\n",
    "     elif \"Cucurbita_pepo\" in name:\n",
    "          name =  \"Cpepo_genome_v4.1.fa.gz\"\n",
    "     elif \"Echinochloa_crus_galli\" in name:\n",
    "          name =  \"Echinochloa_crus-galii.fasta.gz\"\n",
    "     elif \"Cucurbita_moschata\" in name:\n",
    "          name =  \"Cmoschata_genome_v1.fa.gz\"\n",
    "     elif \"Solanum_lycopersicum\" in name:\n",
    "          name =  \"S_lycopersicum_chromosomes.4.00.fa.gz\"\n",
    "     elif \"Anthoceros_angustus\" in name:\n",
    "          name =  \"Anthoceros.angustus.scaffold.fa.gz\"\n",
    "     elif \"Musa_schizocarpa\" in name:\n",
    "          name = \"Mschizocarpa_chromosomes.fa.gz\"\n",
    "     elif \"Cuscuta_australis\" in name:\n",
    "          name = \"Cuscuta.genome.v1.1.fa.gz\"\n",
    "     elif \"Rubus_occidentalis\" in name:\n",
    "          name = \"Rubus_occ_V3_10-12-17.fasta.gz\"\n",
    "     elif \"Phyllostachys_edulis\" in name:\n",
    "          name = \"Phyllostachys_heterocycla_v1.0.Scaffolds.gz\"\n",
    "     elif \"Oryza_sativa_ssp._Indica\" in name:\n",
    "          name = \"Oryza_sativa_indica_R498_Chr.fasta.gz\"\n",
    "     elif \"Anthoceros_angustus\" in name:\n",
    "          name = \"Anthoceros.angustus.scaffold.fa.gz\"\n",
    "     elif \"Abies_alba\" in name:\n",
    "          name = \"Abies_alba.1_1.fa.gz\"\n",
    "     else:\n",
    "          pass\n",
    "     for g in genome_files:\n",
    "          if name in g:\n",
    "               return g"
   ]
  },
  {
   "cell_type": "code",
   "execution_count": 2,
   "metadata": {},
   "outputs": [],
   "source": [
    "from os import listdir\n",
    "from os.path import isfile, join\n",
    "genomes_path = \"/mnt/extra/genomes/\"\n",
    "genomes_path2 = \"/opt/genomes/\"\n",
    "annotation_path = \"/opt/xhorvat9_TE_DBs/Genomes/Genomes/all_annotations/\"\n",
    "genome_files = [genomes_path + f for f in listdir(genomes_path) if isfile(join(genomes_path, f))] + [genomes_path2 + f for f in listdir(genomes_path2) if isfile(join(genomes_path2, f))]\n",
    "annotation_files = [f for f in listdir(annotation_path) if isfile(join(annotation_path, f))]\n",
    "\n",
    "def assign_annotation_file(genome_files, annotation_files):\n",
    "    annot_dict = {}\n",
    "    for a in annotation_files:\n",
    "        name = a[:-4]\n",
    "        # one exception\n",
    "        annot_dict[name] = transform_name(name, genome_files)\n",
    "    return annot_dict\n",
    "annot_dict = assign_annotation_file(genome_files, annotation_files)"
   ]
  },
  {
   "attachments": {},
   "cell_type": "markdown",
   "metadata": {},
   "source": [
    "## 2. Extract LTR locations from annotation"
   ]
  },
  {
   "cell_type": "code",
   "execution_count": null,
   "metadata": {},
   "outputs": [],
   "source": [
    "import tqdm\n",
    "import pandas as pd\n",
    "LTRs = {}\n",
    "for species in annot_dict:\n",
    "    if species not in [\"Anthoceros_angustus\", \"Musa_schizocarpa\", \"Cuscuta_australis\", \"Rubus_occidentalis\", \"Phyllostachys_edulis\", \"Oryza_sativa_ssp._Indica\", \"Zostera_muelleri\", \"Volvox_carteri\", \"Pyrus_communis\", \"Nissolia_schottii\", \"Anthoceros_angustus\", \"Vigna_subterranea\", \"Begonia_fuchsioides\", \"Alnus_glutinosa\", \"Mimosa_pudica\", \"Abies_alba\"]:\n",
    "        continue\n",
    "    if species != \"Abies_alba\":\n",
    "        continue\n",
    "    annot = pd.read_csv(f\"{annotation_path}/{species}.txt\", sep=\"\\t\", low_memory=False).iloc[:-1,]\n",
    "    LTR_IDs = set(annot[\"LTR_ID\"])\n",
    "    print(f\"Processing {species}\")\n",
    "    LTRs[species] = {}\n",
    "\n",
    "    for idx in tqdm.tqdm(LTR_IDs):\n",
    "        element = annot[annot[\"LTR_ID\"] == idx]\n",
    "        element_5LTR = element[element[\"Domain\"] == \"intact_5ltr\"][[\"Start\", \"End\"]]\n",
    "        element_3LTR = element[element[\"Domain\"] == \"intact_3ltr\"][[\"Start\", \"End\"]]\n",
    "        info = element[element[\"Domain\"] == \"intact_5ltr\"][[ \"Superfamily\", \"Lineages\", \"Divergence\", \"Chromosome\"]]\n",
    "        try:\n",
    "            superfamily = info.iloc[0, 0]\n",
    "            lineage = info.iloc[0, 1]\n",
    "            divergence = info.iloc[0, 2]\n",
    "            chromosome = info.iloc[0, 3]\n",
    "\n",
    "            LTRs[species][idx] = ({\"Start\": int(element_5LTR[\"Start\"].iloc[0]),\"End\": int(element_5LTR[\"End\"].iloc[0])}, # 5' LTR position\n",
    "                                  {\"Start\": int(element_3LTR[\"Start\"].iloc[0]),\"End\": int(element_3LTR[\"End\"].iloc[0])}, # 3' LTR position\n",
    "                                  superfamily,                                                                           # superfamily   \n",
    "                                    lineage,                                                                             # lineage\n",
    "                                    divergence,                                                                          # divergence of LTR sequences\n",
    "                                    chromosome)                                                                          \n",
    "        except:\n",
    "            pass"
   ]
  },
  {
   "cell_type": "code",
   "execution_count": 10,
   "metadata": {},
   "outputs": [],
   "source": [
    "import json\n",
    "\n",
    "with open('LTR_locations_extra.txt', 'w') as convert_file:\n",
    "     convert_file.write(json.dumps(LTRs))"
   ]
  },
  {
   "cell_type": "code",
   "execution_count": 3,
   "metadata": {},
   "outputs": [],
   "source": [
    "import json\n",
    "  \n",
    "# If ltr locations are already saved\n",
    "with open('LTR_locations_extra.txt', \"r\") as f:\n",
    "    LTRs = json.load(f)"
   ]
  },
  {
   "cell_type": "markdown",
   "metadata": {},
   "source": [
    "## 3. Extract LTRs using annotations"
   ]
  },
  {
   "cell_type": "code",
   "execution_count": 18,
   "metadata": {},
   "outputs": [
    {
     "name": "stderr",
     "output_type": "stream",
     "text": [
      "100%|██████████| 1/1 [00:00<00:00, 1064.00it/s]\n"
     ]
    }
   ],
   "source": [
    "from joblib import Parallel, delayed\n",
    "import Bio.SeqIO as SeqIO\n",
    "import gzip\n",
    "from Bio.SeqRecord import SeqRecord\n",
    "import tqdm\n",
    "import pandas as pd\n",
    "\n",
    "def transform_chromosome(fasta_file, chromosome):\n",
    "    \"\"\"\n",
    "    Transforms chromosome names to match the names in the fasta file\n",
    "    \"\"\"\n",
    "    if \"Betula_pendula\" in fasta_file:\n",
    "        s = chromosome.split(\"|\")\n",
    "        out_chr = \"|\".join([s[0], s[1], s[1] + \".1\"])\n",
    "        return out_chr\n",
    "    elif \"Catharanthus_roseus\" in fasta_file:\n",
    "        return \"cro_v2_\" + chromosome\n",
    "    elif \"Volvox_carteri\" in fasta_file:\n",
    "        out_chr = chromosome[5:]\n",
    "        return \"ENA|\" + out_chr + \"|\" + out_chr + \".1\"\n",
    "    elif \"Pogostemon_cablin\" in fasta_file or \"Chondrus_crispus\" in fasta_file:\n",
    "        k = chromosome.split(\"|\")\n",
    "        return \"ENA|\" + k[1] + \"|\" + k[1] + \".1\"\n",
    "    elif \"Cercis_canadensis\" in fasta_file or \\\n",
    "        \"Fagus_sylvatica\" in fasta_file or \\\n",
    "        \"Glycine_max\" in fasta_file or \\\n",
    "        \"Gossypium_raimondii\" in fasta_file or \\\n",
    "        \"Gossypium_hirsutum\" in fasta_file or \\\n",
    "        \"Gossypium_arboreum\" in fasta_file or \\\n",
    "        \"Faidherbia_albida\" in fasta_file or \\\n",
    "        \"Moringa_oleifera\" in fasta_file or \\\n",
    "        \"Lablab_purpureus\" in fasta_file or \\\n",
    "        \"Pyrus_communis\" in fasta_file or \\\n",
    "        \"Chamaecrista_fasciculata\" in fasta_file or \\\n",
    "        \"Alnus_glutinosa\" in fasta_file or \\\n",
    "        \"Mimosa_pudica\" in fasta_file or \\\n",
    "        \"Sclerocarya_birrea\" in fasta_file or \\\n",
    "        \"Begonia_fuchsioides\" in fasta_file or \\\n",
    "        \"Vigna_subterranea\" in fasta_file or \\\n",
    "        \"Anthoceros_angustus\" in fasta_file or \\\n",
    "        \"Nissolia_schottii\" in fasta_file or \\\n",
    "        \"Pyrus_communis\" in fasta_file:\n",
    "        out_chr = chromosome[3:]\n",
    "        return \"scaffold\" + out_chr\n",
    "    elif \"Chrysanthemum_nankingense\" in fasta_file:\n",
    "        s = chromosome.split(\"_\")[0]\n",
    "        return s + \"_pilon_pilon\"\n",
    "    elif \"Sisymbrium_irio\" in fasta_file or \"Utricularia_gibba\" in fasta_file:\n",
    "        return \"lcl|\" + chromosome\n",
    "    elif \"Erigeron_breviscapus\" in fasta_file:\n",
    "        return \"opera_\" + chromosome\n",
    "    elif \"Triticum_aestivum\" in fasta_file:\n",
    "        return chromosome[3:]\n",
    "    elif \"Cicer_arietinum\" in fasta_file:\n",
    "        return \"cicar.CDCFrontier.gnm3.chr\" + chromosome[2:]\n",
    "    elif \"Zostera_muelleri\" in fasta_file:   \n",
    "        return \"_\".join(chromosome.split(\"_\")[3:])\n",
    "    else:\n",
    "        return chromosome\n",
    "        raise KeyError(\"Chromosome not found\")\n",
    "    \n",
    "    \n",
    "def extract_LTR(fasta_file, LTRs, genomes_path):\n",
    "    print(f\"processing {fasta_file}\")\n",
    "    with gzip.open(f\"{fasta_file}\", \"rt\") as handle:\n",
    "        records = {(rec.id): rec.seq for rec in SeqIO.parse(handle, \"fasta\")}    \n",
    "    out_sequences = []\n",
    "    print(records.keys())\n",
    " \n",
    "    for idx in LTRs:\n",
    "        try:\n",
    "            chromosome = LTRs[idx][5]\n",
    "            chromosome = transform_chromosome(fasta_file, chromosome)\n",
    "            \n",
    "            start5 = LTRs[idx][0][\"Start\"]\n",
    "            end5 = LTRs[idx][0][\"End\"]\n",
    "            \n",
    "            seq5 = records[chromosome][start5:end5]\n",
    "\n",
    "            start3 = LTRs[idx][1][\"Start\"]\n",
    "            end3 = LTRs[idx][1][\"End\"]\n",
    "\n",
    "            seq3 = records[chromosome][start3:end3]\n",
    "\n",
    "            rec_description = \" \" + str(LTRs[idx][2]) + \" \" + str(LTRs[idx][3]) + \" \" + str(LTRs[idx][4])\n",
    "\n",
    "            \n",
    "            LTR5 = SeqRecord(seq=seq5, id=idx + \"_ltr5\", description=rec_description)\n",
    "            LTR3 = SeqRecord(seq=seq3, id=idx + \"_ltr3\", description=rec_description)\n",
    "            out_sequences.append(LTR5)\n",
    "            out_sequences.append(LTR3)   \n",
    "        except KeyError as e:\n",
    "            print(e)\n",
    "        except TypeError as e:\n",
    "            print(e)\n",
    "\n",
    "    if len(out_sequences) != 0:\n",
    "        n = fasta_file[:-3]\n",
    "        n = n.split(\"genomes/\")[1]\n",
    "        with open(f\"LTRs_{n}\", \"w+\") as outfile:\n",
    "            SeqIO.write(out_sequences, outfile, \"fasta\")\n",
    "    else: \n",
    "        print(f\"failed to find corresponding LTR sequences for {fasta_file}\")\n",
    "\n",
    "results = Parallel(n_jobs=5)(delayed(extract_LTR)(annot_dict[species], LTRs[species], genomes_path) for species in tqdm.tqdm(LTRs))\n"
   ]
  },
  {
   "cell_type": "code",
   "execution_count": 12,
   "metadata": {},
   "outputs": [
    {
     "name": "stdout",
     "output_type": "stream",
     "text": [
      "['Nissolia_schottii_v1.fa.gz', 'Citrus_clementina_v1.0.genome.fa.gz', 'Paab.1_0b.fa.gz', 'Mschizocarpa_chromosomes.fa.gz', 'Cuscuta.genome.v1.1.fa.gz', 'Quercus_lobata.fa.gz', 'Populus_tremula_genome.fasta.gz', 'Eragrostis_tef_tef.fa.gz', 'Rubus_occ_V3_10-12-17.fasta.gz', 'Phyllostachys_heterocycla_v1.0.Scaffolds.gz', 'Oryza_sativa_indica_R498_Chr.fasta.gz', 'Prunus_avium_v1.0.a1_pseudomolecule.fasta.gz', 'Mumian.Scaffold.fa.gz', 'Coffea_arabica.assembly.fa.gz', 'Solanum_chaocense_v4.1_PM_plus_chrUn.fa.gz', 'Pyrus_communis_v1.0-scaffolds.fna.gz', 'Arachis_monticola_all_genome_v1.2.fasta.gz', 'Vigna_radiata.VC1973A.gnm7.SB53.genome_main.fa.gz', 'Volvox_carteri.fa.gz', 'Zostera_muelleri_v1_scaffolds.fa.gz', 'Abies_alba.1_1.fa.gz', 'Rosa_chinensis_OBDH_1.0_formated.fasta.gz', 'Lupinus_angustifolius_gene_v2.0.fa.gz', 'Annuum.v1.6.Total.fa.gz', 'Pagl.1_0.fa.gz', 'Camptotheca_acuminata_genome_assembly_v2.4.fa.gz', 'Cuscuta_campestris_0.32.assembly.dna.fasta.gz', 'Saccharum_spp_R570_assembly.fna.gz', 'Actinidia_chinensis_Hongyang_genome_v3.0_update.fa.gz', 'Salvia_splendens_genome.fasta.gz', 'Malania_oleifera_genome.fa.gz', 'Oryza_glaberrima_V1.dna_sm.toplevel.fa.gz', 'Arachis_ipaensis_K30076.gnm2.1GWY.genome_main.fa.gz', 'Discaria_trinervis_v1.0.fa.gz', 'S_lycopersicum_chromosomes.4.00.fa.gz']\n"
     ]
    }
   ],
   "source": [
    "from os import listdir\n",
    "from os.path import isfile, join\n",
    "LTR_files = [f[5:] for f in listdir(\"/home/xhorvat9/ltr_bert/DatabaseGeneration/PositiveDB/LTRs\") if isfile(join(\"/home/xhorvat9/ltr_bert/DatabaseGeneration/PositiveDB/LTRs\", f))]\n",
    "gf = [f for f in listdir(genomes_path) if isfile(join(genomes_path, f))] + [f for f in listdir(genomes_path2) if isfile(join(genomes_path2, f))]\n",
    "missing = [g for g in gf if not any([LTR_file in g for LTR_file in LTR_files])]\n",
    "print(missing)"
   ]
  },
  {
   "cell_type": "code",
   "execution_count": 20,
   "metadata": {},
   "outputs": [],
   "source": [
    "LTR_files = [f[5:] for f in listdir(\"/home/xhorvat9/ltr_bert/DatabaseGeneration/PositiveDB/LTRs\") if isfile(join(\"/home/xhorvat9/ltr_bert/DatabaseGeneration/PositiveDB/LTRs\", f)) ]"
   ]
  },
  {
   "cell_type": "markdown",
   "metadata": {},
   "source": [
    "## Align LTR pairs to each other to verify annotation"
   ]
  },
  {
   "cell_type": "code",
   "execution_count": null,
   "metadata": {},
   "outputs": [],
   "source": [
    "from Bio import Align\n",
    "import tqdm\n",
    "import Bio.SeqIO as SeqIO\n",
    "aligner = Align.PairwiseAligner()\n",
    "aligner.mode = 'local'\n",
    "\n",
    "seq_dict = {}\n",
    "for f in tqdm.tqdm(LTR_files):\n",
    "    seq_dict[f] = {}\n",
    "    ltr5 = None\n",
    "    ltr3 = None\n",
    "    for rec in SeqIO.parse(f\"/home/xhorvat9/ltr_bert/DatabaseGeneration/PositiveDB/LTRs/LTRs_{f}\", \"fasta\"):\n",
    "        if ltr5 is None:\n",
    "            ltr5 = rec\n",
    "        else:\n",
    "            ltr3 = rec\n",
    "            idx = \"_\".join(rec.id.split(\"_\")[:-1])\n",
    "            # align sequences\n",
    "            try:\n",
    "                alignments = aligner.align(str(ltr5.seq),str(ltr3.seq))\n",
    "                alignment = alignments[0]\n",
    "                seq_dict[f][idx] = (alignment.score/min(len(ltr3.seq),len(ltr5.seq)), ltr5.description.split()[-1])\n",
    "                \n",
    "                \n",
    "            except IndexError:\n",
    "                #print(\"No optimal alignment for\", f, idx)\n",
    "                seq_dict[f][idx] = (0, ltr5.description.split()[-1])\n",
    "                \n",
    "            except ValueError:\n",
    "                print(\"Zero length sequence\", f, idx)\n",
    "            # reset sequences\n",
    "            ltr5 = None\n",
    "            ltr3 = None\n"
   ]
  },
  {
   "cell_type": "code",
   "execution_count": 24,
   "metadata": {},
   "outputs": [],
   "source": [
    "import json\n",
    "\n",
    "with open('alignments.txt', 'w') as convert_file:\n",
    "     convert_file.write(json.dumps(seq_dict))"
   ]
  },
  {
   "cell_type": "code",
   "execution_count": 1,
   "metadata": {},
   "outputs": [],
   "source": [
    "import json\n",
    "\n",
    "# Opening JSON file\n",
    "with open('alignments.txt', \"r\") as f:\n",
    "    seq_dict = json.load(f)"
   ]
  },
  {
   "cell_type": "code",
   "execution_count": null,
   "metadata": {},
   "outputs": [],
   "source": [
    "import seaborn as sns\n",
    "from statistics import mean\n",
    "import pandas as pd\n",
    "avg_identities = {species : mean(seq_dict[species][idx][0]for idx in seq_dict[species]) for species in seq_dict}\n",
    "df = pd.DataFrame({\"name\":list(avg_identities.keys()), \"mean identity\": list(avg_identities.values())})\n",
    "sns.set(rc={\"figure.figsize\":(18, 10)})\n",
    "g = sns.barplot(x = \"name\", y=\"mean identity\", data=df)\n",
    "g.set_xticklabels(g.get_xticklabels(),rotation = 90)"
   ]
  },
  {
   "cell_type": "markdown",
   "metadata": {},
   "source": [
    "# Filter sequences\n",
    " if sequence has 0 length or low identity, remove it\n",
    " \n",
    "Also remove Citrus sinensis, Musa acuminata and Cucumis melo altogether"
   ]
  },
  {
   "cell_type": "code",
   "execution_count": 5,
   "metadata": {},
   "outputs": [],
   "source": [
    "from os import listdir\n",
    "from os.path import isfile, join\n",
    "genomes_path = \"/mnt/extra/genomes/\"\n",
    "genomes_path2 = \"/opt/genomes/\"\n",
    "annotation_path = \"/opt/xhorvat9_TE_DBs/Genomes/Genomes/all_annotations/\"\n",
    "genome_files = [genomes_path + f for f in listdir(genomes_path) if isfile(join(genomes_path, f))] + [genomes_path2 + f for f in listdir(genomes_path2) if isfile(join(genomes_path2, f))]\n",
    "annotation_files = [f for f in listdir(annotation_path) if isfile(join(annotation_path, f))]\n",
    "\n",
    "def assign_annotation_file(genome_files, annotation_files):\n",
    "    annot_dict = {}\n",
    "    for a in annotation_files:\n",
    "        name = a[:-4]\n",
    "        # one exception\n",
    "        if \"Taraxacum\" in name:\n",
    "            annot_dict[name] = \"Taraxacum_kok-saghyz.genome.fasta.gz\"\n",
    "        else:\n",
    "            for g in genome_files:\n",
    "                if name in g:\n",
    "                    annot_dict[name] = g\n",
    "    return annot_dict\n",
    "annot_dict = assign_annotation_file(genome_files, annotation_files)"
   ]
  },
  {
   "cell_type": "code",
   "execution_count": 6,
   "metadata": {},
   "outputs": [
    {
     "name": "stdout",
     "output_type": "stream",
     "text": [
      "['Citrus_clementina_v1.0.genome.fa.gz', 'Paab.1_0b.fa.gz', 'Quercus_lobata.fa.gz', 'Populus_tremula_genome.fasta.gz', 'Eragrostis_tef_tef.fa.gz', 'Prunus_avium_v1.0.a1_pseudomolecule.fasta.gz', 'Mumian.Scaffold.fa.gz', 'Coffea_arabica.assembly.fa.gz', 'Solanum_chaocense_v4.1_PM_plus_chrUn.fa.gz', 'Pyrus_communis_v1.0-scaffolds.fna.gz', 'Arachis_monticola_all_genome_v1.2.fasta.gz', 'Vigna_radiata.VC1973A.gnm7.SB53.genome_main.fa.gz', 'Zostera_muelleri_v1_scaffolds.fa.gz', 'Rosa_chinensis_OBDH_1.0_formated.fasta.gz', 'Lupinus_angustifolius_gene_v2.0.fa.gz', 'Annuum.v1.6.Total.fa.gz', 'Pagl.1_0.fa.gz', 'Camptotheca_acuminata_genome_assembly_v2.4.fa.gz', 'Cuscuta_campestris_0.32.assembly.dna.fasta.gz', 'Saccharum_spp_R570_assembly.fna.gz', 'Actinidia_chinensis_Hongyang_genome_v3.0_update.fa.gz', 'Salvia_splendens_genome.fasta.gz', 'Malania_oleifera_genome.fa.gz', 'Oryza_glaberrima_V1.dna_sm.toplevel.fa.gz', 'Arachis_ipaensis_K30076.gnm2.1GWY.genome_main.fa.gz', 'Discaria_trinervis_v1.0.fa.gz', 'S_lycopersicum_chromosomes.4.00.fa.gz']\n"
     ]
    }
   ],
   "source": [
    "from os import listdir\n",
    "from os.path import isfile, join\n",
    "LTR_files = [f[5:] for f in listdir(\"/home/xhorvat9/ltr_bert/DatabaseGeneration/PositiveDB/LTRs\") if isfile(join(\"/home/xhorvat9/ltr_bert/DatabaseGeneration/PositiveDB/LTRs\", f))]\n",
    "gf = [f for f in listdir(genomes_path) if isfile(join(genomes_path, f))] + [f for f in listdir(genomes_path2) if isfile(join(genomes_path2, f))]\n",
    "missing = [g for g in gf if not any([LTR_file in g for LTR_file in LTR_files])]\n",
    "print(missing)"
   ]
  },
  {
   "cell_type": "code",
   "execution_count": 12,
   "metadata": {},
   "outputs": [],
   "source": [
    "import json\n",
    "  \n",
    "# Opening JSON file\n",
    "with open('alignments.txt', \"r\") as f:\n",
    "    seq_dict = json.load(f)"
   ]
  },
  {
   "cell_type": "code",
   "execution_count": 7,
   "metadata": {},
   "outputs": [
    {
     "name": "stderr",
     "output_type": "stream",
     "text": [
      "100%|██████████| 80/80 [00:11<00:00,  7.06it/s]\n"
     ]
    }
   ],
   "source": [
    "import Bio.SeqIO as SeqIO\n",
    "import numpy as np\n",
    "import tqdm\n",
    "# match sequences, their ID, family, lineage and identity in a pandas Dataframe\n",
    "seq_info = []\n",
    "alignment_info = []\n",
    "for LTR_file in tqdm.tqdm(LTR_files):\n",
    "    for rec in SeqIO.parse(f\"/home/xhorvat9/ltr_bert/DatabaseGeneration/PositiveDB/LTRs/LTRs_{LTR_file}\", \"fasta\"):\n",
    "        if \"ltr5\" in rec.id:\n",
    "            type = \"ltr5\"\n",
    "        else:\n",
    "            type = \"ltr3\"\n",
    "        _, superfamily, lineage, _ = rec.description.split()\n",
    "        seq_info.append([LTR_file, rec.seq, rec.id[:-5], type, superfamily, lineage])\n",
    "    for seq_id in seq_dict[LTR_file]:\n",
    "        alignment_info.append([seq_id, seq_dict[LTR_file][seq_id][0]])\n"
   ]
  },
  {
   "cell_type": "code",
   "execution_count": 8,
   "metadata": {},
   "outputs": [
    {
     "name": "stderr",
     "output_type": "stream",
     "text": [
      "/home/xhorvat9/miniconda3/envs/dnabert/lib/python3.6/site-packages/ipykernel_launcher.py:1: VisibleDeprecationWarning: Creating an ndarray from ragged nested sequences (which is a list-or-tuple of lists-or-tuples-or ndarrays with different lengths or shapes) is deprecated. If you meant to do this, you must specify 'dtype=object' when creating the ndarray\n",
      "  \"\"\"Entry point for launching an IPython kernel.\n"
     ]
    }
   ],
   "source": [
    "seq_info = np.array(seq_info)"
   ]
  },
  {
   "cell_type": "code",
   "execution_count": 9,
   "metadata": {},
   "outputs": [],
   "source": [
    "alignment_info = np.array(alignment_info)"
   ]
  },
  {
   "cell_type": "code",
   "execution_count": 10,
   "metadata": {},
   "outputs": [],
   "source": [
    "import pandas as pd\n",
    "LTRs_df = pd.DataFrame({\"Species\":seq_info[:, 0], \"Sequence\": seq_info[:, 1], \"ID\":seq_info[:, 2], \"LTR_type\": seq_info[:, 3], \"Superfamily\":seq_info[:, 4], \"Lineage\": seq_info[:, 5]})\n",
    "alignment = pd.DataFrame({\"ID\": alignment_info[:, 0], \"LTR_identity\": alignment_info[:, 1]})\n",
    "LTRs_df = LTRs_df.set_index(\"ID\")\n",
    "alignment = alignment.set_index(\"ID\")\n",
    "LTRs_df = LTRs_df.join(alignment)"
   ]
  },
  {
   "cell_type": "code",
   "execution_count": 11,
   "metadata": {},
   "outputs": [],
   "source": [
    "LTRs_df[\"Sequence\"] = LTRs_df[\"Sequence\"].apply(lambda sequence: str(sequence))"
   ]
  },
  {
   "cell_type": "code",
   "execution_count": 27,
   "metadata": {},
   "outputs": [
    {
     "data": {
      "text/plain": [
       "['Citrus_sinensis_v2.0.genome.fa',\n",
       " 'Cicer_arietinum_CDCFrontier.gnm3.QT0P.genome_main.fa',\n",
       " 'Musa_acuminata_pahang_v4.fa',\n",
       " 'Echinochloa_crus-galii.fasta',\n",
       " 'Cucumis_melo_genome_pseudomolecules_V3.5.fasta']"
      ]
     },
     "execution_count": 27,
     "metadata": {},
     "output_type": "execute_result"
    }
   ],
   "source": [
    "list(df[df[\"mean identity\"] < 0.8].name)"
   ]
  },
  {
   "cell_type": "code",
   "execution_count": 41,
   "metadata": {},
   "outputs": [
    {
     "data": {
      "text/html": [
       "<div>\n",
       "<style scoped>\n",
       "    .dataframe tbody tr th:only-of-type {\n",
       "        vertical-align: middle;\n",
       "    }\n",
       "\n",
       "    .dataframe tbody tr th {\n",
       "        vertical-align: top;\n",
       "    }\n",
       "\n",
       "    .dataframe thead th {\n",
       "        text-align: right;\n",
       "    }\n",
       "</style>\n",
       "<table border=\"1\" class=\"dataframe\">\n",
       "  <thead>\n",
       "    <tr style=\"text-align: right;\">\n",
       "      <th></th>\n",
       "      <th>Species</th>\n",
       "      <th>Sequence</th>\n",
       "      <th>LTR_type</th>\n",
       "      <th>Superfamily</th>\n",
       "      <th>Lineage</th>\n",
       "      <th>LTR_identity</th>\n",
       "    </tr>\n",
       "    <tr>\n",
       "      <th>ID</th>\n",
       "      <th></th>\n",
       "      <th></th>\n",
       "      <th></th>\n",
       "      <th></th>\n",
       "      <th></th>\n",
       "      <th></th>\n",
       "    </tr>\n",
       "  </thead>\n",
       "  <tbody>\n",
       "    <tr>\n",
       "      <th>0015.scaffold00050_178341_185724</th>\n",
       "      <td>Beta_vulgaris_v1.2.fa</td>\n",
       "      <td>GGAGTAGGGAGCAAAGATGTAATACTCCGTATTTTTGGAGTTAATT...</td>\n",
       "      <td>ltr5</td>\n",
       "      <td>gypsy</td>\n",
       "      <td>Tekay</td>\n",
       "      <td>0.945000</td>\n",
       "    </tr>\n",
       "    <tr>\n",
       "      <th>0015.scaffold00050_254985_260326</th>\n",
       "      <td>Beta_vulgaris_v1.2.fa</td>\n",
       "      <td>GTAGGATATTTTGGAGTAATACTGTGGAAAGATTAACAACAAATAA...</td>\n",
       "      <td>ltr5</td>\n",
       "      <td>copia</td>\n",
       "      <td>Alesia</td>\n",
       "      <td>0.984615</td>\n",
       "    </tr>\n",
       "    <tr>\n",
       "      <th>0018.scaffold00058_171143_176132</th>\n",
       "      <td>Beta_vulgaris_v1.2.fa</td>\n",
       "      <td>TACAAAAATATCTCTAACTACAATCTTATCTTTATCAATACATGAA...</td>\n",
       "      <td>ltr5</td>\n",
       "      <td>copia</td>\n",
       "      <td>Ale</td>\n",
       "      <td>0.941748</td>\n",
       "    </tr>\n",
       "    <tr>\n",
       "      <th>0019.scaffold00065_36156_46000</th>\n",
       "      <td>Beta_vulgaris_v1.2.fa</td>\n",
       "      <td>TACGCAACGACGCGATGATTCAATGACATGATGCCATCTGACATGA...</td>\n",
       "      <td>ltr5</td>\n",
       "      <td>gypsy</td>\n",
       "      <td>Retand</td>\n",
       "      <td>0.975083</td>\n",
       "    </tr>\n",
       "    <tr>\n",
       "      <th>0020.scaffold00069_399781_404982</th>\n",
       "      <td>Beta_vulgaris_v1.2.fa</td>\n",
       "      <td>CAATGTGTAGAAATATGCCTTGAATCATTGTGCATCGAAGGTGTTC...</td>\n",
       "      <td>ltr5</td>\n",
       "      <td>copia</td>\n",
       "      <td>Tork</td>\n",
       "      <td>0.990893</td>\n",
       "    </tr>\n",
       "    <tr>\n",
       "      <th>...</th>\n",
       "      <td>...</td>\n",
       "      <td>...</td>\n",
       "      <td>...</td>\n",
       "      <td>...</td>\n",
       "      <td>...</td>\n",
       "      <td>...</td>\n",
       "    </tr>\n",
       "    <tr>\n",
       "      <th>utg99796_39991_51594</th>\n",
       "      <td>Chrysanthemum_nankingense_scaffolds_v2.0.fasta</td>\n",
       "      <td>AACCATCTAGCGTAATTTTAGGCTAAATATCCAAAGATAACCTTAG...</td>\n",
       "      <td>ltr5</td>\n",
       "      <td>copia</td>\n",
       "      <td>Ale</td>\n",
       "      <td>0.941176</td>\n",
       "    </tr>\n",
       "    <tr>\n",
       "      <th>utg997_59646_65214</th>\n",
       "      <td>Chrysanthemum_nankingense_scaffolds_v2.0.fasta</td>\n",
       "      <td>CTGTTATGACTGCTTTATGACCACGTTTAATTGGTCATGTAACCAC...</td>\n",
       "      <td>ltr5</td>\n",
       "      <td>copia</td>\n",
       "      <td>TAR</td>\n",
       "      <td>0.973529</td>\n",
       "    </tr>\n",
       "    <tr>\n",
       "      <th>utg998_36947_41877</th>\n",
       "      <td>Chrysanthemum_nankingense_scaffolds_v2.0.fasta</td>\n",
       "      <td>GTTGGGCTAATGACTGACCCGAGCTTATGGGGCAGTAGCCATCTAC...</td>\n",
       "      <td>ltr5</td>\n",
       "      <td>copia</td>\n",
       "      <td>Ivana</td>\n",
       "      <td>1.000000</td>\n",
       "    </tr>\n",
       "    <tr>\n",
       "      <th>utg9996_40487_50208</th>\n",
       "      <td>Chrysanthemum_nankingense_scaffolds_v2.0.fasta</td>\n",
       "      <td>ATTATTCAACTAGTCATAATCATTTTGTCTATGGATGATTGTTTTT...</td>\n",
       "      <td>ltr5</td>\n",
       "      <td>gypsy</td>\n",
       "      <td>Athila</td>\n",
       "      <td>0.994318</td>\n",
       "    </tr>\n",
       "    <tr>\n",
       "      <th>utg99996_4269_13672</th>\n",
       "      <td>Chrysanthemum_nankingense_scaffolds_v2.0.fasta</td>\n",
       "      <td>TACGGAGGCCCAAGCCCCAATCTATTCATGGAATAGATATTCGATA...</td>\n",
       "      <td>ltr5</td>\n",
       "      <td>gypsy</td>\n",
       "      <td>Retand</td>\n",
       "      <td>0.952756</td>\n",
       "    </tr>\n",
       "  </tbody>\n",
       "</table>\n",
       "<p>509739 rows × 6 columns</p>\n",
       "</div>"
      ],
      "text/plain": [
       "                                                                         Species  \\\n",
       "ID                                                                                 \n",
       "0015.scaffold00050_178341_185724                           Beta_vulgaris_v1.2.fa   \n",
       "0015.scaffold00050_254985_260326                           Beta_vulgaris_v1.2.fa   \n",
       "0018.scaffold00058_171143_176132                           Beta_vulgaris_v1.2.fa   \n",
       "0019.scaffold00065_36156_46000                             Beta_vulgaris_v1.2.fa   \n",
       "0020.scaffold00069_399781_404982                           Beta_vulgaris_v1.2.fa   \n",
       "...                                                                          ...   \n",
       "utg99796_39991_51594              Chrysanthemum_nankingense_scaffolds_v2.0.fasta   \n",
       "utg997_59646_65214                Chrysanthemum_nankingense_scaffolds_v2.0.fasta   \n",
       "utg998_36947_41877                Chrysanthemum_nankingense_scaffolds_v2.0.fasta   \n",
       "utg9996_40487_50208               Chrysanthemum_nankingense_scaffolds_v2.0.fasta   \n",
       "utg99996_4269_13672               Chrysanthemum_nankingense_scaffolds_v2.0.fasta   \n",
       "\n",
       "                                                                           Sequence  \\\n",
       "ID                                                                                    \n",
       "0015.scaffold00050_178341_185724  GGAGTAGGGAGCAAAGATGTAATACTCCGTATTTTTGGAGTTAATT...   \n",
       "0015.scaffold00050_254985_260326  GTAGGATATTTTGGAGTAATACTGTGGAAAGATTAACAACAAATAA...   \n",
       "0018.scaffold00058_171143_176132  TACAAAAATATCTCTAACTACAATCTTATCTTTATCAATACATGAA...   \n",
       "0019.scaffold00065_36156_46000    TACGCAACGACGCGATGATTCAATGACATGATGCCATCTGACATGA...   \n",
       "0020.scaffold00069_399781_404982  CAATGTGTAGAAATATGCCTTGAATCATTGTGCATCGAAGGTGTTC...   \n",
       "...                                                                             ...   \n",
       "utg99796_39991_51594              AACCATCTAGCGTAATTTTAGGCTAAATATCCAAAGATAACCTTAG...   \n",
       "utg997_59646_65214                CTGTTATGACTGCTTTATGACCACGTTTAATTGGTCATGTAACCAC...   \n",
       "utg998_36947_41877                GTTGGGCTAATGACTGACCCGAGCTTATGGGGCAGTAGCCATCTAC...   \n",
       "utg9996_40487_50208               ATTATTCAACTAGTCATAATCATTTTGTCTATGGATGATTGTTTTT...   \n",
       "utg99996_4269_13672               TACGGAGGCCCAAGCCCCAATCTATTCATGGAATAGATATTCGATA...   \n",
       "\n",
       "                                 LTR_type Superfamily Lineage  LTR_identity  \n",
       "ID                                                                           \n",
       "0015.scaffold00050_178341_185724     ltr5       gypsy   Tekay      0.945000  \n",
       "0015.scaffold00050_254985_260326     ltr5       copia  Alesia      0.984615  \n",
       "0018.scaffold00058_171143_176132     ltr5       copia     Ale      0.941748  \n",
       "0019.scaffold00065_36156_46000       ltr5       gypsy  Retand      0.975083  \n",
       "0020.scaffold00069_399781_404982     ltr5       copia    Tork      0.990893  \n",
       "...                                   ...         ...     ...           ...  \n",
       "utg99796_39991_51594                 ltr5       copia     Ale      0.941176  \n",
       "utg997_59646_65214                   ltr5       copia     TAR      0.973529  \n",
       "utg998_36947_41877                   ltr5       copia   Ivana      1.000000  \n",
       "utg9996_40487_50208                  ltr5       gypsy  Athila      0.994318  \n",
       "utg99996_4269_13672                  ltr5       gypsy  Retand      0.952756  \n",
       "\n",
       "[509739 rows x 6 columns]"
      ]
     },
     "execution_count": 41,
     "metadata": {},
     "output_type": "execute_result"
    }
   ],
   "source": [
    "LTRs_df = LTRs_df[~LTRs_df['Species'].isin(list(df[df[\"mean identity\"] < 0.8].name))]\n",
    "LTRs_df = LTRs_df[LTRs_df[\"LTR_type\"].str.contains(\"ltr5\")]\n",
    "LTRs_df = LTRs_df[LTRs_df[\"Sequence\"].apply(lambda x: len(x)) > 10]\n",
    "LTRs_df[\"LTR_identity\"] = LTRs_df[\"LTR_identity\"].astype(float)\n",
    "LTRs_df = LTRs_df[LTRs_df[\"LTR_identity\"] > 0.7]\n",
    "LTRs_df"
   ]
  },
  {
   "cell_type": "code",
   "execution_count": 43,
   "metadata": {},
   "outputs": [],
   "source": [
    "LTRs_df.to_csv(\"LTRs.csv\")"
   ]
  },
  {
   "cell_type": "code",
   "execution_count": 42,
   "metadata": {},
   "outputs": [
    {
     "data": {
      "text/plain": [
       "<AxesSubplot:xlabel='LTR_identity', ylabel='Count'>"
      ]
     },
     "execution_count": 42,
     "metadata": {},
     "output_type": "execute_result"
    },
    {
     "data": {
      "image/png": "[encoded data removed]",
      "text/plain": [
       "<Figure size 1296x720 with 1 Axes>"
      ]
     },
     "metadata": {},
     "output_type": "display_data"
    }
   ],
   "source": [
    "sns.histplot(LTRs_df[\"LTR_identity\"])"
   ]
  },
  {
   "cell_type": "code",
   "execution_count": 44,
   "metadata": {},
   "outputs": [],
   "source": [
    "LTRs_df[\"ID\"] = LTRs_df.index"
   ]
  },
  {
   "cell_type": "code",
   "execution_count": 82,
   "metadata": {},
   "outputs": [
    {
     "data": {
      "text/plain": [
       "509739"
      ]
     },
     "execution_count": 82,
     "metadata": {},
     "output_type": "execute_result"
    }
   ],
   "source": [
    "from Bio.SeqRecord import SeqRecord\n",
    "from Bio.Seq import Seq\n",
    "def row_to_record(row):\n",
    "    LTR_type = row[\"LTR_type\"]\n",
    "    Superfamily = row[\"Superfamily\"]\n",
    "    Lineage = row[\"Lineage\"]\n",
    "    Species = row[\"Species\"]\n",
    "    seq_record = SeqRecord(seq=Seq(row[\"Sequence\"]), id=row[\"ID\"], description=f'{Species} {LTR_type} {Superfamily} {Lineage}')\n",
    "    return seq_record\n",
    "\n",
    "seq_records = [row_to_record(row) for _, row in LTRs_df.iterrows()]\n",
    "\n",
    "import Bio.SeqIO as SeqIO\n",
    "SeqIO.write(seq_records, open(\"filtered_sequences.fasta\", \"w+\"), \"fasta\")"
   ]
  },
  {
   "cell_type": "code",
   "execution_count": 75,
   "metadata": {},
   "outputs": [],
   "source": [
    "LTRs_df = pd.read_csv(\"LTRs.csv\")"
   ]
  },
  {
   "cell_type": "code",
   "execution_count": 68,
   "metadata": {},
   "outputs": [
    {
     "data": {
      "text/plain": [
       "Angela         86565\n",
       "Tekay          67472\n",
       "CRM            66023\n",
       "Athila         51278\n",
       "Retand         47822\n",
       "SIRE           37100\n",
       "Ale            35106\n",
       "Tork           23777\n",
       "TatII          17701\n",
       "TAR            10939\n",
       "Ivana          10880\n",
       "copia          10065\n",
       "Reina           9947\n",
       "Ikeros          9214\n",
       "Gymco-II        5135\n",
       "Bianca          4178\n",
       "TatIII          4010\n",
       "Ogre            3416\n",
       "Galadriel       2188\n",
       "NAN             1314\n",
       "Gymco-IV        1302\n",
       "chromovirus      750\n",
       "Alesia           515\n",
       "Name: Lineage, dtype: int64"
      ]
     },
     "execution_count": 68,
     "metadata": {},
     "output_type": "execute_result"
    }
   ],
   "source": [
    "LTRs_df[\"Lineage\"].value_counts()[:23]"
   ]
  },
  {
   "cell_type": "code",
   "execution_count": 76,
   "metadata": {},
   "outputs": [],
   "source": [
    "def convert_lineage_name(lineage_names, name):\n",
    "    current_lineage = \"\"\n",
    "    for l in lineage_names:\n",
    "        if l.lower() in name.lower():\n",
    "            if len(current_lineage) < len(l):\n",
    "                current_lineage = l\n",
    "    if current_lineage == \"\":\n",
    "        return name\n",
    "    return current_lineage\n",
    "\n",
    "lin_names = list(LTRs_df[\"Lineage\"].value_counts()[:23].index)\n",
    "LTRs_df[\"Lineage\"] = LTRs_df[\"Lineage\"].apply(lambda x: convert_lineage_name(lin_names, x))"
   ]
  },
  {
   "cell_type": "code",
   "execution_count": 78,
   "metadata": {},
   "outputs": [
    {
     "data": {
      "text/plain": [
       "Text(0.5, 1.0, 'LTRs with identity < 80%')"
      ]
     },
     "execution_count": 78,
     "metadata": {},
     "output_type": "execute_result"
    },
    {
     "data": {
      "image/png": "[encoded data removed]",
      "text/plain": [
       "<Figure size 1296x720 with 1 Axes>"
      ]
     },
     "metadata": {},
     "output_type": "display_data"
    }
   ],
   "source": [
    "import seaborn as sns\n",
    "sns.histplot(data=LTRs_df[LTRs_df[\"LTR_identity\"] <= 0.8][\"LTR_identity\"]).set_title(\"LTRs with identity < 80%\") "
   ]
  },
  {
   "cell_type": "code",
   "execution_count": 79,
   "metadata": {},
   "outputs": [
    {
     "data": {
      "text/plain": [
       "Text(0.5, 1.0, 'LTRs with identity > 80%')"
      ]
     },
     "execution_count": 79,
     "metadata": {},
     "output_type": "execute_result"
    },
    {
     "data": {
      "image/png": "[encoded data removed]",
      "text/plain": [
       "<Figure size 1296x720 with 1 Axes>"
      ]
     },
     "metadata": {},
     "output_type": "display_data"
    }
   ],
   "source": [
    "sns.histplot(data=LTRs_df[LTRs_df[\"LTR_identity\"] > 0.8][\"LTR_identity\"]).set_title(\"LTRs with identity > 80%\") "
   ]
  },
  {
   "cell_type": "code",
   "execution_count": 80,
   "metadata": {},
   "outputs": [
    {
     "data": {
      "text/plain": [
       "Text(0.5, 1.0, 'LTR sequence length')"
      ]
     },
     "execution_count": 80,
     "metadata": {},
     "output_type": "execute_result"
    },
    {
     "data": {
      "image/png": "[encoded data removed]",
      "text/plain": [
       "<Figure size 1296x720 with 1 Axes>"
      ]
     },
     "metadata": {},
     "output_type": "display_data"
    }
   ],
   "source": [
    "length = LTRs_df[\"Sequence\"].apply(lambda x: len(x))\n",
    "sns.histplot(length).set_title(\"LTR sequence length\")"
   ]
  },
  {
   "cell_type": "code",
   "execution_count": 81,
   "metadata": {},
   "outputs": [
    {
     "name": "stderr",
     "output_type": "stream",
     "text": [
      "/home/xhorvat9/miniconda3/envs/dnabert/lib/python3.6/site-packages/seaborn/_decorators.py:43: FutureWarning: Pass the following variable as a keyword arg: x. From version 0.12, the only valid positional argument will be `data`, and passing other arguments without an explicit keyword will result in an error or misinterpretation.\n",
      "  FutureWarning\n"
     ]
    },
    {
     "data": {
      "text/plain": [
       "[Text(0, 0, 'Tekay'),\n",
       " Text(1, 0, 'Alesia'),\n",
       " Text(2, 0, 'Ale'),\n",
       " Text(3, 0, 'Retand'),\n",
       " Text(4, 0, 'Tork'),\n",
       " Text(5, 0, 'Ivana'),\n",
       " Text(6, 0, 'TAR'),\n",
       " Text(7, 0, 'CRM'),\n",
       " Text(8, 0, 'Athila'),\n",
       " Text(9, 0, 'Angela'),\n",
       " Text(10, 0, 'Reina'),\n",
       " Text(11, 0, 'SIRE'),\n",
       " Text(12, 0, 'Bianca'),\n",
       " Text(13, 0, 'Ikeros'),\n",
       " Text(14, 0, 'Ogre'),\n",
       " Text(15, 0, 'Galadriel'),\n",
       " Text(16, 0, 'NAN'),\n",
       " Text(17, 0, 'TatII'),\n",
       " Text(18, 0, 'copia'),\n",
       " Text(19, 0, 'Chlamyvir'),\n",
       " Text(20, 0, 'Osser'),\n",
       " Text(21, 0, 'chromo-unclass'),\n",
       " Text(22, 0, 'TatIII'),\n",
       " Text(23, 0, 'Gymco-II'),\n",
       " Text(24, 0, 'chromovirus'),\n",
       " Text(25, 0, 'Gymco-IV'),\n",
       " Text(26, 0, 'Gymco-I'),\n",
       " Text(27, 0, 'OTA'),\n",
       " Text(28, 0, 'Tat')]"
      ]
     },
     "execution_count": 81,
     "metadata": {},
     "output_type": "execute_result"
    },
    {
     "data": {
      "image/png": "[encoded data removed]",
      "text/plain": [
       "<Figure size 1296x720 with 1 Axes>"
      ]
     },
     "metadata": {},
     "output_type": "display_data"
    }
   ],
   "source": [
    "g = sns.countplot(LTRs_df[\"Lineage\"])\n",
    "g.set_xticklabels(g.get_xticklabels(),rotation = 90)"
   ]
  },
  {
   "cell_type": "code",
   "execution_count": null,
   "metadata": {},
   "outputs": [],
   "source": [
    "from scipy.stats import ranksums\n",
    "\n",
    "rejected = 0\n",
    "accepted = 0\n",
    "total_seq_count = 0\n",
    "for species in seq_dict:\n",
    "    alignment_identity = [seq_dict[species][ltr][0] for ltr in seq_dict[species]]\n",
    "    divergence = [seq_dict[species][ltr][1] for ltr in seq_dict[species]]\n",
    "    res = ranksums(alignment_identity, divergence)\n",
    "    print(f\"Means for {species} are identical:\", res[1]>0.05)\n",
    "    if res[1]>0.05:\n",
    "        accepted += 1\n",
    "    else:\n",
    "        rejected += 1\n",
    "    total_seq_count += len(alignment_identity)"
   ]
  },
  {
   "cell_type": "code",
   "execution_count": null,
   "metadata": {},
   "outputs": [],
   "source": [
    "import seaborn as sns\n",
    "sns.set(rc={'figure.figsize':(11.7,8.27)})\n",
    "sns.histplot([seq_dict[\"LTRs_Fagopyrum_esculentum_r1.0.fa\"][ltr][0] for ltr in seq_dict[\"LTRs_Fagopyrum_esculentum_r1.0.fa\"]], bins=100)\n",
    "sns.histplot([seq_dict[\"LTRs_Fagopyrum_esculentum_r1.0.fa\"][ltr][1] for ltr in seq_dict[\"LTRs_Fagopyrum_esculentum_r1.0.fa\"]], bins=100)"
   ]
  },
  {
   "cell_type": "code",
   "execution_count": 27,
   "metadata": {},
   "outputs": [
    {
     "name": "stderr",
     "output_type": "stream",
     "text": [
      "100%|██████████| 16/16 [00:01<00:00, 12.88it/s]\n"
     ]
    }
   ],
   "source": [
    "genome_sequences = {}\n",
    "for genome in tqdm.tqdm(annot_dict):\n",
    "    genome_sequences[genome] = []\n",
    "    for ltr_id in LTRs:\n",
    "        try:\n",
    "            chromosome = ltr_id.split(\"_\")[0]\n",
    "            start5 = LTRs[ltr_id][0][\"Start\"]\n",
    "            end5 = LTRs[ltr_id][0][\"End\"]\n",
    "            \n",
    "            seq5 = chromosome_sequences[genome][chromosome][start5:end5]\n",
    "\n",
    "            start3 = LTRs[ltr_id][1][\"Start\"]\n",
    "            end3 = LTRs[ltr_id][1][\"End\"]\n",
    "            seq3 = chromosome_sequences[genome][chromosome][start3:end3]\n",
    "\n",
    "            genome_sequences[genome].append((seq5, seq3))\n",
    "        except KeyError:\n",
    "            continue"
   ]
  },
  {
   "cell_type": "code",
   "execution_count": null,
   "metadata": {},
   "outputs": [],
   "source": [
    "for a in genome_sequences:\n",
    "    if len(genome_sequences[a]) == 0:\n",
    "        print(\"Scaffold mismatch for:\", a)"
   ]
  },
  {
   "cell_type": "code",
   "execution_count": 39,
   "metadata": {},
   "outputs": [
    {
     "name": "stderr",
     "output_type": "stream",
     "text": [
      "100%|██████████| 16/16 [04:30<00:00, 16.91s/it]\n"
     ]
    }
   ],
   "source": [
    "# gap_score = 0, mismatch = 0, match = 1\n",
    "from Bio import Align\n",
    "aligner = Align.PairwiseAligner()\n",
    "aligner.mode = 'local'\n",
    "scores = {}\n",
    "for genome in tqdm.tqdm(genome_sequences):\n",
    "    scores[genome] = []\n",
    "    for LTR_pairs in genome_sequences[genome]:\n",
    "        try:\n",
    "    \n",
    "            alignments = aligner.align(str(LTR_pairs[0]),str(LTR_pairs[1]))\n",
    "            alignment = alignments[0]\n",
    "            scores[genome].append({\"seq_len\":len(LTR_pairs[0]), \"score\":alignment.score})\n",
    "        except:\n",
    "            continue"
   ]
  },
  {
   "cell_type": "code",
   "execution_count": 42,
   "metadata": {},
   "outputs": [],
   "source": [
    "import json\n",
    "  \n",
    "\n",
    "with open('alignments.txt', 'w') as convert_file:\n",
    "     convert_file.write(json.dumps(scores))"
   ]
  },
  {
   "cell_type": "code",
   "execution_count": 53,
   "metadata": {},
   "outputs": [],
   "source": [
    "avg_scores = {}\n",
    "\n",
    "for g in scores:\n",
    "    count = 0\n",
    "    total = 0\n",
    "    for s in scores[g]:\n",
    "        count += 1\n",
    "        total +=  s[\"score\"] / s[\"seq_len\"]\n",
    "    if count == 0:\n",
    "        avg_scores[g] = 0\n",
    "    else:\n",
    "        avg_scores[g] = round(total / count,2) *100\n"
   ]
  },
  {
   "cell_type": "code",
   "execution_count": null,
   "metadata": {},
   "outputs": [],
   "source": [
    "avg_scores"
   ]
  },
  {
   "cell_type": "code",
   "execution_count": 55,
   "metadata": {},
   "outputs": [],
   "source": [
    "count = 0\n",
    "total = 0\n",
    "d = []\n",
    "for s in scores[\"Dimocarpus_longan\"]:\n",
    "    count += 1\n",
    "    d.append( s[\"score\"] / s[\"seq_len\"])\n",
    "if count == 0:\n",
    "    avg_scores[\"Dimocarpus_longan\"] = 0\n",
    "else:\n",
    "    avg_scores[\"Dimocarpus_longan\"] = round(total / count,2) *100\n"
   ]
  },
  {
   "cell_type": "code",
   "execution_count": 58,
   "metadata": {},
   "outputs": [
    {
     "data": {
      "text/plain": [
       "<AxesSubplot:ylabel='Count'>"
      ]
     },
     "execution_count": 58,
     "metadata": {},
     "output_type": "execute_result"
    },
    {
     "data": {
      "image/png": "[encoded data removed]",
      "text/plain": [
       "<Figure size 432x288 with 1 Axes>"
      ]
     },
     "metadata": {
      "needs_background": "light"
     },
     "output_type": "display_data"
    }
   ],
   "source": [
    "import seaborn as sns\n",
    "sns.histplot(d)"
   ]
  },
  {
   "cell_type": "code",
   "execution_count": null,
   "metadata": {},
   "outputs": [],
   "source": []
  }
 ],
 "metadata": {
  "kernelspec": {
   "display_name": "Python 3 (ipykernel)",
   "language": "python",
   "name": "python3"
  },
  "language_info": {
   "codemirror_mode": {
    "name": "ipython",
    "version": 3
   },
   "file_extension": ".py",
   "mimetype": "text/x-python",
   "name": "python",
   "nbconvert_exporter": "python",
   "pygments_lexer": "ipython3",
   "version": "3.6.13"
  },
  "orig_nbformat": 4,
  "vscode": {
   "interpreter": {
    "hash": "8ddc70327b76d10aac04211116ea28acfaef64237450cabed86c785070e99423"
   }
  }
 },
 "nbformat": 4,
 "nbformat_minor": 2
}
